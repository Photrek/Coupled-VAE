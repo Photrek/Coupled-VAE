{
  "nbformat": 4,
  "nbformat_minor": 0,
  "metadata": {
    "accelerator": "GPU",
    "colab": {
      "name": "vae_v3.2.ipynb",
      "provenance": [],
      "collapsed_sections": [
        "Jca8Me8XSd2r"
      ],
      "machine_shape": "hm"
    },
    "kernelspec": {
      "display_name": "Python 3",
      "language": "python",
      "name": "python3"
    },
    "language_info": {
      "codemirror_mode": {
        "name": "ipython",
        "version": 3
      },
      "file_extension": ".py",
      "mimetype": "text/x-python",
      "name": "python",
      "nbconvert_exporter": "python",
      "pygments_lexer": "ipython3",
      "version": "3.7.1"
    }
  },
  "cells": [
    {
      "cell_type": "markdown",
      "metadata": {
        "id": "MEJjn06qaEDP"
      },
      "source": [
        "#### **1) Libraries**"
      ]
    },
    {
      "cell_type": "code",
      "metadata": {
        "id": "cPyJih55aEDQ"
      },
      "source": [
        "# Don't forget to restart\n",
        "# !pip install -U tensorflow_probability -q\n",
        "!pip install ipdb -q"
      ],
      "execution_count": 1,
      "outputs": []
    },
    {
      "cell_type": "code",
      "metadata": {
        "id": "c_sk90OFaEDT"
      },
      "source": [
        "from IPython import display\n",
        "\n",
        "import ipdb\n",
        "import glob\n",
        "import imageio\n",
        "import matplotlib.pyplot as plt\n",
        "import seaborn as sns\n",
        "sns.set()\n",
        "\n",
        "import numpy as np\n",
        "import PIL\n",
        "import tensorflow as tf\n",
        "import tensorflow_datasets as tfds\n",
        "import tensorflow_probability as tfp\n",
        "import time\n",
        "from tqdm import tqdm\n",
        "\n",
        "from tensorflow import keras\n",
        "from tensorflow.keras.layers import Input, InputLayer, Lambda, Reshape, Dropout, \\\n",
        "                                    Flatten, Dense, Conv2D, Conv2DTranspose\n"
      ],
      "execution_count": 2,
      "outputs": []
    },
    {
      "cell_type": "code",
      "metadata": {
        "id": "lH0o4f7xUfUQ"
      },
      "source": [
        "# pip list | grep tensorflow"
      ],
      "execution_count": 3,
      "outputs": []
    },
    {
      "cell_type": "code",
      "metadata": {
        "colab": {
          "base_uri": "https://localhost:8080/"
        },
        "id": "P1M4C3hA88oN",
        "outputId": "1a894599-dbfc-48d0-ad08-c4417227c3b3"
      },
      "source": [
        "if tf.test.gpu_device_name() != '/device:GPU:0':\n",
        "    print('WARNING: GPU device not found.')\n",
        "else:\n",
        "    print('SUCCESS: Found GPU: {}'.format(tf.test.gpu_device_name()))"
      ],
      "execution_count": 4,
      "outputs": [
        {
          "output_type": "stream",
          "text": [
            "SUCCESS: Found GPU: /device:GPU:0\n"
          ],
          "name": "stdout"
        }
      ]
    },
    {
      "cell_type": "markdown",
      "metadata": {
        "id": "D1m4X6DJGb52"
      },
      "source": [
        "If using Google Colab, save in your Google Drive."
      ]
    },
    {
      "cell_type": "code",
      "metadata": {
        "colab": {
          "base_uri": "https://localhost:8080/"
        },
        "id": "zcpWSzBBGayV",
        "outputId": "5c88b267-37b7-4790-a293-a5091d56f151"
      },
      "source": [
        "from google.colab import drive\n",
        "\n",
        "drive.mount('/content/gdrive')"
      ],
      "execution_count": 5,
      "outputs": [
        {
          "output_type": "stream",
          "text": [
            "Drive already mounted at /content/gdrive; to attempt to forcibly remount, call drive.mount(\"/content/gdrive\", force_remount=True).\n"
          ],
          "name": "stdout"
        }
      ]
    },
    {
      "cell_type": "markdown",
      "metadata": {
        "id": "4RKA0uShaEDW"
      },
      "source": [
        "#### **2) Extract Data**"
      ]
    },
    {
      "cell_type": "code",
      "metadata": {
        "id": "63HS2FEDhIVY"
      },
      "source": [
        "BATCH_SIZE = 32"
      ],
      "execution_count": 6,
      "outputs": []
    },
    {
      "cell_type": "markdown",
      "metadata": {
        "id": "EHg5gXFrzIyd"
      },
      "source": [
        "##### **2a) MNIST Data**"
      ]
    },
    {
      "cell_type": "code",
      "metadata": {
        "id": "XHB89VOH8wC1"
      },
      "source": [
        "datasets, datasets_info = tfds.load(name='mnist',\n",
        "                                    with_info=True,\n",
        "                                    as_supervised=False\n",
        "                                    )"
      ],
      "execution_count": 7,
      "outputs": []
    },
    {
      "cell_type": "code",
      "metadata": {
        "colab": {
          "base_uri": "https://localhost:8080/"
        },
        "id": "pXegHUTlmTh4",
        "outputId": "96ac738e-e3f8-4e2e-d0ac-c1d6f9852344"
      },
      "source": [
        "print(datasets_info)"
      ],
      "execution_count": 8,
      "outputs": [
        {
          "output_type": "stream",
          "text": [
            "tfds.core.DatasetInfo(\n",
            "    name='mnist',\n",
            "    version=3.0.1,\n",
            "    description='The MNIST database of handwritten digits.',\n",
            "    homepage='http://yann.lecun.com/exdb/mnist/',\n",
            "    features=FeaturesDict({\n",
            "        'image': Image(shape=(28, 28, 1), dtype=tf.uint8),\n",
            "        'label': ClassLabel(shape=(), dtype=tf.int64, num_classes=10),\n",
            "    }),\n",
            "    total_num_examples=70000,\n",
            "    splits={\n",
            "        'test': 10000,\n",
            "        'train': 60000,\n",
            "    },\n",
            "    supervised_keys=('image', 'label'),\n",
            "    citation=\"\"\"@article{lecun2010mnist,\n",
            "      title={MNIST handwritten digit database},\n",
            "      author={LeCun, Yann and Cortes, Corinna and Burges, CJ},\n",
            "      journal={ATT Labs [Online]. Available: http://yann.lecun.com/exdb/mnist},\n",
            "      volume={2},\n",
            "      year={2010}\n",
            "    }\"\"\",\n",
            "    redistribution_info=,\n",
            ")\n",
            "\n"
          ],
          "name": "stdout"
        }
      ]
    },
    {
      "cell_type": "code",
      "metadata": {
        "colab": {
          "base_uri": "https://localhost:8080/"
        },
        "id": "8S8CCb65meJL",
        "outputId": "fe3b3754-0b79-4914-9193-0053870ee0f2"
      },
      "source": [
        "type(datasets['train'])"
      ],
      "execution_count": 9,
      "outputs": [
        {
          "output_type": "execute_result",
          "data": {
            "text/plain": [
              "tensorflow.python.data.ops.dataset_ops.PrefetchDataset"
            ]
          },
          "metadata": {
            "tags": []
          },
          "execution_count": 9
        }
      ]
    },
    {
      "cell_type": "code",
      "metadata": {
        "colab": {
          "base_uri": "https://localhost:8080/",
          "height": 484
        },
        "id": "iPuPzrU4yfC3",
        "outputId": "01eda9b3-a765-4ad3-f473-86e6e3e93ddf"
      },
      "source": [
        "# View some examples from the dataset\n",
        "fig, axes = plt.subplots(3, 3, figsize=(8, 8))\n",
        "fig.subplots_adjust(hspace=0.2, wspace=0.1)\n",
        "\n",
        "for i, (elem, ax) in enumerate(zip(datasets['train'], axes.flat)):\n",
        "    image = tf.squeeze(elem['image'])\n",
        "    label = elem['label']\n",
        "\n",
        "    ax.imshow(image, cmap='gray')\n",
        "    ax.text(0.7, -0.12, f'Digit = {label}', ha='right',\n",
        "            transform=ax.transAxes, color='black')\n",
        "    ax.set_xticks([])\n",
        "    ax.set_yticks([])\n",
        "    # plt.show()"
      ],
      "execution_count": 10,
      "outputs": [
        {
          "output_type": "display_data",
          "data": {
            "image/png": "[encoded data removed]",
            "text/plain": [
              "<Figure size 576x576 with 9 Axes>"
            ]
          },
          "metadata": {
            "tags": []
          }
        }
      ]
    },
    {
      "cell_type": "code",
      "metadata": {
        "id": "uWuF6SGh8wLX"
      },
      "source": [
        "def _preprocess(sample):\n",
        "    image = tf.cast(sample['image'], tf.float32) / 255.  # Scale to unit interval.\n",
        "    image = tf.where(image > .5, 1.0, 0.0)\n",
        "    return image"
      ],
      "execution_count": 11,
      "outputs": []
    },
    {
      "cell_type": "code",
      "metadata": {
        "id": "nKR8iSs58wPO"
      },
      "source": [
        "mn_train_dataset = (datasets['train']\n",
        "                    .map(_preprocess)\n",
        "                   .batch(BATCH_SIZE)\n",
        "                   .prefetch(tf.data.experimental.AUTOTUNE)\n",
        "                   .shuffle(int(10e3))\n",
        "                   )\n",
        "\n",
        "mn_test_dataset = (datasets['test']\n",
        "                  .map(_preprocess)\n",
        "                  .batch(BATCH_SIZE)\n",
        "                  .prefetch(tf.data.experimental.AUTOTUNE)\n",
        "                  )"
      ],
      "execution_count": 12,
      "outputs": []
    },
    {
      "cell_type": "code",
      "metadata": {
        "colab": {
          "base_uri": "https://localhost:8080/"
        },
        "id": "JaNG-pEJ9Ryx",
        "outputId": "86347053-bd72-4b41-90ee-134bd8141516"
      },
      "source": [
        "mn_train_dataset, mn_test_dataset"
      ],
      "execution_count": 13,
      "outputs": [
        {
          "output_type": "execute_result",
          "data": {
            "text/plain": [
              "(<ShuffleDataset shapes: (None, 28, 28, 1), types: tf.float32>,\n",
              " <PrefetchDataset shapes: (None, 28, 28, 1), types: tf.float32>)"
            ]
          },
          "metadata": {
            "tags": []
          },
          "execution_count": 13
        }
      ]
    },
    {
      "cell_type": "code",
      "metadata": {
        "colab": {
          "base_uri": "https://localhost:8080/",
          "height": 258
        },
        "id": "WIEbg9DRkCvn",
        "outputId": "308ec325-0559-4637-a8c3-d966fb219dc9"
      },
      "source": [
        "for train_batch in mn_train_dataset.take(1):\n",
        "    image = train_batch[0].numpy()\n",
        "image = np.squeeze(image, axis=2)\n",
        "\n",
        "plt.figure()\n",
        "plt.imshow(image, cmap='gray')\n",
        "# plt.title('corresponding image label {}'.format(label))\n",
        "plt.colorbar()\n",
        "plt.grid(False)\n",
        "plt.axis('off')\n",
        "plt.show();"
      ],
      "execution_count": 14,
      "outputs": [
        {
          "output_type": "display_data",
          "data": {
            "image/png": "[encoded data removed]",
            "text/plain": [
              "<Figure size 432x288 with 2 Axes>"
            ]
          },
          "metadata": {
            "tags": []
          }
        }
      ]
    },
    {
      "cell_type": "markdown",
      "metadata": {
        "id": "Jca8Me8XSd2r"
      },
      "source": [
        "##### **2b) Oxflower Data**"
      ]
    },
    {
      "cell_type": "code",
      "metadata": {
        "id": "wbGHwk6eJBVx"
      },
      "source": [
        "dataset, dataset_info = tfds.load('oxford_flowers102', with_info=True, as_supervised=True)"
      ],
      "execution_count": 15,
      "outputs": []
    },
    {
      "cell_type": "code",
      "metadata": {
        "id": "wGUcdttLJBhC"
      },
      "source": [
        "training_set, test_set, validation_set = dataset['train'], dataset['test'], dataset['validation']"
      ],
      "execution_count": 16,
      "outputs": []
    },
    {
      "cell_type": "code",
      "metadata": {
        "colab": {
          "base_uri": "https://localhost:8080/"
        },
        "id": "shYhag5zJ-v0",
        "outputId": "67eefe60-6b75-44ad-8ecf-2a6ab45e1e2d"
      },
      "source": [
        "type(training_set)"
      ],
      "execution_count": 17,
      "outputs": [
        {
          "output_type": "execute_result",
          "data": {
            "text/plain": [
              "tensorflow.python.data.ops.dataset_ops.PrefetchDataset"
            ]
          },
          "metadata": {
            "tags": []
          },
          "execution_count": 17
        }
      ]
    },
    {
      "cell_type": "code",
      "metadata": {
        "colab": {
          "base_uri": "https://localhost:8080/",
          "height": 0
        },
        "id": "0jWAWo5vKKkE",
        "outputId": "5278cc43-2001-4b03-94ea-955049ee6155"
      },
      "source": [
        "# TODO: Plot 1 image from the training set. Set the title \n",
        "# of the plot to the corresponding image label. \n",
        "for image, label in training_set.take(1):\n",
        "    break\n",
        "image = image.numpy()\n",
        "plt.figure()\n",
        "plt.imshow(image, cmap=plt.cm.binary)\n",
        "plt.title('corresponding image label {}'.format(label))\n",
        "plt.colorbar()\n",
        "plt.grid(False)\n",
        "plt.show()"
      ],
      "execution_count": 18,
      "outputs": [
        {
          "output_type": "display_data",
          "data": {
            "image/png": "[encoded data removed]",
            "text/plain": [
              "<Figure size 432x288 with 2 Axes>"
            ]
          },
          "metadata": {
            "tags": []
          }
        }
      ]
    },
    {
      "cell_type": "code",
      "metadata": {
        "colab": {
          "base_uri": "https://localhost:8080/"
        },
        "id": "Ly3XxEpGqNgD",
        "outputId": "75d33149-79a1-4051-90ad-7d8c1ce7ebca"
      },
      "source": [
        "image.shape"
      ],
      "execution_count": 19,
      "outputs": [
        {
          "output_type": "execute_result",
          "data": {
            "text/plain": [
              "(500, 667, 3)"
            ]
          },
          "metadata": {
            "tags": []
          },
          "execution_count": 19
        }
      ]
    },
    {
      "cell_type": "code",
      "metadata": {
        "colab": {
          "base_uri": "https://localhost:8080/"
        },
        "id": "dTbEFa2yrZJS",
        "outputId": "16735e77-5868-4f6b-a227-4bc32aca3164"
      },
      "source": [
        "# TODO: Get the number of examples in each set from the dataset info.\n",
        "num_training_examples = 0\n",
        "num_validation_examples = 0\n",
        "num_test_examples = 0\n",
        "\n",
        "for example in training_set:\n",
        "  num_training_examples += 1\n",
        "\n",
        "for example in validation_set:\n",
        "  num_validation_examples += 1\n",
        "\n",
        "for example in test_set:\n",
        "  num_test_examples += 1\n",
        "\n",
        "print('Total Number of Training Images: {}'.format(num_training_examples))\n",
        "print('Total Number of Validation Images: {}'.format(num_validation_examples))\n",
        "print('Total Number of Test Images: {} \\n'.format(num_test_examples))\n",
        "# TODO: Get the number of classes in the dataset from the dataset info.\n",
        "num_classes = dataset_info.features['label'].num_classes\n",
        "print('Total Number of Classes: {}'.format(num_classes))"
      ],
      "execution_count": 20,
      "outputs": [
        {
          "output_type": "stream",
          "text": [
            "Total Number of Training Images: 1020\n",
            "Total Number of Validation Images: 1020\n",
            "Total Number of Test Images: 6149 \n",
            "\n",
            "Total Number of Classes: 102\n"
          ],
          "name": "stdout"
        }
      ]
    },
    {
      "cell_type": "code",
      "metadata": {
        "id": "LPRqspCgrAiT"
      },
      "source": [
        "# TODO: Create a pipeline for each set.\n",
        "IMAGE_RES = 224\n",
        "BATCH_SIZE = 32\n",
        "\n",
        "def format_image(image, label):\n",
        "  image = tf.image.resize(image, (IMAGE_RES, IMAGE_RES))/255.0\n",
        "  return image  #, label\n",
        "\n",
        "def _preprocess(sample):\n",
        "    # image = tf.image.resize(sample['image'], (IMAGE_RES, IMAGE_RES))/255.0\n",
        "    image = tf.cast(sample['image'], tf.float32) / 255.  # Scale to unit interval.\n",
        "    # image = tf.where(image > .5, 1.0, 0.0)\n",
        "    # image = tf.where(image > .5, 1.0, 0.0).astype('float32')\n",
        "    return image"
      ],
      "execution_count": 21,
      "outputs": []
    },
    {
      "cell_type": "code",
      "metadata": {
        "id": "nQ5XqkQYZjJo"
      },
      "source": [
        "ox_train_dataset = (datasets['train']\n",
        "                   .map(_preprocess)\n",
        "                   .batch(BATCH_SIZE)\n",
        "                   .prefetch(tf.data.experimental.AUTOTUNE)\n",
        "                   .shuffle(int(10e3))\n",
        "                   )\n",
        "\n",
        "ox_test_dataset = (datasets['test']\n",
        "                  .map(_preprocess)\n",
        "                  .batch(BATCH_SIZE)\n",
        "                  .prefetch(tf.data.experimental.AUTOTUNE)\n",
        "                  )"
      ],
      "execution_count": 22,
      "outputs": []
    },
    {
      "cell_type": "code",
      "metadata": {
        "colab": {
          "base_uri": "https://localhost:8080/"
        },
        "id": "kGp1ehM_aawN",
        "outputId": "532f25dc-808e-449d-9a41-075ca563450a"
      },
      "source": [
        "ox_train_dataset, ox_test_dataset"
      ],
      "execution_count": 23,
      "outputs": [
        {
          "output_type": "execute_result",
          "data": {
            "text/plain": [
              "(<ShuffleDataset shapes: (None, 28, 28, 1), types: tf.float32>,\n",
              " <PrefetchDataset shapes: (None, 28, 28, 1), types: tf.float32>)"
            ]
          },
          "metadata": {
            "tags": []
          },
          "execution_count": 23
        }
      ]
    },
    {
      "cell_type": "code",
      "metadata": {
        "id": "8Nx1cK57Yn_B"
      },
      "source": [
        "def _preprocess(sample):\n",
        "    image = tf.cast(sample['image'], tf.float32) / 255.  # Scale to unit interval.\n",
        "    image = tf.where(image > .5, 1.0, 0.0)\n",
        "    # image = tf.where(image > .5, 1.0, 0.0).astype('float32')\n",
        "    return image\n",
        "    # image = image < tf.random.uniform(tf.shape(image))   # Randomly binarize.\n",
        "    # return image, image"
      ],
      "execution_count": 24,
      "outputs": []
    },
    {
      "cell_type": "code",
      "metadata": {
        "id": "dxRxFEoErHBL"
      },
      "source": [
        "ox_train_dataset = training_set.cache().shuffle(num_training_examples//4).map(format_image).batch(BATCH_SIZE).prefetch(1)\n",
        "ox_test_dataset = test_set.cache().map(format_image).batch(BATCH_SIZE).prefetch(1)\n",
        "ox_val_dataset = validation_set.cache().map(format_image).batch(BATCH_SIZE).prefetch(1)"
      ],
      "execution_count": 25,
      "outputs": []
    },
    {
      "cell_type": "code",
      "metadata": {
        "colab": {
          "base_uri": "https://localhost:8080/"
        },
        "id": "5Aod6KQCbJ8l",
        "outputId": "32d6267e-0314-4c0b-f93e-4a2b6ed96660"
      },
      "source": [
        "ox_train_dataset, ox_test_dataset"
      ],
      "execution_count": 26,
      "outputs": [
        {
          "output_type": "execute_result",
          "data": {
            "text/plain": [
              "(<PrefetchDataset shapes: (None, 224, 224, 3), types: tf.float32>,\n",
              " <PrefetchDataset shapes: (None, 224, 224, 3), types: tf.float32>)"
            ]
          },
          "metadata": {
            "tags": []
          },
          "execution_count": 26
        }
      ]
    },
    {
      "cell_type": "code",
      "metadata": {
        "id": "JX_Eoc1orlPj"
      },
      "source": [
        "# ox_train_dataset['image'], ox_test_dataset[0]"
      ],
      "execution_count": 27,
      "outputs": []
    },
    {
      "cell_type": "markdown",
      "metadata": {
        "id": "zopEYyzVZynY"
      },
      "source": [
        "#### **3) Model Class**\n",
        "\n",
        "Credit: "
      ]
    },
    {
      "cell_type": "code",
      "metadata": {
        "id": "F-6HWdLJK1SB"
      },
      "source": [
        "class Sampler_Z(keras.layers.Layer):\n",
        "\n",
        "    def call(self, inputs):\n",
        "        mu, rho = inputs\n",
        "        sd = tf.math.log(1+tf.math.exp(rho))\n",
        "        batch_size = tf.shape(mu)[0]\n",
        "        z_dim = tf.shape(mu)[1]\n",
        "        z_sample = mu + sd * tf.random.normal(shape=(batch_size, z_dim))\n",
        "        return z_sample, sd"
      ],
      "execution_count": 28,
      "outputs": []
    },
    {
      "cell_type": "code",
      "metadata": {
        "id": "8yaiwxxCK1ai"
      },
      "source": [
        "class Encoder_Z(keras.layers.Layer):\n",
        "\n",
        "    def __init__(self, z_dim, n_filter_base, name=\"encoder\", **kwargs):\n",
        "        super(Encoder_Z, self).__init__(name=name, **kwargs)\n",
        "        self.conv_layer_1 = Conv2D(filters=n_filter_base, kernel_size=3,\n",
        "                                   strides=(2,2), padding='valid', activation='relu'\n",
        "                                   )\n",
        "        self.conv_layer_2 = Conv2D(filters=n_filter_base*2, kernel_size=3,\n",
        "                                   strides=(2,2), padding='valid', activation='relu'\n",
        "                                   )\n",
        "        self.flatten_layer = Flatten()\n",
        "        # No activation\n",
        "        self.dense_mean = Dense(z_dim, activation=None, name='z_mean')\n",
        "        self.dense_raw_stddev = Dense(z_dim, activation=None,\n",
        "                                      name='z_raw_stddev'\n",
        "                                      )\n",
        "        self.sampler_z = Sampler_Z()\n",
        "\n",
        "    # Functional\n",
        "    def call(self, x_input):\n",
        "        z = self.conv_layer_1(x_input)\n",
        "        z = self.conv_layer_2(z)\n",
        "        z = self.flatten_layer(z)\n",
        "        mu = self.dense_mean(z)\n",
        "        rho = self.dense_raw_stddev(z)\n",
        "        z_sample, sd = self.sampler_z((mu,rho))\n",
        "        return z_sample, mu, sd"
      ],
      "execution_count": 29,
      "outputs": []
    },
    {
      "cell_type": "code",
      "metadata": {
        "id": "mli55vYIK1fC"
      },
      "source": [
        "class Decoder_X(keras.layers.Layer):\n",
        "\n",
        "    def __init__(self, z_dim, n_filter_base, name=\"decoder\", **kwargs):\n",
        "        super(Decoder_X, self).__init__(name=name, **kwargs)\n",
        "        self.z_dim = z_dim\n",
        "        self.dense_z_input = Dense(7*7*32, activation=None)\n",
        "        self.reshape_layer = Reshape((7,7,32))\n",
        "        self.conv_transpose_layer_1 = Conv2DTranspose(filters=n_filter_base*2, kernel_size=3,\n",
        "                                                      strides=2, padding='same', activation='relu'\n",
        "                                                      )\n",
        "        self.conv_transpose_layer_2 = Conv2DTranspose(filters=n_filter_base, kernel_size=3,\n",
        "                                                      strides=2, padding='same', activation='relu'\n",
        "                                                      )\n",
        "        self.conv_transpose_layer_3 = Conv2DTranspose(filters=1, kernel_size=3,\n",
        "                                                      strides=1, padding='same'\n",
        "                                                      )\n",
        "\n",
        "    # Functional\n",
        "    def call(self, z):\n",
        "        x_output = self.dense_z_input(z)\n",
        "        x_output = self.reshape_layer(x_output)\n",
        "        x_output = self.conv_transpose_layer_1(x_output)\n",
        "        x_output = self.conv_transpose_layer_2(x_output)\n",
        "        x_output = self.conv_transpose_layer_3(x_output)\n",
        "        return x_output"
      ],
      "execution_count": 30,
      "outputs": []
    },
    {
      "cell_type": "markdown",
      "metadata": {
        "id": "Odt_SdoRF0Od"
      },
      "source": [
        "Encoder2 and Decoder2 Source: https://www.tensorflow.org/probability/examples/Probabilistic_Layers_VAE"
      ]
    },
    {
      "cell_type": "code",
      "metadata": {
        "id": "_rdeYf-LFzAW"
      },
      "source": [
        "class Encoder2_Z(keras.layers.Layer):\n",
        "\n",
        "    def __init__(self, z_dim, n_filter_base, name=\"encoder\", **kwargs):\n",
        "        super(Encoder2_Z, self).__init__(name=name, **kwargs)\n",
        "        self.conv_layer_1 = Conv2D(filters=n_filter_base, kernel_size=5,\n",
        "                                   strides=1, padding='same', activation=tf.nn.leaky_relu\n",
        "                                   )\n",
        "        self.conv_layer_2 = Conv2D(filters=n_filter_base, kernel_size=5,\n",
        "                                   strides=1, padding='same', activation=tf.nn.leaky_relu\n",
        "                                   )\n",
        "        self.conv_layer_3 = Conv2D(filters=n_filter_base*2, kernel_size=5,\n",
        "                                   strides=1, padding='same', activation=tf.nn.leaky_relu\n",
        "                                   )\n",
        "        self.conv_layer_4 = Conv2D(filters=n_filter_base*2, kernel_size=5,\n",
        "                                   strides=1, padding='same', activation=tf.nn.leaky_relu\n",
        "                                   )\n",
        "        self.conv_layer_5 = Conv2D(filters=n_filter_base*4, kernel_size=7,\n",
        "                                   strides=1, padding='same', activation=tf.nn.leaky_relu\n",
        "                                   )\n",
        "        self.flatten_layer = Flatten()\n",
        "        # No activation\n",
        "        self.dense_mean = Dense(z_dim, activation=None, name='z_mean')\n",
        "        self.dense_raw_stddev = Dense(z_dim, activation=None,\n",
        "                                      name='z_raw_stddev'\n",
        "                                      )\n",
        "        self.sampler_z = Sampler_Z()\n",
        "\n",
        "    # Functional\n",
        "    def call(self, x_input):\n",
        "        z = self.conv_layer_1(x_input)\n",
        "        z = self.conv_layer_2(z)\n",
        "        z = self.conv_layer_3(z)\n",
        "        z = self.conv_layer_4(z)\n",
        "        z = self.conv_layer_5(z)\n",
        "        z = self.flatten_layer(z)\n",
        "        mu = self.dense_mean(z)\n",
        "        rho = self.dense_raw_stddev(z)\n",
        "        z_sample, sd = self.sampler_z((mu,rho))\n",
        "        return z_sample, mu, sd"
      ],
      "execution_count": 31,
      "outputs": []
    },
    {
      "cell_type": "code",
      "metadata": {
        "id": "9HQLNDghFjxY"
      },
      "source": [
        "class Decoder2_X(keras.layers.Layer):\n",
        "\n",
        "    def __init__(self, input_dim, z_dim, n_filter_base, name=\"decoder\", **kwargs):\n",
        "        super(Decoder2_X, self).__init__(name=name, **kwargs)\n",
        "        self.z_dim = z_dim\n",
        "        self.dense_z_input = Dense((input_dim**2)*n_filter_base, activation=None)\n",
        "        self.reshape_layer = Reshape((input_dim, input_dim, n_filter_base))\n",
        "        self.conv_transpose_layer_1 = Conv2DTranspose(filters=n_filter_base*4, kernel_size=7,\n",
        "                                                      strides=1, padding='same', activation=tf.nn.leaky_relu\n",
        "                                                      )\n",
        "        self.conv_transpose_layer_2 = Conv2DTranspose(filters=n_filter_base*2, kernel_size=5,\n",
        "                                                      strides=1, padding='same', activation=tf.nn.leaky_relu\n",
        "                                                      )\n",
        "        self.conv_transpose_layer_3 = Conv2DTranspose(filters=n_filter_base*2, kernel_size=5,\n",
        "                                                      strides=1, padding='same', activation=tf.nn.leaky_relu\n",
        "                                                      )\n",
        "        self.conv_transpose_layer_4 = Conv2DTranspose(filters=n_filter_base, kernel_size=5,\n",
        "                                                      strides=1, padding='same', activation=tf.nn.leaky_relu\n",
        "                                                      )\n",
        "        self.conv_transpose_layer_5 = Conv2DTranspose(filters=n_filter_base, kernel_size=5,\n",
        "                                                      strides=1, padding='same', activation=tf.nn.leaky_relu\n",
        "                                                      )\n",
        "        self.conv_transpose_layer_6 = Conv2DTranspose(filters=1, kernel_size=5,\n",
        "                                                      strides=1, padding='same'\n",
        "                                                      )\n",
        "\n",
        "    # Functional\n",
        "    def call(self, z):\n",
        "        x_output = self.dense_z_input(z)\n",
        "        x_output = self.reshape_layer(x_output)\n",
        "        x_output = self.conv_transpose_layer_1(x_output)\n",
        "        x_output = self.conv_transpose_layer_2(x_output)\n",
        "        x_output = self.conv_transpose_layer_3(x_output)\n",
        "        x_output = self.conv_transpose_layer_4(x_output)\n",
        "        x_output = self.conv_transpose_layer_5(x_output)\n",
        "        x_output = self.conv_transpose_layer_6(x_output)\n",
        "        return x_output"
      ],
      "execution_count": 32,
      "outputs": []
    },
    {
      "cell_type": "code",
      "metadata": {
        "id": "4q5aKhDpKkhl"
      },
      "source": [
        "class VAEModel(keras.Model):\n",
        "    \"\"\"Variational Autoencoder base model.\"\"\"\n",
        "\n",
        "    def __init__(self, input_dim, z_dim, n_filter_base=24, kl_weight=1, name=\"autoencoder\", **kwargs):\n",
        "        super(VAEModel, self).__init__(name=name, **kwargs)\n",
        "        self.learning_rate = learning_rate\n",
        "        self.encoder = Encoder2_Z(z_dim, n_filter_base)\n",
        "        self.decoder = Decoder2_X(input_dim, z_dim, n_filter_base)\n",
        "        self.kl_weight = kl_weight\n",
        "\n",
        "    # def encode_and_decode(self, x_input):\n",
        "    def call(self, x_input):\n",
        "        z_sample, mu, sd = self.encoder(x_input)\n",
        "        x_recons_logits = self.decoder(z_sample)\n",
        "        \n",
        "        kl_divergence = - 0.5 * tf.math.reduce_sum(1 + \\\n",
        "                                                   tf.math.log(tf.math.square(sd)) - \\\n",
        "                                                   tf.math.square(mu) - \\\n",
        "                                                   tf.math.square(sd), axis=1\n",
        "                                                   )\n",
        "        kl_divergence = tf.math.reduce_mean(kl_divergence)\n",
        "        # self.add_loss(lambda: self.kl_weight * kl_divergence)\n",
        "        self.add_loss(self.kl_weight * kl_divergence)\n",
        "        return x_recons_logits\n"
      ],
      "execution_count": 33,
      "outputs": []
    },
    {
      "cell_type": "code",
      "metadata": {
        "id": "Q_DtMMuTv91K"
      },
      "source": [
        "class VAE:\n",
        "    \"\"\"Variational Autoencoder wrapper.\"\"\"\n",
        "    def __init__(self, input_dim, z_dim, n_filter_base, learning_rate=0.0005):\n",
        "        self.optimizer = keras.optimizers.Adam(learning_rate)\n",
        "        self.loss_metric = keras.metrics.Mean()\n",
        "        self.model = VAEModel(input_dim, z_dim, n_filter_base)\n",
        "\n",
        "    def train(self, train_dataset, test_dataset, n_epoch=100, batch_size=0, \n",
        "              show_display=True, display_sample=False, n_display=16):\n",
        "        # Pick a sample of the test set for generating output images\n",
        "        assert batch_size >= n_display  # num_examples_to_generate\n",
        "        for test_batch in test_dataset.take(1):\n",
        "            # test_sample = next(iter(test_batch))[0][:n_display]\n",
        "            test_sample = test_batch[0:n_display, :, :, :]\n",
        "\n",
        "        for epoch in range(1, n_epoch + 1):\n",
        "            start_time = time.time()\n",
        "            for train_x in tqdm(train_dataset):\n",
        "                self.train_step(train_x)\n",
        "            end_time = time.time()\n",
        "\n",
        "            loss = tf.keras.metrics.Mean()\n",
        "            for test_x in test_dataset:\n",
        "                loss(self._compute_loss(test_x))\n",
        "            elbo = -loss.result()\n",
        "            display.clear_output(wait=False)\n",
        "            print('Epoch: {}, Test set ELBO: {}, time elapse for current epoch: {}'\n",
        "                  .format(epoch, elbo, end_time - start_time)\n",
        "                  )\n",
        "            if show_display:\n",
        "                # ipdb.set_trace()\n",
        "                sample_images = self._generate_images(test_sample, display_sample, n_display)\n",
        "                self._display_images(sample_images, epoch)\n",
        "\n",
        "    @tf.function\n",
        "    def train_step(self, x):\n",
        "        \"\"\"Executes one training step and returns the loss.\n",
        "\n",
        "        This function computes the loss and gradients, and uses the latter to\n",
        "        update the model's parameters.\n",
        "        \"\"\"\n",
        "        with tf.GradientTape() as tape:\n",
        "            neg_log_lik = self._compute_loss(x)\n",
        "            # kl_loss = model.losses[-1]\n",
        "            kl_loss = tf.math.reduce_sum(self.model.losses)  # vae.losses is a list\n",
        "            total_vae_loss = neg_log_lik + kl_loss\n",
        "        gradients = tape.gradient(total_vae_loss, self.model.trainable_variables)\n",
        "        self.optimizer.apply_gradients(zip(gradients, self.model.trainable_variables))\n",
        "        self.loss_metric(total_vae_loss)\n",
        "\n",
        "    # vae loss function -- only the negative log-likelihood part, \n",
        "    # since we use add_loss for the KL divergence part\n",
        "    def _compute_loss(self, x_true):\n",
        "        # x_recons_logits = model.encode_and_decode(x_true)\n",
        "        x_recons_logits = self.model(x_true)\n",
        "        # compute cross entropy loss for each dimension of every datapoint\n",
        "        raw_cross_entropy = tf.nn.sigmoid_cross_entropy_with_logits(\n",
        "        labels=x_true, logits=x_recons_logits)\n",
        "        neg_log_likelihood = tf.math.reduce_sum(raw_cross_entropy, axis=[1, 2, 3])\n",
        "        return tf.math.reduce_mean(neg_log_likelihood)\n",
        "\n",
        "    def _generate_images(self, test_images, display_sample=False, n_display=16, latent_dim=2):\n",
        "        if display_sample:\n",
        "            z_sample = tf.random.normal(shape=(n_display, latent_dim))\n",
        "            x_recons_logits = self.model.decoder(z_sample)\n",
        "        else: \n",
        "            x_recons_logits = self.model(test_images)\n",
        "        decoder_sample_images = tf.math.sigmoid(x_recons_logits)\n",
        "        return decoder_sample_images\n",
        "\n",
        "    def _display_images(self, images, epoch):\n",
        "        fig = plt.figure(figsize=(4, 4))\n",
        "        for i in range(images.shape[0]):\n",
        "            plt.subplot(4, 4, i + 1)\n",
        "            plt.imshow(images[i, :, :, 0], cmap='gray')\n",
        "            plt.axis('off')\n",
        "\n",
        "        # tight_layout minimizes the overlap between 2 sub-plots\n",
        "        plt.savefig(f'image_at_epoch_{epoch:04d}.png')\n",
        "        plt.show();\n"
      ],
      "execution_count": 34,
      "outputs": []
    },
    {
      "cell_type": "markdown",
      "metadata": {
        "id": "FPBEVeMUyq6s"
      },
      "source": [
        "#### **4) Models Train**"
      ]
    },
    {
      "cell_type": "code",
      "metadata": {
        "colab": {
          "base_uri": "https://localhost:8080/"
        },
        "id": "KoECtqtvqCxn",
        "outputId": "f17884ca-5210-4256-dd68-986f07a76008"
      },
      "source": [
        "mn_train_dataset"
      ],
      "execution_count": 35,
      "outputs": [
        {
          "output_type": "execute_result",
          "data": {
            "text/plain": [
              "<ShuffleDataset shapes: (None, 28, 28, 1), types: tf.float32>"
            ]
          },
          "metadata": {
            "tags": []
          },
          "execution_count": 35
        }
      ]
    },
    {
      "cell_type": "code",
      "metadata": {
        "id": "yMKOS-wB2GKh"
      },
      "source": [
        "# vae init params\n",
        "input_dim = 28  # image dim\n",
        "z_dim = 4  # latent dim, set the dimensionality of the latent space to a plane for visualization later\n",
        "n_filter_base = 32  # number of base filters in the CNN (a lot of filters?)\n",
        "learning_rate = 0.0001  # uses for the internal Adam opt\n",
        "\n",
        "# vae.train params\n",
        "n_epoch = 10  # number of epochs\n",
        "batch_size = 32\n",
        "show_display = True\n",
        "display_sample = False\n",
        "n_display = 16  # number of example outputs to generate"
      ],
      "execution_count": 36,
      "outputs": []
    },
    {
      "cell_type": "code",
      "metadata": {
        "id": "hHe9SKZJ2DGM"
      },
      "source": [
        "vae = VAE(input_dim, z_dim, n_filter_base, learning_rate)"
      ],
      "execution_count": 37,
      "outputs": []
    },
    {
      "cell_type": "code",
      "metadata": {
        "colab": {
          "base_uri": "https://localhost:8080/"
        },
        "id": "XMm0U9xc6mpM",
        "outputId": "e0a5eb3d-d634-4933-ef37-c2b22611b813"
      },
      "source": [
        "mn_train_dataset, mn_test_dataset"
      ],
      "execution_count": 38,
      "outputs": [
        {
          "output_type": "execute_result",
          "data": {
            "text/plain": [
              "(<ShuffleDataset shapes: (None, 28, 28, 1), types: tf.float32>,\n",
              " <PrefetchDataset shapes: (None, 28, 28, 1), types: tf.float32>)"
            ]
          },
          "metadata": {
            "tags": []
          },
          "execution_count": 38
        }
      ]
    },
    {
      "cell_type": "code",
      "metadata": {
        "colab": {
          "base_uri": "https://localhost:8080/"
        },
        "id": "_kHOdB0Ebgcy",
        "outputId": "d2044ee1-fca9-44b5-8888-91680b848779"
      },
      "source": [
        "ox_train_dataset, ox_test_dataset"
      ],
      "execution_count": 39,
      "outputs": [
        {
          "output_type": "execute_result",
          "data": {
            "text/plain": [
              "(<PrefetchDataset shapes: (None, 224, 224, 3), types: tf.float32>,\n",
              " <PrefetchDataset shapes: (None, 224, 224, 3), types: tf.float32>)"
            ]
          },
          "metadata": {
            "tags": []
          },
          "execution_count": 39
        }
      ]
    },
    {
      "cell_type": "code",
      "metadata": {
        "id": "GgKvFXIY4Rcr",
        "colab": {
          "base_uri": "https://localhost:8080/",
          "height": 266
        },
        "outputId": "7dda887a-3695-42ef-b431-6b736b739d87"
      },
      "source": [
        "vae.train(mn_train_dataset, mn_test_dataset, n_epoch, batch_size, \n",
        "          show_display, display_sample, n_display\n",
        "          )"
      ],
      "execution_count": 40,
      "outputs": [
        {
          "output_type": "stream",
          "text": [
            "Epoch: 10, Test set ELBO: -105.79103088378906, time elapse for current epoch: 35.648858308792114\n"
          ],
          "name": "stdout"
        },
        {
          "output_type": "display_data",
          "data": {
            "image/png": "[encoded data removed]",
            "text/plain": [
              "<Figure size 288x288 with 16 Axes>"
            ]
          },
          "metadata": {
            "tags": []
          }
        }
      ]
    },
    {
      "cell_type": "code",
      "metadata": {
        "id": "2M0id04neWCA"
      },
      "source": [
        ""
      ],
      "execution_count": 40,
      "outputs": []
    }
  ]
}