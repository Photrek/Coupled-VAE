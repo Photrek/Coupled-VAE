{
  "nbformat": 4,
  "nbformat_minor": 0,
  "metadata": {
    "accelerator": "GPU",
    "colab": {
      "name": "vae_v2.1.ipynb",
      "provenance": [],
      "collapsed_sections": [],
      "machine_shape": "hm"
    },
    "kernelspec": {
      "display_name": "Python 3",
      "language": "python",
      "name": "python3"
    },
    "language_info": {
      "codemirror_mode": {
        "name": "ipython",
        "version": 3
      },
      "file_extension": ".py",
      "mimetype": "text/x-python",
      "name": "python",
      "nbconvert_exporter": "python",
      "pygments_lexer": "ipython3",
      "version": "3.7.1"
    }
  },
  "cells": [
    {
      "cell_type": "markdown",
      "metadata": {
        "id": "MEJjn06qaEDP"
      },
      "source": [
        "#### **1) Libraries**"
      ]
    },
    {
      "cell_type": "code",
      "metadata": {
        "id": "cPyJih55aEDQ"
      },
      "source": [
        "# !pip install -U tensorflow_probability -q\n",
        "!pip install -q ipdb"
      ],
      "execution_count": null,
      "outputs": []
    },
    {
      "cell_type": "code",
      "metadata": {
        "id": "c_sk90OFaEDT"
      },
      "source": [
        "from IPython import display\n",
        "\n",
        "import glob\n",
        "import imageio\n",
        "import matplotlib.pyplot as plt\n",
        "import numpy as np\n",
        "import PIL\n",
        "import tensorflow as tf\n",
        "import tensorflow_probability as tfp\n",
        "import time\n",
        "from tqdm import tqdm\n",
        "\n",
        "from tensorflow import keras\n",
        "from tensorflow.keras.layers import Input, InputLayer, Lambda, Reshape, Dropout, \\\n",
        "                                    Flatten, Dense, Conv2D, Conv2DTranspose "
      ],
      "execution_count": null,
      "outputs": []
    },
    {
      "cell_type": "markdown",
      "metadata": {
        "id": "D1m4X6DJGb52"
      },
      "source": [
        "If using Google Colab, save in your Google Drive."
      ]
    },
    {
      "cell_type": "code",
      "metadata": {
        "colab": {
          "base_uri": "https://localhost:8080/"
        },
        "id": "zcpWSzBBGayV",
        "outputId": "d2de7093-6693-493f-d966-17d4d1922872"
      },
      "source": [
        "from google.colab import drive\n",
        "\n",
        "drive.mount('/content/gdrive')"
      ],
      "execution_count": null,
      "outputs": [
        {
          "output_type": "stream",
          "text": [
            "Drive already mounted at /content/gdrive; to attempt to forcibly remount, call drive.mount(\"/content/gdrive\", force_remount=True).\n"
          ],
          "name": "stdout"
        }
      ]
    },
    {
      "cell_type": "markdown",
      "metadata": {
        "id": "4RKA0uShaEDW"
      },
      "source": [
        "#### **2) MNIST Data**"
      ]
    },
    {
      "cell_type": "markdown",
      "metadata": {
        "id": "EHg5gXFrzIyd"
      },
      "source": [
        ""
      ]
    },
    {
      "cell_type": "code",
      "metadata": {
        "id": "jFxjjZVVzJF2"
      },
      "source": [
        "(train_images, _), (test_images, _) = tf.keras.datasets.mnist.load_data()"
      ],
      "execution_count": null,
      "outputs": []
    },
    {
      "cell_type": "code",
      "metadata": {
        "id": "WZsQFldnzJYM"
      },
      "source": [
        "def preprocess_images(images, image_size, batch_size, nn_type):\n",
        "    if nn_type == 'conv':\n",
        "        images = images.reshape((images.shape[0], 28, 28, 1)) / 255.\n",
        "    else:\n",
        "        images = images.reshape((images.shape[0], -1)) / 255.\n",
        "    images = np.where(images > .5, 1.0, 0.0).astype('float32')\n",
        "    return (tf.data.Dataset.from_tensor_slices(images)\n",
        "            .shuffle(image_size).batch(batch_size))"
      ],
      "execution_count": null,
      "outputs": []
    },
    {
      "cell_type": "code",
      "metadata": {
        "id": "eFLJzYtuchv6"
      },
      "source": [
        "train_size = 60000\n",
        "test_size = 10000\n",
        "batch_size = 32  # Also use this batch_size for Model Train "
      ],
      "execution_count": null,
      "outputs": []
    },
    {
      "cell_type": "code",
      "metadata": {
        "colab": {
          "base_uri": "https://localhost:8080/"
        },
        "id": "SIGJJyRSb7Fr",
        "outputId": "930c2e40-9618-4c9e-f93c-1aff87c8e0eb"
      },
      "source": [
        "train_images.shape, test_images.shape"
      ],
      "execution_count": null,
      "outputs": [
        {
          "output_type": "execute_result",
          "data": {
            "text/plain": [
              "((60000, 28, 28), (10000, 28, 28))"
            ]
          },
          "metadata": {
            "tags": []
          },
          "execution_count": 7
        }
      ]
    },
    {
      "cell_type": "code",
      "metadata": {
        "id": "3VhFqn90eRHk"
      },
      "source": [
        "# Use CNN\n",
        "train_dataset = preprocess_images(train_images, train_size, batch_size, 'conv')\n",
        "test_dataset = preprocess_images(test_images, test_size, batch_size, 'conv')\n",
        "# Use Dense\n",
        "# train_dataset = preprocess_images(train_images, train_size, batch_size, 'dense')\n",
        "# test_dataset = preprocess_images(test_images, test_size, batch_size, 'dense')"
      ],
      "execution_count": null,
      "outputs": []
    },
    {
      "cell_type": "code",
      "metadata": {
        "colab": {
          "base_uri": "https://localhost:8080/"
        },
        "id": "YclhpAOg0OOl",
        "outputId": "04222216-ad5f-49c5-9b09-869314697ec3"
      },
      "source": [
        "print(train_dataset), print(test_dataset)"
      ],
      "execution_count": null,
      "outputs": [
        {
          "output_type": "stream",
          "text": [
            "<BatchDataset shapes: (None, 28, 28, 1), types: tf.float32>\n",
            "<BatchDataset shapes: (None, 28, 28, 1), types: tf.float32>\n"
          ],
          "name": "stdout"
        },
        {
          "output_type": "execute_result",
          "data": {
            "text/plain": [
              "(None, None)"
            ]
          },
          "metadata": {
            "tags": []
          },
          "execution_count": 9
        }
      ]
    },
    {
      "cell_type": "markdown",
      "metadata": {
        "id": "zopEYyzVZynY"
      },
      "source": [
        "#### **3) Model Class**"
      ]
    },
    {
      "cell_type": "code",
      "metadata": {
        "id": "F-6HWdLJK1SB"
      },
      "source": [
        "class Sampler_Z(keras.layers.Layer):\n",
        "\n",
        "    def call(self, inputs):\n",
        "        mu, rho = inputs\n",
        "        sd = tf.math.log(1+tf.math.exp(rho))\n",
        "        batch_size = tf.shape(mu)[0]\n",
        "        dim_z = tf.shape(mu)[1]\n",
        "        z_sample = mu + sd * tf.random.normal(shape=(batch_size, dim_z))\n",
        "        return z_sample, sd"
      ],
      "execution_count": null,
      "outputs": []
    },
    {
      "cell_type": "code",
      "metadata": {
        "id": "8yaiwxxCK1ai"
      },
      "source": [
        "class Encoder_Z(keras.layers.Layer):\n",
        "\n",
        "    def __init__(self, dim_z, name=\"encoder\", **kwargs):\n",
        "        super(Encoder_Z, self).__init__(name=name, **kwargs)\n",
        "        self.dim_x = (28, 28, 1)\n",
        "        self.dim_z = dim_z\n",
        "        self.conv_layer_1 = Conv2D(filters=32, kernel_size=3, strides=(2,2), \n",
        "                                   padding='valid', activation='relu'\n",
        "                                   )\n",
        "        self.conv_layer_2 = Conv2D(filters=64, kernel_size=3, strides=(2,2), \n",
        "                                    padding='valid', activation='relu'\n",
        "                                    )\n",
        "        self.flatten_layer = Flatten()\n",
        "        # No activation\n",
        "        self.dense_mean = Dense(self.dim_z, activation=None, name='z_mean')\n",
        "        self.dense_raw_stddev = Dense(self.dim_z, activation=None,\n",
        "                                      name='z_raw_stddev'\n",
        "                                      )\n",
        "        self.sampler_z = Sampler_Z()\n",
        "\n",
        "    # Functional\n",
        "    def call(self, x_input):\n",
        "        z = self.conv_layer_1(x_input)\n",
        "        z = self.conv_layer_2(z)\n",
        "        z = self.flatten_layer(z)\n",
        "        mu = self.dense_mean(z)\n",
        "        rho = self.dense_raw_stddev(z)\n",
        "        z_sample, sd = self.sampler_z((mu,rho))\n",
        "        return z_sample, mu, sd"
      ],
      "execution_count": null,
      "outputs": []
    },
    {
      "cell_type": "code",
      "metadata": {
        "id": "mli55vYIK1fC"
      },
      "source": [
        "class Decoder_X(keras.layers.Layer):\n",
        "\n",
        "    def __init__(self, dim_z, name=\"decoder\", **kwargs):\n",
        "        super(Decoder_X, self).__init__(name=name, **kwargs)\n",
        "        self.dim_z = dim_z\n",
        "        self.dense_z_input = Dense(7*7*32, activation=None)\n",
        "        self.reshape_layer = Reshape((7,7,32))\n",
        "        self.conv_transpose_layer_1 = Conv2DTranspose(filters=64, kernel_size=3, strides=2, \n",
        "                                                      padding='same', activation='relu'\n",
        "                                                      )\n",
        "        self.conv_transpose_layer_2 = Conv2DTranspose(filters=32, kernel_size=3, strides=2, \n",
        "                                                      padding='same', activation='relu'\n",
        "                                                      )\n",
        "        self.conv_transpose_layer_3 = Conv2DTranspose(filters=1, kernel_size=3, strides=1, \n",
        "                                                      padding='same'\n",
        "                                                      )\n",
        "\n",
        "    # Functional\n",
        "    def call(self, z):\n",
        "        x_output = self.dense_z_input(z)\n",
        "        x_output = self.reshape_layer(x_output)\n",
        "        x_output = self.conv_transpose_layer_1(x_output)\n",
        "        x_output = self.conv_transpose_layer_2(x_output)\n",
        "        x_output = self.conv_transpose_layer_3(x_output)\n",
        "        return x_output"
      ],
      "execution_count": null,
      "outputs": []
    },
    {
      "cell_type": "code",
      "metadata": {
        "id": "4q5aKhDpKkhl"
      },
      "source": [
        "class VAEModel(keras.Model):\n",
        "    \"\"\"Variational Autoencoder base model.\"\"\"\n",
        "\n",
        "    def __init__(self, dim_z, learning_rate=0.0005, kl_weight=1, name=\"autoencoder\", **kwargs):\n",
        "        super(VAEModel, self).__init__(name=name, **kwargs)\n",
        "        self.dim_x = (28, 28, 1)\n",
        "        self.dim_z = dim_z\n",
        "        self.learning_rate = learning_rate\n",
        "        self.encoder = Encoder_Z(dim_z)\n",
        "        self.decoder = Decoder_X(dim_z)\n",
        "        self.kl_weight = kl_weight\n",
        "\n",
        "    # def encode_and_decode(self, x_input):\n",
        "    def call(self, x_input):\n",
        "        z_sample, mu, sd = self.encoder(x_input)\n",
        "        x_recons_logits = self.decoder(z_sample)\n",
        "        \n",
        "        kl_divergence = - 0.5 * tf.math.reduce_sum(1 + \\\n",
        "                                                   tf.math.log(tf.math.square(sd)) - \\\n",
        "                                                   tf.math.square(mu) - \\\n",
        "                                                   tf.math.square(sd), axis=1\n",
        "                                                   )\n",
        "        kl_divergence = tf.math.reduce_mean(kl_divergence)\n",
        "        # self.add_loss(lambda: self.kl_weight * kl_divergence)\n",
        "        self.add_loss(self.kl_weight * kl_divergence)\n",
        "        return x_recons_logits\n",
        "\n",
        "    '''\n",
        "    @tf.function\n",
        "    def sample(self, eps=None):\n",
        "        if eps is None:\n",
        "            eps = tf.random.normal(shape=(100, self.latent_dim))\n",
        "        return self.decoder(eps, apply_sigmoid=True)\n",
        "    '''"
      ],
      "execution_count": null,
      "outputs": []
    },
    {
      "cell_type": "code",
      "metadata": {
        "id": "Q_DtMMuTv91K"
      },
      "source": [
        "class VAE:\n",
        "    \"\"\"Variational Autoencoder wrapper.\"\"\"\n",
        "    # def __init__(self, n_hidden, latent_dim, dropout=0.):\n",
        "    def __init__(self, latent_dim):\n",
        "        self.optimizer = tf.keras.optimizers.Adam(1e-4)\n",
        "        # self.optimizer = keras.optimizers.Adam(learning_rate)\n",
        "        self.loss_metric = keras.metrics.Mean()\n",
        "        self.model = VAEModel(latent_dim)\n",
        "        # self.model = VAEModel(n_hidden, latent_dim, dropout)\n",
        "\n",
        "    def train(self, train_dataset, test_dataset, epochs=100, batch_size=0, show_display=True):\n",
        "        # Pick a sample of the test set for generating output images\n",
        "        num_examples_to_generate = 16\n",
        "        assert batch_size >= num_examples_to_generate\n",
        "        for test_batch in test_dataset.take(1):\n",
        "            test_sample = test_batch[0:num_examples_to_generate, :, :, :]\n",
        "\n",
        "        for epoch in range(1, epochs + 1):\n",
        "            start_time = time.time()\n",
        "            for train_x in tqdm(train_dataset):\n",
        "                self.train_step(train_x)\n",
        "            end_time = time.time()\n",
        "\n",
        "            loss = tf.keras.metrics.Mean()\n",
        "            for test_x in test_dataset:\n",
        "                loss(self.partial_vae_loss(test_x))\n",
        "            elbo = -loss.result()\n",
        "            display.clear_output(wait=False)\n",
        "            print('Epoch: {}, Test set ELBO: {}, time elapse for current epoch: {}'\n",
        "                    .format(epoch, elbo, end_time - start_time))\n",
        "            if show_display:\n",
        "                # self.generate_and_save_images(epoch, test_sample)\n",
        "                self.generate_images(test_sample, epoch)\n",
        "\n",
        "    @tf.function\n",
        "    def train_step(self, x):\n",
        "        \"\"\"Executes one training step and returns the loss.\n",
        "\n",
        "        This function computes the loss and gradients, and uses the latter to\n",
        "        update the model's parameters.\n",
        "        \"\"\"\n",
        "        # ipdb.set_trace()\n",
        "        with tf.GradientTape() as tape:\n",
        "            neg_log_lik = self.partial_vae_loss(x)\n",
        "            # kl_loss = model.losses[-1]\n",
        "            kl_loss = tf.math.reduce_sum(self.model.losses)  # vae.losses is a list\n",
        "            total_vae_loss = neg_log_lik + kl_loss\n",
        "        gradients = tape.gradient(total_vae_loss, self.model.trainable_variables)\n",
        "        self.optimizer.apply_gradients(zip(gradients, self.model.trainable_variables))\n",
        "        self.loss_metric(total_vae_loss)\n",
        "        '''\n",
        "        with tf.GradientTape() as tape:\n",
        "            loss = self._compute_loss(x)\n",
        "            gradients = tape.gradient(loss, self.model.trainable_variables)\n",
        "            self.optimizer.apply_gradients(zip(gradients, self.model.trainable_variables))\n",
        "        '''\n",
        "\n",
        "    # vae loss function -- only the negative log-likelihood part, \n",
        "    # since we use add_loss for the KL divergence part\n",
        "    def partial_vae_loss(self, x_true):\n",
        "        # x_recons_logits = model.encode_and_decode(x_true)\n",
        "        x_recons_logits = self.model(x_true)\n",
        "        # compute cross entropy loss for each dimension of every datapoint\n",
        "        raw_cross_entropy = tf.nn.sigmoid_cross_entropy_with_logits(\n",
        "        labels=x_true, logits=x_recons_logits)\n",
        "        neg_log_likelihood = tf.math.reduce_sum(raw_cross_entropy, axis=[1, 2, 3])\n",
        "        return tf.math.reduce_mean(neg_log_likelihood)\n",
        "\n",
        "    def generate_images(self, test_images, epoch, sample=False, n_samples=16, latent_dim=2):\n",
        "        if sample:\n",
        "            z_sample = tf.random.normal(shape=(n_samples, latent_dim))\n",
        "            x_recons_logits = self.model.decoder(z_sample)\n",
        "        else: \n",
        "            x_recons_logits = self.model(test_images)\n",
        "        doecder_samples = tf.math.sigmoid(x_recons_logits)\n",
        "        \n",
        "        fig = plt.figure(figsize=(4, 4))\n",
        "        for i in range(doecder_samples.shape[0]):\n",
        "            plt.subplot(4, 4, i + 1)\n",
        "            plt.imshow(doecder_samples[i, :, :, 0], cmap='gray')\n",
        "            plt.axis('off')\n",
        "\n",
        "        # tight_layout minimizes the overlap between 2 sub-plots\n",
        "        plt.savefig(f'image_at_epoch_{epoch:04d}.png')\n",
        "        plt.show()\n",
        "\n",
        "    '''\n",
        "    def _compute_loss(self, x):\n",
        "        mean, logvar = self.model.encode(x)\n",
        "        z = self.model.reparameterize(mean, logvar)\n",
        "        x_logit = self.model.decode(z)\n",
        "        cross_ent = tf.nn.sigmoid_cross_entropy_with_logits(logits=x_logit, labels=x)\n",
        "        logpx_z = -tf.reduce_sum(cross_ent, axis=[1, 2, 3])\n",
        "        logpz = self._log_normal_pdf(z, 0., 0.)\n",
        "        logqz_x = self._log_normal_pdf(z, mean, logvar)\n",
        "        return -tf.reduce_mean(logpx_z + logpz - logqz_x)\n",
        "\n",
        "    def _log_normal_pdf(self, sample, mean, logvar, raxis=1):\n",
        "        log2pi = tf.math.log(2. * np.pi)\n",
        "        return tf.reduce_sum(\n",
        "            -.5 * ((sample - mean) ** 2. * tf.exp(-logvar) + logvar + log2pi),\n",
        "            axis=raxis)\n",
        "\n",
        "    def generate_and_save_images(self, epoch, test_sample):\n",
        "        z_sample, _, _ = self.model.encoder(test_sample)\n",
        "        predictions = self.model.decoder(z_sample)\n",
        "        # mean, logvar = self.model.encode(test_sample)\n",
        "        # z = self.model.reparameterize(mean, logvar)\n",
        "        # predictions = self.model.sample(z_sample)\n",
        "        fig = plt.figure(figsize=(4, 4))\n",
        "\n",
        "        for i in range(predictions.shape[0]):\n",
        "            plt.subplot(4, 4, i + 1)\n",
        "            plt.imshow(predictions[i, :, :, 0], cmap='gray')\n",
        "            plt.axis('off')\n",
        "\n",
        "        # tight_layout minimizes the overlap between 2 sub-plots\n",
        "        plt.savefig('image_at_epoch_{:04d}.png'.format(epoch))\n",
        "        plt.show()\n",
        "    '''"
      ],
      "execution_count": null,
      "outputs": []
    },
    {
      "cell_type": "markdown",
      "metadata": {
        "id": "FPBEVeMUyq6s"
      },
      "source": [
        "#### **4) Models Train**"
      ]
    },
    {
      "cell_type": "code",
      "metadata": {
        "id": "yMKOS-wB2GKh"
      },
      "source": [
        "epochs = 10\n",
        "# set the dimensionality of the latent space to a plane for visualization later\n",
        "latent_dim = 4  # 2\n",
        "batch_size = 32\n",
        "num_examples_to_generate = 16"
      ],
      "execution_count": null,
      "outputs": []
    },
    {
      "cell_type": "code",
      "metadata": {
        "id": "hHe9SKZJ2DGM"
      },
      "source": [
        "vae = VAE(latent_dim)"
      ],
      "execution_count": null,
      "outputs": []
    },
    {
      "cell_type": "code",
      "metadata": {
        "colab": {
          "base_uri": "https://localhost:8080/"
        },
        "id": "GgKvFXIY4Rcr",
        "outputId": "56d14741-0f68-43ab-bb90-5d41d33fdf58"
      },
      "source": [
        "vae.train(train_dataset, test_dataset, epochs, batch_size)"
      ],
      "execution_count": null,
      "outputs": [
        {
          "output_type": "stream",
          "text": [
            "Epoch: 10, Test set ELBO: -120.7957534790039, time elapse for current epoch: 6.578831195831299\n"
          ],
          "name": "stdout"
        },
        {
          "output_type": "display_data",
          "data": {
            "image/png": "[encoded data removed]",
            "text/plain": [
              "<Figure size 288x288 with 16 Axes>"
            ]
          },
          "metadata": {
            "tags": [],
            "needs_background": "light"
          }
        }
      ]
    },
    {
      "cell_type": "code",
      "metadata": {
        "id": "2M0id04neWCA"
      },
      "source": [
        ""
      ],
      "execution_count": null,
      "outputs": []
    }
  ]
}