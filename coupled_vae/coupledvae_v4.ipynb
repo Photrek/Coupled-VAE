{
  "nbformat": 4,
  "nbformat_minor": 0,
  "metadata": {
    "accelerator": "GPU",
    "colab": {
      "name": "coupledvae_v4.ipynb",
      "provenance": [],
      "collapsed_sections": [],
      "history_visible": true,
      "machine_shape": "hm"
    },
    "kernelspec": {
      "display_name": "Python 3",
      "language": "python",
      "name": "python3"
    },
    "language_info": {
      "codemirror_mode": {
        "name": "ipython",
        "version": 3
      },
      "file_extension": ".py",
      "mimetype": "text/x-python",
      "name": "python",
      "nbconvert_exporter": "python",
      "pygments_lexer": "ipython3",
      "version": "3.7.1"
    },
    "widgets": {
      "application/vnd.jupyter.widget-state+json": {
        "6a92f9c287de479abb54d9f1d81aed87": {
          "model_module": "@jupyter-widgets/controls",
          "model_name": "HBoxModel",
          "model_module_version": "1.5.0",
          "state": {
            "_view_name": "HBoxView",
            "_dom_classes": [],
            "_model_name": "HBoxModel",
            "_view_module": "@jupyter-widgets/controls",
            "_model_module_version": "1.5.0",
            "_view_count": null,
            "_view_module_version": "1.5.0",
            "box_style": "",
            "layout": "IPY_MODEL_a2382094ebc749d3964e74c277919fec",
            "_model_module": "@jupyter-widgets/controls",
            "children": [
              "IPY_MODEL_d2c97ba1cf67441090564b983547b587",
              "IPY_MODEL_fb21f031fb3344bca09342ee98d58201",
              "IPY_MODEL_5d49d6a3194f45ca94ffeda9971173d9"
            ]
          }
        },
        "a2382094ebc749d3964e74c277919fec": {
          "model_module": "@jupyter-widgets/base",
          "model_name": "LayoutModel",
          "model_module_version": "1.2.0",
          "state": {
            "_view_name": "LayoutView",
            "grid_template_rows": null,
            "right": null,
            "justify_content": null,
            "_view_module": "@jupyter-widgets/base",
            "overflow": null,
            "_model_module_version": "1.2.0",
            "_view_count": null,
            "flex_flow": null,
            "width": null,
            "min_width": null,
            "border": null,
            "align_items": null,
            "bottom": null,
            "_model_module": "@jupyter-widgets/base",
            "top": null,
            "grid_column": null,
            "overflow_y": null,
            "overflow_x": null,
            "grid_auto_flow": null,
            "grid_area": null,
            "grid_template_columns": null,
            "flex": null,
            "_model_name": "LayoutModel",
            "justify_items": null,
            "grid_row": null,
            "max_height": null,
            "align_content": null,
            "visibility": null,
            "align_self": null,
            "height": null,
            "min_height": null,
            "padding": null,
            "grid_auto_rows": null,
            "grid_gap": null,
            "max_width": null,
            "order": null,
            "_view_module_version": "1.2.0",
            "grid_template_areas": null,
            "object_position": null,
            "object_fit": null,
            "grid_auto_columns": null,
            "margin": null,
            "display": null,
            "left": null
          }
        },
        "d2c97ba1cf67441090564b983547b587": {
          "model_module": "@jupyter-widgets/controls",
          "model_name": "HTMLModel",
          "model_module_version": "1.5.0",
          "state": {
            "_view_name": "HTMLView",
            "style": "IPY_MODEL_29d5264564414eefa7b80dd8782a44f0",
            "_dom_classes": [],
            "description": "",
            "_model_name": "HTMLModel",
            "placeholder": "​",
            "_view_module": "@jupyter-widgets/controls",
            "_model_module_version": "1.5.0",
            "value": "Dl Completed...: 100%",
            "_view_count": null,
            "_view_module_version": "1.5.0",
            "description_tooltip": null,
            "_model_module": "@jupyter-widgets/controls",
            "layout": "IPY_MODEL_85ce0d12e6884bd1a7bca2ab9ffa2842"
          }
        },
        "fb21f031fb3344bca09342ee98d58201": {
          "model_module": "@jupyter-widgets/controls",
          "model_name": "FloatProgressModel",
          "model_module_version": "1.5.0",
          "state": {
            "_view_name": "ProgressView",
            "style": "IPY_MODEL_decdfc2cb9c648f59c8fd7953843d9e3",
            "_dom_classes": [],
            "description": "",
            "_model_name": "FloatProgressModel",
            "bar_style": "success",
            "max": 4,
            "_view_module": "@jupyter-widgets/controls",
            "_model_module_version": "1.5.0",
            "value": 4,
            "_view_count": null,
            "_view_module_version": "1.5.0",
            "orientation": "horizontal",
            "min": 0,
            "description_tooltip": null,
            "_model_module": "@jupyter-widgets/controls",
            "layout": "IPY_MODEL_481e859b782c43689bbdeda1e8bb5f91"
          }
        },
        "5d49d6a3194f45ca94ffeda9971173d9": {
          "model_module": "@jupyter-widgets/controls",
          "model_name": "HTMLModel",
          "model_module_version": "1.5.0",
          "state": {
            "_view_name": "HTMLView",
            "style": "IPY_MODEL_334fb68e3c1f4e9ab52da9cd63b49049",
            "_dom_classes": [],
            "description": "",
            "_model_name": "HTMLModel",
            "placeholder": "​",
            "_view_module": "@jupyter-widgets/controls",
            "_model_module_version": "1.5.0",
            "value": " 4/4 [00:00&lt;00:00,  8.95 file/s]",
            "_view_count": null,
            "_view_module_version": "1.5.0",
            "description_tooltip": null,
            "_model_module": "@jupyter-widgets/controls",
            "layout": "IPY_MODEL_7dff636d030a4d8cbb5e55aea419b4c6"
          }
        },
        "29d5264564414eefa7b80dd8782a44f0": {
          "model_module": "@jupyter-widgets/controls",
          "model_name": "DescriptionStyleModel",
          "model_module_version": "1.5.0",
          "state": {
            "_view_name": "StyleView",
            "_model_name": "DescriptionStyleModel",
            "description_width": "",
            "_view_module": "@jupyter-widgets/base",
            "_model_module_version": "1.5.0",
            "_view_count": null,
            "_view_module_version": "1.2.0",
            "_model_module": "@jupyter-widgets/controls"
          }
        },
        "85ce0d12e6884bd1a7bca2ab9ffa2842": {
          "model_module": "@jupyter-widgets/base",
          "model_name": "LayoutModel",
          "model_module_version": "1.2.0",
          "state": {
            "_view_name": "LayoutView",
            "grid_template_rows": null,
            "right": null,
            "justify_content": null,
            "_view_module": "@jupyter-widgets/base",
            "overflow": null,
            "_model_module_version": "1.2.0",
            "_view_count": null,
            "flex_flow": null,
            "width": null,
            "min_width": null,
            "border": null,
            "align_items": null,
            "bottom": null,
            "_model_module": "@jupyter-widgets/base",
            "top": null,
            "grid_column": null,
            "overflow_y": null,
            "overflow_x": null,
            "grid_auto_flow": null,
            "grid_area": null,
            "grid_template_columns": null,
            "flex": null,
            "_model_name": "LayoutModel",
            "justify_items": null,
            "grid_row": null,
            "max_height": null,
            "align_content": null,
            "visibility": null,
            "align_self": null,
            "height": null,
            "min_height": null,
            "padding": null,
            "grid_auto_rows": null,
            "grid_gap": null,
            "max_width": null,
            "order": null,
            "_view_module_version": "1.2.0",
            "grid_template_areas": null,
            "object_position": null,
            "object_fit": null,
            "grid_auto_columns": null,
            "margin": null,
            "display": null,
            "left": null
          }
        },
        "decdfc2cb9c648f59c8fd7953843d9e3": {
          "model_module": "@jupyter-widgets/controls",
          "model_name": "ProgressStyleModel",
          "model_module_version": "1.5.0",
          "state": {
            "_view_name": "StyleView",
            "_model_name": "ProgressStyleModel",
            "description_width": "",
            "_view_module": "@jupyter-widgets/base",
            "_model_module_version": "1.5.0",
            "_view_count": null,
            "_view_module_version": "1.2.0",
            "bar_color": null,
            "_model_module": "@jupyter-widgets/controls"
          }
        },
        "481e859b782c43689bbdeda1e8bb5f91": {
          "model_module": "@jupyter-widgets/base",
          "model_name": "LayoutModel",
          "model_module_version": "1.2.0",
          "state": {
            "_view_name": "LayoutView",
            "grid_template_rows": null,
            "right": null,
            "justify_content": null,
            "_view_module": "@jupyter-widgets/base",
            "overflow": null,
            "_model_module_version": "1.2.0",
            "_view_count": null,
            "flex_flow": null,
            "width": null,
            "min_width": null,
            "border": null,
            "align_items": null,
            "bottom": null,
            "_model_module": "@jupyter-widgets/base",
            "top": null,
            "grid_column": null,
            "overflow_y": null,
            "overflow_x": null,
            "grid_auto_flow": null,
            "grid_area": null,
            "grid_template_columns": null,
            "flex": null,
            "_model_name": "LayoutModel",
            "justify_items": null,
            "grid_row": null,
            "max_height": null,
            "align_content": null,
            "visibility": null,
            "align_self": null,
            "height": null,
            "min_height": null,
            "padding": null,
            "grid_auto_rows": null,
            "grid_gap": null,
            "max_width": null,
            "order": null,
            "_view_module_version": "1.2.0",
            "grid_template_areas": null,
            "object_position": null,
            "object_fit": null,
            "grid_auto_columns": null,
            "margin": null,
            "display": null,
            "left": null
          }
        },
        "334fb68e3c1f4e9ab52da9cd63b49049": {
          "model_module": "@jupyter-widgets/controls",
          "model_name": "DescriptionStyleModel",
          "model_module_version": "1.5.0",
          "state": {
            "_view_name": "StyleView",
            "_model_name": "DescriptionStyleModel",
            "description_width": "",
            "_view_module": "@jupyter-widgets/base",
            "_model_module_version": "1.5.0",
            "_view_count": null,
            "_view_module_version": "1.2.0",
            "_model_module": "@jupyter-widgets/controls"
          }
        },
        "7dff636d030a4d8cbb5e55aea419b4c6": {
          "model_module": "@jupyter-widgets/base",
          "model_name": "LayoutModel",
          "model_module_version": "1.2.0",
          "state": {
            "_view_name": "LayoutView",
            "grid_template_rows": null,
            "right": null,
            "justify_content": null,
            "_view_module": "@jupyter-widgets/base",
            "overflow": null,
            "_model_module_version": "1.2.0",
            "_view_count": null,
            "flex_flow": null,
            "width": null,
            "min_width": null,
            "border": null,
            "align_items": null,
            "bottom": null,
            "_model_module": "@jupyter-widgets/base",
            "top": null,
            "grid_column": null,
            "overflow_y": null,
            "overflow_x": null,
            "grid_auto_flow": null,
            "grid_area": null,
            "grid_template_columns": null,
            "flex": null,
            "_model_name": "LayoutModel",
            "justify_items": null,
            "grid_row": null,
            "max_height": null,
            "align_content": null,
            "visibility": null,
            "align_self": null,
            "height": null,
            "min_height": null,
            "padding": null,
            "grid_auto_rows": null,
            "grid_gap": null,
            "max_width": null,
            "order": null,
            "_view_module_version": "1.2.0",
            "grid_template_areas": null,
            "object_position": null,
            "object_fit": null,
            "grid_auto_columns": null,
            "margin": null,
            "display": null,
            "left": null
          }
        },
        "21d0d1d2e0e14d07a07201d138e66323": {
          "model_module": "@jupyter-widgets/controls",
          "model_name": "HBoxModel",
          "model_module_version": "1.5.0",
          "state": {
            "_view_name": "HBoxView",
            "_dom_classes": [],
            "_model_name": "HBoxModel",
            "_view_module": "@jupyter-widgets/controls",
            "_model_module_version": "1.5.0",
            "_view_count": null,
            "_view_module_version": "1.5.0",
            "box_style": "",
            "layout": "IPY_MODEL_62292c96036e4607807f4892edd17593",
            "_model_module": "@jupyter-widgets/controls",
            "children": [
              "IPY_MODEL_cf97d57d63ca41e0b58a7a049e354039",
              "IPY_MODEL_feb70d16b7934f6b85e98b7ad9a2a85e",
              "IPY_MODEL_3d56546b66564d52b5d38a81f7317899"
            ]
          }
        },
        "62292c96036e4607807f4892edd17593": {
          "model_module": "@jupyter-widgets/base",
          "model_name": "LayoutModel",
          "model_module_version": "1.2.0",
          "state": {
            "_view_name": "LayoutView",
            "grid_template_rows": null,
            "right": null,
            "justify_content": null,
            "_view_module": "@jupyter-widgets/base",
            "overflow": null,
            "_model_module_version": "1.2.0",
            "_view_count": null,
            "flex_flow": null,
            "width": null,
            "min_width": null,
            "border": null,
            "align_items": null,
            "bottom": null,
            "_model_module": "@jupyter-widgets/base",
            "top": null,
            "grid_column": null,
            "overflow_y": null,
            "overflow_x": null,
            "grid_auto_flow": null,
            "grid_area": null,
            "grid_template_columns": null,
            "flex": null,
            "_model_name": "LayoutModel",
            "justify_items": null,
            "grid_row": null,
            "max_height": null,
            "align_content": null,
            "visibility": null,
            "align_self": null,
            "height": null,
            "min_height": null,
            "padding": null,
            "grid_auto_rows": null,
            "grid_gap": null,
            "max_width": null,
            "order": null,
            "_view_module_version": "1.2.0",
            "grid_template_areas": null,
            "object_position": null,
            "object_fit": null,
            "grid_auto_columns": null,
            "margin": null,
            "display": null,
            "left": null
          }
        },
        "cf97d57d63ca41e0b58a7a049e354039": {
          "model_module": "@jupyter-widgets/controls",
          "model_name": "HTMLModel",
          "model_module_version": "1.5.0",
          "state": {
            "_view_name": "HTMLView",
            "style": "IPY_MODEL_79bb7cc7b196436fb74655086619d3ac",
            "_dom_classes": [],
            "description": "",
            "_model_name": "HTMLModel",
            "placeholder": "​",
            "_view_module": "@jupyter-widgets/controls",
            "_model_module_version": "1.5.0",
            "value": "Dl Completed...: 100%",
            "_view_count": null,
            "_view_module_version": "1.5.0",
            "description_tooltip": null,
            "_model_module": "@jupyter-widgets/controls",
            "layout": "IPY_MODEL_6378846e09944fe5b2907b64a7522458"
          }
        },
        "feb70d16b7934f6b85e98b7ad9a2a85e": {
          "model_module": "@jupyter-widgets/controls",
          "model_name": "FloatProgressModel",
          "model_module_version": "1.5.0",
          "state": {
            "_view_name": "ProgressView",
            "style": "IPY_MODEL_e9d891f46f9348e9b05e16947e103d0d",
            "_dom_classes": [],
            "description": "",
            "_model_name": "FloatProgressModel",
            "bar_style": "success",
            "max": 1,
            "_view_module": "@jupyter-widgets/controls",
            "_model_module_version": "1.5.0",
            "value": 1,
            "_view_count": null,
            "_view_module_version": "1.5.0",
            "orientation": "horizontal",
            "min": 0,
            "description_tooltip": null,
            "_model_module": "@jupyter-widgets/controls",
            "layout": "IPY_MODEL_6d3e2da4b89d4217b372b5bfdd050a1e"
          }
        },
        "3d56546b66564d52b5d38a81f7317899": {
          "model_module": "@jupyter-widgets/controls",
          "model_name": "HTMLModel",
          "model_module_version": "1.5.0",
          "state": {
            "_view_name": "HTMLView",
            "style": "IPY_MODEL_57a16b05626b4a1f88231996cefc6ad6",
            "_dom_classes": [],
            "description": "",
            "_model_name": "HTMLModel",
            "placeholder": "​",
            "_view_module": "@jupyter-widgets/controls",
            "_model_module_version": "1.5.0",
            "value": " 1/1 [00:23&lt;00:00, 16.41s/ url]",
            "_view_count": null,
            "_view_module_version": "1.5.0",
            "description_tooltip": null,
            "_model_module": "@jupyter-widgets/controls",
            "layout": "IPY_MODEL_f11f3ec06c524514b74cfb16ec7f5ef9"
          }
        },
        "da7c7a65ee254bd9aaff5c1888c0eaaa": {
          "model_module": "@jupyter-widgets/controls",
          "model_name": "HBoxModel",
          "model_module_version": "1.5.0",
          "state": {
            "_view_name": "HBoxView",
            "_dom_classes": [],
            "_model_name": "HBoxModel",
            "_view_module": "@jupyter-widgets/controls",
            "_model_module_version": "1.5.0",
            "_view_count": null,
            "_view_module_version": "1.5.0",
            "box_style": "",
            "layout": "IPY_MODEL_c12237b977984cec91a8c649325394e7",
            "_model_module": "@jupyter-widgets/controls",
            "children": [
              "IPY_MODEL_6f18666d74334e2985124271df3d94b4",
              "IPY_MODEL_86a8bd7d33104fbe8b17fc477e877a89",
              "IPY_MODEL_a6278d8f34e3473ab770eb3526667cc3"
            ]
          }
        },
        "610fc9a202034a2780bc2db0e763ee87": {
          "model_module": "@jupyter-widgets/controls",
          "model_name": "HBoxModel",
          "model_module_version": "1.5.0",
          "state": {
            "_view_name": "HBoxView",
            "_dom_classes": [],
            "_model_name": "HBoxModel",
            "_view_module": "@jupyter-widgets/controls",
            "_model_module_version": "1.5.0",
            "_view_count": null,
            "_view_module_version": "1.5.0",
            "box_style": "",
            "layout": "IPY_MODEL_6c31c475473c4865be7fe5f35568fb73",
            "_model_module": "@jupyter-widgets/controls",
            "children": [
              "IPY_MODEL_0eea714a3b974983ad39b3b43398a75d",
              "IPY_MODEL_93ce5f35b4f64fcf8d978eae90d58e6b",
              "IPY_MODEL_d4f52ca1fec1411ba19bf8b64d3776db"
            ]
          }
        },
        "79bb7cc7b196436fb74655086619d3ac": {
          "model_module": "@jupyter-widgets/controls",
          "model_name": "DescriptionStyleModel",
          "model_module_version": "1.5.0",
          "state": {
            "_view_name": "StyleView",
            "_model_name": "DescriptionStyleModel",
            "description_width": "",
            "_view_module": "@jupyter-widgets/base",
            "_model_module_version": "1.5.0",
            "_view_count": null,
            "_view_module_version": "1.2.0",
            "_model_module": "@jupyter-widgets/controls"
          }
        },
        "6378846e09944fe5b2907b64a7522458": {
          "model_module": "@jupyter-widgets/base",
          "model_name": "LayoutModel",
          "model_module_version": "1.2.0",
          "state": {
            "_view_name": "LayoutView",
            "grid_template_rows": null,
            "right": null,
            "justify_content": null,
            "_view_module": "@jupyter-widgets/base",
            "overflow": null,
            "_model_module_version": "1.2.0",
            "_view_count": null,
            "flex_flow": null,
            "width": null,
            "min_width": null,
            "border": null,
            "align_items": null,
            "bottom": null,
            "_model_module": "@jupyter-widgets/base",
            "top": null,
            "grid_column": null,
            "overflow_y": null,
            "overflow_x": null,
            "grid_auto_flow": null,
            "grid_area": null,
            "grid_template_columns": null,
            "flex": null,
            "_model_name": "LayoutModel",
            "justify_items": null,
            "grid_row": null,
            "max_height": null,
            "align_content": null,
            "visibility": null,
            "align_self": null,
            "height": null,
            "min_height": null,
            "padding": null,
            "grid_auto_rows": null,
            "grid_gap": null,
            "max_width": null,
            "order": null,
            "_view_module_version": "1.2.0",
            "grid_template_areas": null,
            "object_position": null,
            "object_fit": null,
            "grid_auto_columns": null,
            "margin": null,
            "display": null,
            "left": null
          }
        },
        "e9d891f46f9348e9b05e16947e103d0d": {
          "model_module": "@jupyter-widgets/controls",
          "model_name": "ProgressStyleModel",
          "model_module_version": "1.5.0",
          "state": {
            "_view_name": "StyleView",
            "_model_name": "ProgressStyleModel",
            "description_width": "",
            "_view_module": "@jupyter-widgets/base",
            "_model_module_version": "1.5.0",
            "_view_count": null,
            "_view_module_version": "1.2.0",
            "bar_color": null,
            "_model_module": "@jupyter-widgets/controls"
          }
        },
        "6d3e2da4b89d4217b372b5bfdd050a1e": {
          "model_module": "@jupyter-widgets/base",
          "model_name": "LayoutModel",
          "model_module_version": "1.2.0",
          "state": {
            "_view_name": "LayoutView",
            "grid_template_rows": null,
            "right": null,
            "justify_content": null,
            "_view_module": "@jupyter-widgets/base",
            "overflow": null,
            "_model_module_version": "1.2.0",
            "_view_count": null,
            "flex_flow": null,
            "width": "20px",
            "min_width": null,
            "border": null,
            "align_items": null,
            "bottom": null,
            "_model_module": "@jupyter-widgets/base",
            "top": null,
            "grid_column": null,
            "overflow_y": null,
            "overflow_x": null,
            "grid_auto_flow": null,
            "grid_area": null,
            "grid_template_columns": null,
            "flex": null,
            "_model_name": "LayoutModel",
            "justify_items": null,
            "grid_row": null,
            "max_height": null,
            "align_content": null,
            "visibility": null,
            "align_self": null,
            "height": null,
            "min_height": null,
            "padding": null,
            "grid_auto_rows": null,
            "grid_gap": null,
            "max_width": null,
            "order": null,
            "_view_module_version": "1.2.0",
            "grid_template_areas": null,
            "object_position": null,
            "object_fit": null,
            "grid_auto_columns": null,
            "margin": null,
            "display": null,
            "left": null
          }
        },
        "57a16b05626b4a1f88231996cefc6ad6": {
          "model_module": "@jupyter-widgets/controls",
          "model_name": "DescriptionStyleModel",
          "model_module_version": "1.5.0",
          "state": {
            "_view_name": "StyleView",
            "_model_name": "DescriptionStyleModel",
            "description_width": "",
            "_view_module": "@jupyter-widgets/base",
            "_model_module_version": "1.5.0",
            "_view_count": null,
            "_view_module_version": "1.2.0",
            "_model_module": "@jupyter-widgets/controls"
          }
        },
        "f11f3ec06c524514b74cfb16ec7f5ef9": {
          "model_module": "@jupyter-widgets/base",
          "model_name": "LayoutModel",
          "model_module_version": "1.2.0",
          "state": {
            "_view_name": "LayoutView",
            "grid_template_rows": null,
            "right": null,
            "justify_content": null,
            "_view_module": "@jupyter-widgets/base",
            "overflow": null,
            "_model_module_version": "1.2.0",
            "_view_count": null,
            "flex_flow": null,
            "width": null,
            "min_width": null,
            "border": null,
            "align_items": null,
            "bottom": null,
            "_model_module": "@jupyter-widgets/base",
            "top": null,
            "grid_column": null,
            "overflow_y": null,
            "overflow_x": null,
            "grid_auto_flow": null,
            "grid_area": null,
            "grid_template_columns": null,
            "flex": null,
            "_model_name": "LayoutModel",
            "justify_items": null,
            "grid_row": null,
            "max_height": null,
            "align_content": null,
            "visibility": null,
            "align_self": null,
            "height": null,
            "min_height": null,
            "padding": null,
            "grid_auto_rows": null,
            "grid_gap": null,
            "max_width": null,
            "order": null,
            "_view_module_version": "1.2.0",
            "grid_template_areas": null,
            "object_position": null,
            "object_fit": null,
            "grid_auto_columns": null,
            "margin": null,
            "display": null,
            "left": null
          }
        },
        "c12237b977984cec91a8c649325394e7": {
          "model_module": "@jupyter-widgets/base",
          "model_name": "LayoutModel",
          "model_module_version": "1.2.0",
          "state": {
            "_view_name": "LayoutView",
            "grid_template_rows": null,
            "right": null,
            "justify_content": null,
            "_view_module": "@jupyter-widgets/base",
            "overflow": null,
            "_model_module_version": "1.2.0",
            "_view_count": null,
            "flex_flow": null,
            "width": null,
            "min_width": null,
            "border": null,
            "align_items": null,
            "bottom": null,
            "_model_module": "@jupyter-widgets/base",
            "top": null,
            "grid_column": null,
            "overflow_y": null,
            "overflow_x": null,
            "grid_auto_flow": null,
            "grid_area": null,
            "grid_template_columns": null,
            "flex": null,
            "_model_name": "LayoutModel",
            "justify_items": null,
            "grid_row": null,
            "max_height": null,
            "align_content": null,
            "visibility": null,
            "align_self": null,
            "height": null,
            "min_height": null,
            "padding": null,
            "grid_auto_rows": null,
            "grid_gap": null,
            "max_width": null,
            "order": null,
            "_view_module_version": "1.2.0",
            "grid_template_areas": null,
            "object_position": null,
            "object_fit": null,
            "grid_auto_columns": null,
            "margin": null,
            "display": null,
            "left": null
          }
        },
        "6f18666d74334e2985124271df3d94b4": {
          "model_module": "@jupyter-widgets/controls",
          "model_name": "HTMLModel",
          "model_module_version": "1.5.0",
          "state": {
            "_view_name": "HTMLView",
            "style": "IPY_MODEL_eac8662afb584360bdab0b6f0efc6328",
            "_dom_classes": [],
            "description": "",
            "_model_name": "HTMLModel",
            "placeholder": "​",
            "_view_module": "@jupyter-widgets/controls",
            "_model_module_version": "1.5.0",
            "value": "Dl Size...: 100%",
            "_view_count": null,
            "_view_module_version": "1.5.0",
            "description_tooltip": null,
            "_model_module": "@jupyter-widgets/controls",
            "layout": "IPY_MODEL_3a7c0b7a66994b34a6cf18c5cab5043b"
          }
        },
        "86a8bd7d33104fbe8b17fc477e877a89": {
          "model_module": "@jupyter-widgets/controls",
          "model_name": "FloatProgressModel",
          "model_module_version": "1.5.0",
          "state": {
            "_view_name": "ProgressView",
            "style": "IPY_MODEL_4dfdde4ff710472dafb03031b0552517",
            "_dom_classes": [],
            "description": "",
            "_model_name": "FloatProgressModel",
            "bar_style": "success",
            "max": 1,
            "_view_module": "@jupyter-widgets/controls",
            "_model_module_version": "1.5.0",
            "value": 1,
            "_view_count": null,
            "_view_module_version": "1.5.0",
            "orientation": "horizontal",
            "min": 0,
            "description_tooltip": null,
            "_model_module": "@jupyter-widgets/controls",
            "layout": "IPY_MODEL_459e37b156384ae29933c654d8122c6d"
          }
        },
        "a6278d8f34e3473ab770eb3526667cc3": {
          "model_module": "@jupyter-widgets/controls",
          "model_name": "HTMLModel",
          "model_module_version": "1.5.0",
          "state": {
            "_view_name": "HTMLView",
            "style": "IPY_MODEL_eada607c8fdf4d4ab44d503ffb83e749",
            "_dom_classes": [],
            "description": "",
            "_model_name": "HTMLModel",
            "placeholder": "​",
            "_view_module": "@jupyter-widgets/controls",
            "_model_module_version": "1.5.0",
            "value": " 235/235 [00:23&lt;00:00, 17.54 MiB/s]",
            "_view_count": null,
            "_view_module_version": "1.5.0",
            "description_tooltip": null,
            "_model_module": "@jupyter-widgets/controls",
            "layout": "IPY_MODEL_b1fbe2075cfe4454b73927080580f598"
          }
        },
        "eac8662afb584360bdab0b6f0efc6328": {
          "model_module": "@jupyter-widgets/controls",
          "model_name": "DescriptionStyleModel",
          "model_module_version": "1.5.0",
          "state": {
            "_view_name": "StyleView",
            "_model_name": "DescriptionStyleModel",
            "description_width": "",
            "_view_module": "@jupyter-widgets/base",
            "_model_module_version": "1.5.0",
            "_view_count": null,
            "_view_module_version": "1.2.0",
            "_model_module": "@jupyter-widgets/controls"
          }
        },
        "3a7c0b7a66994b34a6cf18c5cab5043b": {
          "model_module": "@jupyter-widgets/base",
          "model_name": "LayoutModel",
          "model_module_version": "1.2.0",
          "state": {
            "_view_name": "LayoutView",
            "grid_template_rows": null,
            "right": null,
            "justify_content": null,
            "_view_module": "@jupyter-widgets/base",
            "overflow": null,
            "_model_module_version": "1.2.0",
            "_view_count": null,
            "flex_flow": null,
            "width": null,
            "min_width": null,
            "border": null,
            "align_items": null,
            "bottom": null,
            "_model_module": "@jupyter-widgets/base",
            "top": null,
            "grid_column": null,
            "overflow_y": null,
            "overflow_x": null,
            "grid_auto_flow": null,
            "grid_area": null,
            "grid_template_columns": null,
            "flex": null,
            "_model_name": "LayoutModel",
            "justify_items": null,
            "grid_row": null,
            "max_height": null,
            "align_content": null,
            "visibility": null,
            "align_self": null,
            "height": null,
            "min_height": null,
            "padding": null,
            "grid_auto_rows": null,
            "grid_gap": null,
            "max_width": null,
            "order": null,
            "_view_module_version": "1.2.0",
            "grid_template_areas": null,
            "object_position": null,
            "object_fit": null,
            "grid_auto_columns": null,
            "margin": null,
            "display": null,
            "left": null
          }
        },
        "4dfdde4ff710472dafb03031b0552517": {
          "model_module": "@jupyter-widgets/controls",
          "model_name": "ProgressStyleModel",
          "model_module_version": "1.5.0",
          "state": {
            "_view_name": "StyleView",
            "_model_name": "ProgressStyleModel",
            "description_width": "",
            "_view_module": "@jupyter-widgets/base",
            "_model_module_version": "1.5.0",
            "_view_count": null,
            "_view_module_version": "1.2.0",
            "bar_color": null,
            "_model_module": "@jupyter-widgets/controls"
          }
        },
        "459e37b156384ae29933c654d8122c6d": {
          "model_module": "@jupyter-widgets/base",
          "model_name": "LayoutModel",
          "model_module_version": "1.2.0",
          "state": {
            "_view_name": "LayoutView",
            "grid_template_rows": null,
            "right": null,
            "justify_content": null,
            "_view_module": "@jupyter-widgets/base",
            "overflow": null,
            "_model_module_version": "1.2.0",
            "_view_count": null,
            "flex_flow": null,
            "width": "20px",
            "min_width": null,
            "border": null,
            "align_items": null,
            "bottom": null,
            "_model_module": "@jupyter-widgets/base",
            "top": null,
            "grid_column": null,
            "overflow_y": null,
            "overflow_x": null,
            "grid_auto_flow": null,
            "grid_area": null,
            "grid_template_columns": null,
            "flex": null,
            "_model_name": "LayoutModel",
            "justify_items": null,
            "grid_row": null,
            "max_height": null,
            "align_content": null,
            "visibility": null,
            "align_self": null,
            "height": null,
            "min_height": null,
            "padding": null,
            "grid_auto_rows": null,
            "grid_gap": null,
            "max_width": null,
            "order": null,
            "_view_module_version": "1.2.0",
            "grid_template_areas": null,
            "object_position": null,
            "object_fit": null,
            "grid_auto_columns": null,
            "margin": null,
            "display": null,
            "left": null
          }
        },
        "eada607c8fdf4d4ab44d503ffb83e749": {
          "model_module": "@jupyter-widgets/controls",
          "model_name": "DescriptionStyleModel",
          "model_module_version": "1.5.0",
          "state": {
            "_view_name": "StyleView",
            "_model_name": "DescriptionStyleModel",
            "description_width": "",
            "_view_module": "@jupyter-widgets/base",
            "_model_module_version": "1.5.0",
            "_view_count": null,
            "_view_module_version": "1.2.0",
            "_model_module": "@jupyter-widgets/controls"
          }
        },
        "b1fbe2075cfe4454b73927080580f598": {
          "model_module": "@jupyter-widgets/base",
          "model_name": "LayoutModel",
          "model_module_version": "1.2.0",
          "state": {
            "_view_name": "LayoutView",
            "grid_template_rows": null,
            "right": null,
            "justify_content": null,
            "_view_module": "@jupyter-widgets/base",
            "overflow": null,
            "_model_module_version": "1.2.0",
            "_view_count": null,
            "flex_flow": null,
            "width": null,
            "min_width": null,
            "border": null,
            "align_items": null,
            "bottom": null,
            "_model_module": "@jupyter-widgets/base",
            "top": null,
            "grid_column": null,
            "overflow_y": null,
            "overflow_x": null,
            "grid_auto_flow": null,
            "grid_area": null,
            "grid_template_columns": null,
            "flex": null,
            "_model_name": "LayoutModel",
            "justify_items": null,
            "grid_row": null,
            "max_height": null,
            "align_content": null,
            "visibility": null,
            "align_self": null,
            "height": null,
            "min_height": null,
            "padding": null,
            "grid_auto_rows": null,
            "grid_gap": null,
            "max_width": null,
            "order": null,
            "_view_module_version": "1.2.0",
            "grid_template_areas": null,
            "object_position": null,
            "object_fit": null,
            "grid_auto_columns": null,
            "margin": null,
            "display": null,
            "left": null
          }
        },
        "6c31c475473c4865be7fe5f35568fb73": {
          "model_module": "@jupyter-widgets/base",
          "model_name": "LayoutModel",
          "model_module_version": "1.2.0",
          "state": {
            "_view_name": "LayoutView",
            "grid_template_rows": null,
            "right": null,
            "justify_content": null,
            "_view_module": "@jupyter-widgets/base",
            "overflow": null,
            "_model_module_version": "1.2.0",
            "_view_count": null,
            "flex_flow": null,
            "width": null,
            "min_width": null,
            "border": null,
            "align_items": null,
            "bottom": null,
            "_model_module": "@jupyter-widgets/base",
            "top": null,
            "grid_column": null,
            "overflow_y": null,
            "overflow_x": null,
            "grid_auto_flow": null,
            "grid_area": null,
            "grid_template_columns": null,
            "flex": null,
            "_model_name": "LayoutModel",
            "justify_items": null,
            "grid_row": null,
            "max_height": null,
            "align_content": null,
            "visibility": null,
            "align_self": null,
            "height": null,
            "min_height": null,
            "padding": null,
            "grid_auto_rows": null,
            "grid_gap": null,
            "max_width": null,
            "order": null,
            "_view_module_version": "1.2.0",
            "grid_template_areas": null,
            "object_position": null,
            "object_fit": null,
            "grid_auto_columns": null,
            "margin": null,
            "display": null,
            "left": null
          }
        },
        "0eea714a3b974983ad39b3b43398a75d": {
          "model_module": "@jupyter-widgets/controls",
          "model_name": "HTMLModel",
          "model_module_version": "1.5.0",
          "state": {
            "_view_name": "HTMLView",
            "style": "IPY_MODEL_05ddde5513e24eeaaa5e680b29888625",
            "_dom_classes": [],
            "description": "",
            "_model_name": "HTMLModel",
            "placeholder": "​",
            "_view_module": "@jupyter-widgets/controls",
            "_model_module_version": "1.5.0",
            "value": "Extraction completed...: 100%",
            "_view_count": null,
            "_view_module_version": "1.5.0",
            "description_tooltip": null,
            "_model_module": "@jupyter-widgets/controls",
            "layout": "IPY_MODEL_d35ce27779c44ea69fe343848f0eff24"
          }
        },
        "93ce5f35b4f64fcf8d978eae90d58e6b": {
          "model_module": "@jupyter-widgets/controls",
          "model_name": "FloatProgressModel",
          "model_module_version": "1.5.0",
          "state": {
            "_view_name": "ProgressView",
            "style": "IPY_MODEL_3a366d7f26614268bc0f939425b16b25",
            "_dom_classes": [],
            "description": "",
            "_model_name": "FloatProgressModel",
            "bar_style": "success",
            "max": 1,
            "_view_module": "@jupyter-widgets/controls",
            "_model_module_version": "1.5.0",
            "value": 1,
            "_view_count": null,
            "_view_module_version": "1.5.0",
            "orientation": "horizontal",
            "min": 0,
            "description_tooltip": null,
            "_model_module": "@jupyter-widgets/controls",
            "layout": "IPY_MODEL_1d66e667a0234907a8586986a85d90b1"
          }
        },
        "d4f52ca1fec1411ba19bf8b64d3776db": {
          "model_module": "@jupyter-widgets/controls",
          "model_name": "HTMLModel",
          "model_module_version": "1.5.0",
          "state": {
            "_view_name": "HTMLView",
            "style": "IPY_MODEL_dc80eb413e99491f8dfa17ffb2583984",
            "_dom_classes": [],
            "description": "",
            "_model_name": "HTMLModel",
            "placeholder": "​",
            "_view_module": "@jupyter-widgets/controls",
            "_model_module_version": "1.5.0",
            "value": " 1/1 [00:23&lt;00:00, 23.05s/ file]",
            "_view_count": null,
            "_view_module_version": "1.5.0",
            "description_tooltip": null,
            "_model_module": "@jupyter-widgets/controls",
            "layout": "IPY_MODEL_a9c453188b2a4de19c5bd0cba7f2ee8e"
          }
        },
        "05ddde5513e24eeaaa5e680b29888625": {
          "model_module": "@jupyter-widgets/controls",
          "model_name": "DescriptionStyleModel",
          "model_module_version": "1.5.0",
          "state": {
            "_view_name": "StyleView",
            "_model_name": "DescriptionStyleModel",
            "description_width": "",
            "_view_module": "@jupyter-widgets/base",
            "_model_module_version": "1.5.0",
            "_view_count": null,
            "_view_module_version": "1.2.0",
            "_model_module": "@jupyter-widgets/controls"
          }
        },
        "d35ce27779c44ea69fe343848f0eff24": {
          "model_module": "@jupyter-widgets/base",
          "model_name": "LayoutModel",
          "model_module_version": "1.2.0",
          "state": {
            "_view_name": "LayoutView",
            "grid_template_rows": null,
            "right": null,
            "justify_content": null,
            "_view_module": "@jupyter-widgets/base",
            "overflow": null,
            "_model_module_version": "1.2.0",
            "_view_count": null,
            "flex_flow": null,
            "width": null,
            "min_width": null,
            "border": null,
            "align_items": null,
            "bottom": null,
            "_model_module": "@jupyter-widgets/base",
            "top": null,
            "grid_column": null,
            "overflow_y": null,
            "overflow_x": null,
            "grid_auto_flow": null,
            "grid_area": null,
            "grid_template_columns": null,
            "flex": null,
            "_model_name": "LayoutModel",
            "justify_items": null,
            "grid_row": null,
            "max_height": null,
            "align_content": null,
            "visibility": null,
            "align_self": null,
            "height": null,
            "min_height": null,
            "padding": null,
            "grid_auto_rows": null,
            "grid_gap": null,
            "max_width": null,
            "order": null,
            "_view_module_version": "1.2.0",
            "grid_template_areas": null,
            "object_position": null,
            "object_fit": null,
            "grid_auto_columns": null,
            "margin": null,
            "display": null,
            "left": null
          }
        },
        "3a366d7f26614268bc0f939425b16b25": {
          "model_module": "@jupyter-widgets/controls",
          "model_name": "ProgressStyleModel",
          "model_module_version": "1.5.0",
          "state": {
            "_view_name": "StyleView",
            "_model_name": "ProgressStyleModel",
            "description_width": "",
            "_view_module": "@jupyter-widgets/base",
            "_model_module_version": "1.5.0",
            "_view_count": null,
            "_view_module_version": "1.2.0",
            "bar_color": null,
            "_model_module": "@jupyter-widgets/controls"
          }
        },
        "1d66e667a0234907a8586986a85d90b1": {
          "model_module": "@jupyter-widgets/base",
          "model_name": "LayoutModel",
          "model_module_version": "1.2.0",
          "state": {
            "_view_name": "LayoutView",
            "grid_template_rows": null,
            "right": null,
            "justify_content": null,
            "_view_module": "@jupyter-widgets/base",
            "overflow": null,
            "_model_module_version": "1.2.0",
            "_view_count": null,
            "flex_flow": null,
            "width": "20px",
            "min_width": null,
            "border": null,
            "align_items": null,
            "bottom": null,
            "_model_module": "@jupyter-widgets/base",
            "top": null,
            "grid_column": null,
            "overflow_y": null,
            "overflow_x": null,
            "grid_auto_flow": null,
            "grid_area": null,
            "grid_template_columns": null,
            "flex": null,
            "_model_name": "LayoutModel",
            "justify_items": null,
            "grid_row": null,
            "max_height": null,
            "align_content": null,
            "visibility": null,
            "align_self": null,
            "height": null,
            "min_height": null,
            "padding": null,
            "grid_auto_rows": null,
            "grid_gap": null,
            "max_width": null,
            "order": null,
            "_view_module_version": "1.2.0",
            "grid_template_areas": null,
            "object_position": null,
            "object_fit": null,
            "grid_auto_columns": null,
            "margin": null,
            "display": null,
            "left": null
          }
        },
        "dc80eb413e99491f8dfa17ffb2583984": {
          "model_module": "@jupyter-widgets/controls",
          "model_name": "DescriptionStyleModel",
          "model_module_version": "1.5.0",
          "state": {
            "_view_name": "StyleView",
            "_model_name": "DescriptionStyleModel",
            "description_width": "",
            "_view_module": "@jupyter-widgets/base",
            "_model_module_version": "1.5.0",
            "_view_count": null,
            "_view_module_version": "1.2.0",
            "_model_module": "@jupyter-widgets/controls"
          }
        },
        "a9c453188b2a4de19c5bd0cba7f2ee8e": {
          "model_module": "@jupyter-widgets/base",
          "model_name": "LayoutModel",
          "model_module_version": "1.2.0",
          "state": {
            "_view_name": "LayoutView",
            "grid_template_rows": null,
            "right": null,
            "justify_content": null,
            "_view_module": "@jupyter-widgets/base",
            "overflow": null,
            "_model_module_version": "1.2.0",
            "_view_count": null,
            "flex_flow": null,
            "width": null,
            "min_width": null,
            "border": null,
            "align_items": null,
            "bottom": null,
            "_model_module": "@jupyter-widgets/base",
            "top": null,
            "grid_column": null,
            "overflow_y": null,
            "overflow_x": null,
            "grid_auto_flow": null,
            "grid_area": null,
            "grid_template_columns": null,
            "flex": null,
            "_model_name": "LayoutModel",
            "justify_items": null,
            "grid_row": null,
            "max_height": null,
            "align_content": null,
            "visibility": null,
            "align_self": null,
            "height": null,
            "min_height": null,
            "padding": null,
            "grid_auto_rows": null,
            "grid_gap": null,
            "max_width": null,
            "order": null,
            "_view_module_version": "1.2.0",
            "grid_template_areas": null,
            "object_position": null,
            "object_fit": null,
            "grid_auto_columns": null,
            "margin": null,
            "display": null,
            "left": null
          }
        },
        "63a502c51db04d419bcf3db92079538b": {
          "model_module": "@jupyter-widgets/controls",
          "model_name": "HBoxModel",
          "model_module_version": "1.5.0",
          "state": {
            "_view_name": "HBoxView",
            "_dom_classes": [],
            "_model_name": "HBoxModel",
            "_view_module": "@jupyter-widgets/controls",
            "_model_module_version": "1.5.0",
            "_view_count": null,
            "_view_module_version": "1.5.0",
            "box_style": "",
            "layout": "IPY_MODEL_27d1f5a08f84495f976683c2de74c6b1",
            "_model_module": "@jupyter-widgets/controls",
            "children": [
              "IPY_MODEL_2ba25a84ccbb441db555dfeda3891abd",
              "IPY_MODEL_e77882a8109648958276a34d2b225518",
              "IPY_MODEL_edefe7a23a5342c8b228d2cb2f803a8d"
            ]
          }
        },
        "27d1f5a08f84495f976683c2de74c6b1": {
          "model_module": "@jupyter-widgets/base",
          "model_name": "LayoutModel",
          "model_module_version": "1.2.0",
          "state": {
            "_view_name": "LayoutView",
            "grid_template_rows": null,
            "right": null,
            "justify_content": null,
            "_view_module": "@jupyter-widgets/base",
            "overflow": null,
            "_model_module_version": "1.2.0",
            "_view_count": null,
            "flex_flow": null,
            "width": null,
            "min_width": null,
            "border": null,
            "align_items": null,
            "bottom": null,
            "_model_module": "@jupyter-widgets/base",
            "top": null,
            "grid_column": null,
            "overflow_y": null,
            "overflow_x": null,
            "grid_auto_flow": null,
            "grid_area": null,
            "grid_template_columns": null,
            "flex": null,
            "_model_name": "LayoutModel",
            "justify_items": null,
            "grid_row": null,
            "max_height": null,
            "align_content": null,
            "visibility": null,
            "align_self": null,
            "height": null,
            "min_height": null,
            "padding": null,
            "grid_auto_rows": null,
            "grid_gap": null,
            "max_width": null,
            "order": null,
            "_view_module_version": "1.2.0",
            "grid_template_areas": null,
            "object_position": null,
            "object_fit": null,
            "grid_auto_columns": null,
            "margin": null,
            "display": null,
            "left": null
          }
        },
        "2ba25a84ccbb441db555dfeda3891abd": {
          "model_module": "@jupyter-widgets/controls",
          "model_name": "HTMLModel",
          "model_module_version": "1.5.0",
          "state": {
            "_view_name": "HTMLView",
            "style": "IPY_MODEL_dfd93e0689f44c32886dafae9473f72f",
            "_dom_classes": [],
            "description": "",
            "_model_name": "HTMLModel",
            "placeholder": "​",
            "_view_module": "@jupyter-widgets/controls",
            "_model_module_version": "1.5.0",
            "value": "",
            "_view_count": null,
            "_view_module_version": "1.5.0",
            "description_tooltip": null,
            "_model_module": "@jupyter-widgets/controls",
            "layout": "IPY_MODEL_f82a74753d9c47f0b650e75cb2ab0ebd"
          }
        },
        "e77882a8109648958276a34d2b225518": {
          "model_module": "@jupyter-widgets/controls",
          "model_name": "FloatProgressModel",
          "model_module_version": "1.5.0",
          "state": {
            "_view_name": "ProgressView",
            "style": "IPY_MODEL_d1c28fcb4fbe43e28ebb9aa76482f389",
            "_dom_classes": [],
            "description": "",
            "_model_name": "FloatProgressModel",
            "bar_style": "info",
            "max": 1,
            "_view_module": "@jupyter-widgets/controls",
            "_model_module_version": "1.5.0",
            "value": 1,
            "_view_count": null,
            "_view_module_version": "1.5.0",
            "orientation": "horizontal",
            "min": 0,
            "description_tooltip": null,
            "_model_module": "@jupyter-widgets/controls",
            "layout": "IPY_MODEL_3d9cb08e676c43e6b5474d381b41b8d9"
          }
        },
        "edefe7a23a5342c8b228d2cb2f803a8d": {
          "model_module": "@jupyter-widgets/controls",
          "model_name": "HTMLModel",
          "model_module_version": "1.5.0",
          "state": {
            "_view_name": "HTMLView",
            "style": "IPY_MODEL_6a22959bf53a40c2bab6deac0cfd5288",
            "_dom_classes": [],
            "description": "",
            "_model_name": "HTMLModel",
            "placeholder": "​",
            "_view_module": "@jupyter-widgets/controls",
            "_model_module_version": "1.5.0",
            "value": " 59999/0 [00:34&lt;00:00, 1736.79 examples/s]",
            "_view_count": null,
            "_view_module_version": "1.5.0",
            "description_tooltip": null,
            "_model_module": "@jupyter-widgets/controls",
            "layout": "IPY_MODEL_17d970bf79f04d7780987e2a4a535ac4"
          }
        },
        "dfd93e0689f44c32886dafae9473f72f": {
          "model_module": "@jupyter-widgets/controls",
          "model_name": "DescriptionStyleModel",
          "model_module_version": "1.5.0",
          "state": {
            "_view_name": "StyleView",
            "_model_name": "DescriptionStyleModel",
            "description_width": "",
            "_view_module": "@jupyter-widgets/base",
            "_model_module_version": "1.5.0",
            "_view_count": null,
            "_view_module_version": "1.2.0",
            "_model_module": "@jupyter-widgets/controls"
          }
        },
        "f82a74753d9c47f0b650e75cb2ab0ebd": {
          "model_module": "@jupyter-widgets/base",
          "model_name": "LayoutModel",
          "model_module_version": "1.2.0",
          "state": {
            "_view_name": "LayoutView",
            "grid_template_rows": null,
            "right": null,
            "justify_content": null,
            "_view_module": "@jupyter-widgets/base",
            "overflow": null,
            "_model_module_version": "1.2.0",
            "_view_count": null,
            "flex_flow": null,
            "width": null,
            "min_width": null,
            "border": null,
            "align_items": null,
            "bottom": null,
            "_model_module": "@jupyter-widgets/base",
            "top": null,
            "grid_column": null,
            "overflow_y": null,
            "overflow_x": null,
            "grid_auto_flow": null,
            "grid_area": null,
            "grid_template_columns": null,
            "flex": null,
            "_model_name": "LayoutModel",
            "justify_items": null,
            "grid_row": null,
            "max_height": null,
            "align_content": null,
            "visibility": null,
            "align_self": null,
            "height": null,
            "min_height": null,
            "padding": null,
            "grid_auto_rows": null,
            "grid_gap": null,
            "max_width": null,
            "order": null,
            "_view_module_version": "1.2.0",
            "grid_template_areas": null,
            "object_position": null,
            "object_fit": null,
            "grid_auto_columns": null,
            "margin": null,
            "display": null,
            "left": null
          }
        },
        "d1c28fcb4fbe43e28ebb9aa76482f389": {
          "model_module": "@jupyter-widgets/controls",
          "model_name": "ProgressStyleModel",
          "model_module_version": "1.5.0",
          "state": {
            "_view_name": "StyleView",
            "_model_name": "ProgressStyleModel",
            "description_width": "",
            "_view_module": "@jupyter-widgets/base",
            "_model_module_version": "1.5.0",
            "_view_count": null,
            "_view_module_version": "1.2.0",
            "bar_color": null,
            "_model_module": "@jupyter-widgets/controls"
          }
        },
        "3d9cb08e676c43e6b5474d381b41b8d9": {
          "model_module": "@jupyter-widgets/base",
          "model_name": "LayoutModel",
          "model_module_version": "1.2.0",
          "state": {
            "_view_name": "LayoutView",
            "grid_template_rows": null,
            "right": null,
            "justify_content": null,
            "_view_module": "@jupyter-widgets/base",
            "overflow": null,
            "_model_module_version": "1.2.0",
            "_view_count": null,
            "flex_flow": null,
            "width": "20px",
            "min_width": null,
            "border": null,
            "align_items": null,
            "bottom": null,
            "_model_module": "@jupyter-widgets/base",
            "top": null,
            "grid_column": null,
            "overflow_y": null,
            "overflow_x": null,
            "grid_auto_flow": null,
            "grid_area": null,
            "grid_template_columns": null,
            "flex": null,
            "_model_name": "LayoutModel",
            "justify_items": null,
            "grid_row": null,
            "max_height": null,
            "align_content": null,
            "visibility": null,
            "align_self": null,
            "height": null,
            "min_height": null,
            "padding": null,
            "grid_auto_rows": null,
            "grid_gap": null,
            "max_width": null,
            "order": null,
            "_view_module_version": "1.2.0",
            "grid_template_areas": null,
            "object_position": null,
            "object_fit": null,
            "grid_auto_columns": null,
            "margin": null,
            "display": null,
            "left": null
          }
        },
        "6a22959bf53a40c2bab6deac0cfd5288": {
          "model_module": "@jupyter-widgets/controls",
          "model_name": "DescriptionStyleModel",
          "model_module_version": "1.5.0",
          "state": {
            "_view_name": "StyleView",
            "_model_name": "DescriptionStyleModel",
            "description_width": "",
            "_view_module": "@jupyter-widgets/base",
            "_model_module_version": "1.5.0",
            "_view_count": null,
            "_view_module_version": "1.2.0",
            "_model_module": "@jupyter-widgets/controls"
          }
        },
        "17d970bf79f04d7780987e2a4a535ac4": {
          "model_module": "@jupyter-widgets/base",
          "model_name": "LayoutModel",
          "model_module_version": "1.2.0",
          "state": {
            "_view_name": "LayoutView",
            "grid_template_rows": null,
            "right": null,
            "justify_content": null,
            "_view_module": "@jupyter-widgets/base",
            "overflow": null,
            "_model_module_version": "1.2.0",
            "_view_count": null,
            "flex_flow": null,
            "width": null,
            "min_width": null,
            "border": null,
            "align_items": null,
            "bottom": null,
            "_model_module": "@jupyter-widgets/base",
            "top": null,
            "grid_column": null,
            "overflow_y": null,
            "overflow_x": null,
            "grid_auto_flow": null,
            "grid_area": null,
            "grid_template_columns": null,
            "flex": null,
            "_model_name": "LayoutModel",
            "justify_items": null,
            "grid_row": null,
            "max_height": null,
            "align_content": null,
            "visibility": null,
            "align_self": null,
            "height": null,
            "min_height": null,
            "padding": null,
            "grid_auto_rows": null,
            "grid_gap": null,
            "max_width": null,
            "order": null,
            "_view_module_version": "1.2.0",
            "grid_template_areas": null,
            "object_position": null,
            "object_fit": null,
            "grid_auto_columns": null,
            "margin": null,
            "display": null,
            "left": null
          }
        },
        "2c4dbe1a473f46f78e4c5f33f9d45503": {
          "model_module": "@jupyter-widgets/controls",
          "model_name": "HBoxModel",
          "model_module_version": "1.5.0",
          "state": {
            "_view_name": "HBoxView",
            "_dom_classes": [],
            "_model_name": "HBoxModel",
            "_view_module": "@jupyter-widgets/controls",
            "_model_module_version": "1.5.0",
            "_view_count": null,
            "_view_module_version": "1.5.0",
            "box_style": "",
            "layout": "IPY_MODEL_f131f9ee6c0041aca529d3bf7c6ad0ec",
            "_model_module": "@jupyter-widgets/controls",
            "children": [
              "IPY_MODEL_c0fa11b101dd417b9bcda051b104b577",
              "IPY_MODEL_379fd9a804b24ef785ac149834b022bc",
              "IPY_MODEL_8f56e8d4344245bcbc5f2723cc720d96"
            ]
          }
        },
        "f131f9ee6c0041aca529d3bf7c6ad0ec": {
          "model_module": "@jupyter-widgets/base",
          "model_name": "LayoutModel",
          "model_module_version": "1.2.0",
          "state": {
            "_view_name": "LayoutView",
            "grid_template_rows": null,
            "right": null,
            "justify_content": null,
            "_view_module": "@jupyter-widgets/base",
            "overflow": null,
            "_model_module_version": "1.2.0",
            "_view_count": null,
            "flex_flow": null,
            "width": null,
            "min_width": null,
            "border": null,
            "align_items": null,
            "bottom": null,
            "_model_module": "@jupyter-widgets/base",
            "top": null,
            "grid_column": null,
            "overflow_y": null,
            "overflow_x": null,
            "grid_auto_flow": null,
            "grid_area": null,
            "grid_template_columns": null,
            "flex": null,
            "_model_name": "LayoutModel",
            "justify_items": null,
            "grid_row": null,
            "max_height": null,
            "align_content": null,
            "visibility": null,
            "align_self": null,
            "height": null,
            "min_height": null,
            "padding": null,
            "grid_auto_rows": null,
            "grid_gap": null,
            "max_width": null,
            "order": null,
            "_view_module_version": "1.2.0",
            "grid_template_areas": null,
            "object_position": null,
            "object_fit": null,
            "grid_auto_columns": null,
            "margin": null,
            "display": null,
            "left": null
          }
        },
        "c0fa11b101dd417b9bcda051b104b577": {
          "model_module": "@jupyter-widgets/controls",
          "model_name": "HTMLModel",
          "model_module_version": "1.5.0",
          "state": {
            "_view_name": "HTMLView",
            "style": "IPY_MODEL_b04dc8b9539e46f28d6409fb1572edcc",
            "_dom_classes": [],
            "description": "",
            "_model_name": "HTMLModel",
            "placeholder": "​",
            "_view_module": "@jupyter-widgets/controls",
            "_model_module_version": "1.5.0",
            "value": "100%",
            "_view_count": null,
            "_view_module_version": "1.5.0",
            "description_tooltip": null,
            "_model_module": "@jupyter-widgets/controls",
            "layout": "IPY_MODEL_dcb680c24c0944bab32d6aefb807cd36"
          }
        },
        "379fd9a804b24ef785ac149834b022bc": {
          "model_module": "@jupyter-widgets/controls",
          "model_name": "FloatProgressModel",
          "model_module_version": "1.5.0",
          "state": {
            "_view_name": "ProgressView",
            "style": "IPY_MODEL_665041645b3d4834ac05de2e21850b20",
            "_dom_classes": [],
            "description": "",
            "_model_name": "FloatProgressModel",
            "bar_style": "danger",
            "max": 60000,
            "_view_module": "@jupyter-widgets/controls",
            "_model_module_version": "1.5.0",
            "value": 59999,
            "_view_count": null,
            "_view_module_version": "1.5.0",
            "orientation": "horizontal",
            "min": 0,
            "description_tooltip": null,
            "_model_module": "@jupyter-widgets/controls",
            "layout": "IPY_MODEL_6d59a97570db4b89a2edaca7de176eea"
          }
        },
        "8f56e8d4344245bcbc5f2723cc720d96": {
          "model_module": "@jupyter-widgets/controls",
          "model_name": "HTMLModel",
          "model_module_version": "1.5.0",
          "state": {
            "_view_name": "HTMLView",
            "style": "IPY_MODEL_a11c60de9eb8405eb146eaeb5fd6ac7e",
            "_dom_classes": [],
            "description": "",
            "_model_name": "HTMLModel",
            "placeholder": "​",
            "_view_module": "@jupyter-widgets/controls",
            "_model_module_version": "1.5.0",
            "value": " 59999/60000 [00:00&lt;00:00, 305671.90 examples/s]",
            "_view_count": null,
            "_view_module_version": "1.5.0",
            "description_tooltip": null,
            "_model_module": "@jupyter-widgets/controls",
            "layout": "IPY_MODEL_f290165184554730bdf19c87a5a8b602"
          }
        },
        "b04dc8b9539e46f28d6409fb1572edcc": {
          "model_module": "@jupyter-widgets/controls",
          "model_name": "DescriptionStyleModel",
          "model_module_version": "1.5.0",
          "state": {
            "_view_name": "StyleView",
            "_model_name": "DescriptionStyleModel",
            "description_width": "",
            "_view_module": "@jupyter-widgets/base",
            "_model_module_version": "1.5.0",
            "_view_count": null,
            "_view_module_version": "1.2.0",
            "_model_module": "@jupyter-widgets/controls"
          }
        },
        "dcb680c24c0944bab32d6aefb807cd36": {
          "model_module": "@jupyter-widgets/base",
          "model_name": "LayoutModel",
          "model_module_version": "1.2.0",
          "state": {
            "_view_name": "LayoutView",
            "grid_template_rows": null,
            "right": null,
            "justify_content": null,
            "_view_module": "@jupyter-widgets/base",
            "overflow": null,
            "_model_module_version": "1.2.0",
            "_view_count": null,
            "flex_flow": null,
            "width": null,
            "min_width": null,
            "border": null,
            "align_items": null,
            "bottom": null,
            "_model_module": "@jupyter-widgets/base",
            "top": null,
            "grid_column": null,
            "overflow_y": null,
            "overflow_x": null,
            "grid_auto_flow": null,
            "grid_area": null,
            "grid_template_columns": null,
            "flex": null,
            "_model_name": "LayoutModel",
            "justify_items": null,
            "grid_row": null,
            "max_height": null,
            "align_content": null,
            "visibility": null,
            "align_self": null,
            "height": null,
            "min_height": null,
            "padding": null,
            "grid_auto_rows": null,
            "grid_gap": null,
            "max_width": null,
            "order": null,
            "_view_module_version": "1.2.0",
            "grid_template_areas": null,
            "object_position": null,
            "object_fit": null,
            "grid_auto_columns": null,
            "margin": null,
            "display": null,
            "left": null
          }
        },
        "665041645b3d4834ac05de2e21850b20": {
          "model_module": "@jupyter-widgets/controls",
          "model_name": "ProgressStyleModel",
          "model_module_version": "1.5.0",
          "state": {
            "_view_name": "StyleView",
            "_model_name": "ProgressStyleModel",
            "description_width": "",
            "_view_module": "@jupyter-widgets/base",
            "_model_module_version": "1.5.0",
            "_view_count": null,
            "_view_module_version": "1.2.0",
            "bar_color": null,
            "_model_module": "@jupyter-widgets/controls"
          }
        },
        "6d59a97570db4b89a2edaca7de176eea": {
          "model_module": "@jupyter-widgets/base",
          "model_name": "LayoutModel",
          "model_module_version": "1.2.0",
          "state": {
            "_view_name": "LayoutView",
            "grid_template_rows": null,
            "right": null,
            "justify_content": null,
            "_view_module": "@jupyter-widgets/base",
            "overflow": null,
            "_model_module_version": "1.2.0",
            "_view_count": null,
            "flex_flow": null,
            "width": null,
            "min_width": null,
            "border": null,
            "align_items": null,
            "bottom": null,
            "_model_module": "@jupyter-widgets/base",
            "top": null,
            "grid_column": null,
            "overflow_y": null,
            "overflow_x": null,
            "grid_auto_flow": null,
            "grid_area": null,
            "grid_template_columns": null,
            "flex": null,
            "_model_name": "LayoutModel",
            "justify_items": null,
            "grid_row": null,
            "max_height": null,
            "align_content": null,
            "visibility": null,
            "align_self": null,
            "height": null,
            "min_height": null,
            "padding": null,
            "grid_auto_rows": null,
            "grid_gap": null,
            "max_width": null,
            "order": null,
            "_view_module_version": "1.2.0",
            "grid_template_areas": null,
            "object_position": null,
            "object_fit": null,
            "grid_auto_columns": null,
            "margin": null,
            "display": null,
            "left": null
          }
        },
        "a11c60de9eb8405eb146eaeb5fd6ac7e": {
          "model_module": "@jupyter-widgets/controls",
          "model_name": "DescriptionStyleModel",
          "model_module_version": "1.5.0",
          "state": {
            "_view_name": "StyleView",
            "_model_name": "DescriptionStyleModel",
            "description_width": "",
            "_view_module": "@jupyter-widgets/base",
            "_model_module_version": "1.5.0",
            "_view_count": null,
            "_view_module_version": "1.2.0",
            "_model_module": "@jupyter-widgets/controls"
          }
        },
        "f290165184554730bdf19c87a5a8b602": {
          "model_module": "@jupyter-widgets/base",
          "model_name": "LayoutModel",
          "model_module_version": "1.2.0",
          "state": {
            "_view_name": "LayoutView",
            "grid_template_rows": null,
            "right": null,
            "justify_content": null,
            "_view_module": "@jupyter-widgets/base",
            "overflow": null,
            "_model_module_version": "1.2.0",
            "_view_count": null,
            "flex_flow": null,
            "width": null,
            "min_width": null,
            "border": null,
            "align_items": null,
            "bottom": null,
            "_model_module": "@jupyter-widgets/base",
            "top": null,
            "grid_column": null,
            "overflow_y": null,
            "overflow_x": null,
            "grid_auto_flow": null,
            "grid_area": null,
            "grid_template_columns": null,
            "flex": null,
            "_model_name": "LayoutModel",
            "justify_items": null,
            "grid_row": null,
            "max_height": null,
            "align_content": null,
            "visibility": null,
            "align_self": null,
            "height": null,
            "min_height": null,
            "padding": null,
            "grid_auto_rows": null,
            "grid_gap": null,
            "max_width": null,
            "order": null,
            "_view_module_version": "1.2.0",
            "grid_template_areas": null,
            "object_position": null,
            "object_fit": null,
            "grid_auto_columns": null,
            "margin": null,
            "display": null,
            "left": null
          }
        },
        "35db31e487f5491f81ea91f7f70d9385": {
          "model_module": "@jupyter-widgets/controls",
          "model_name": "HBoxModel",
          "model_module_version": "1.5.0",
          "state": {
            "_view_name": "HBoxView",
            "_dom_classes": [],
            "_model_name": "HBoxModel",
            "_view_module": "@jupyter-widgets/controls",
            "_model_module_version": "1.5.0",
            "_view_count": null,
            "_view_module_version": "1.5.0",
            "box_style": "",
            "layout": "IPY_MODEL_afe6dfc1a80a4d7fa2f88e338d87cab5",
            "_model_module": "@jupyter-widgets/controls",
            "children": [
              "IPY_MODEL_59133821b76f427786fde796336293a5",
              "IPY_MODEL_8726615fdd834e1392a478adf4078e39",
              "IPY_MODEL_b0a5f1e6ea734eb4b38ebe00a69595ac"
            ]
          }
        },
        "afe6dfc1a80a4d7fa2f88e338d87cab5": {
          "model_module": "@jupyter-widgets/base",
          "model_name": "LayoutModel",
          "model_module_version": "1.2.0",
          "state": {
            "_view_name": "LayoutView",
            "grid_template_rows": null,
            "right": null,
            "justify_content": null,
            "_view_module": "@jupyter-widgets/base",
            "overflow": null,
            "_model_module_version": "1.2.0",
            "_view_count": null,
            "flex_flow": null,
            "width": null,
            "min_width": null,
            "border": null,
            "align_items": null,
            "bottom": null,
            "_model_module": "@jupyter-widgets/base",
            "top": null,
            "grid_column": null,
            "overflow_y": null,
            "overflow_x": null,
            "grid_auto_flow": null,
            "grid_area": null,
            "grid_template_columns": null,
            "flex": null,
            "_model_name": "LayoutModel",
            "justify_items": null,
            "grid_row": null,
            "max_height": null,
            "align_content": null,
            "visibility": null,
            "align_self": null,
            "height": null,
            "min_height": null,
            "padding": null,
            "grid_auto_rows": null,
            "grid_gap": null,
            "max_width": null,
            "order": null,
            "_view_module_version": "1.2.0",
            "grid_template_areas": null,
            "object_position": null,
            "object_fit": null,
            "grid_auto_columns": null,
            "margin": null,
            "display": null,
            "left": null
          }
        },
        "59133821b76f427786fde796336293a5": {
          "model_module": "@jupyter-widgets/controls",
          "model_name": "HTMLModel",
          "model_module_version": "1.5.0",
          "state": {
            "_view_name": "HTMLView",
            "style": "IPY_MODEL_d61a44b7044f44aca9878278d1419f95",
            "_dom_classes": [],
            "description": "",
            "_model_name": "HTMLModel",
            "placeholder": "​",
            "_view_module": "@jupyter-widgets/controls",
            "_model_module_version": "1.5.0",
            "value": "",
            "_view_count": null,
            "_view_module_version": "1.5.0",
            "description_tooltip": null,
            "_model_module": "@jupyter-widgets/controls",
            "layout": "IPY_MODEL_61645877000f42d382bf2bf7fac8c20a"
          }
        },
        "8726615fdd834e1392a478adf4078e39": {
          "model_module": "@jupyter-widgets/controls",
          "model_name": "FloatProgressModel",
          "model_module_version": "1.5.0",
          "state": {
            "_view_name": "ProgressView",
            "style": "IPY_MODEL_67cbac4b18ab4254a6cd98ef8f86158b",
            "_dom_classes": [],
            "description": "",
            "_model_name": "FloatProgressModel",
            "bar_style": "info",
            "max": 1,
            "_view_module": "@jupyter-widgets/controls",
            "_model_module_version": "1.5.0",
            "value": 1,
            "_view_count": null,
            "_view_module_version": "1.5.0",
            "orientation": "horizontal",
            "min": 0,
            "description_tooltip": null,
            "_model_module": "@jupyter-widgets/controls",
            "layout": "IPY_MODEL_984e9ce1e3d94a08be322c2b93d2f29e"
          }
        },
        "b0a5f1e6ea734eb4b38ebe00a69595ac": {
          "model_module": "@jupyter-widgets/controls",
          "model_name": "HTMLModel",
          "model_module_version": "1.5.0",
          "state": {
            "_view_name": "HTMLView",
            "style": "IPY_MODEL_c6bae772f72042a8ace37317fccc3c00",
            "_dom_classes": [],
            "description": "",
            "_model_name": "HTMLModel",
            "placeholder": "​",
            "_view_module": "@jupyter-widgets/controls",
            "_model_module_version": "1.5.0",
            "value": " 9888/0 [00:05&lt;00:00, 1764.31 examples/s]",
            "_view_count": null,
            "_view_module_version": "1.5.0",
            "description_tooltip": null,
            "_model_module": "@jupyter-widgets/controls",
            "layout": "IPY_MODEL_dc15516aa1d4497ca0905d03f7d809b7"
          }
        },
        "d61a44b7044f44aca9878278d1419f95": {
          "model_module": "@jupyter-widgets/controls",
          "model_name": "DescriptionStyleModel",
          "model_module_version": "1.5.0",
          "state": {
            "_view_name": "StyleView",
            "_model_name": "DescriptionStyleModel",
            "description_width": "",
            "_view_module": "@jupyter-widgets/base",
            "_model_module_version": "1.5.0",
            "_view_count": null,
            "_view_module_version": "1.2.0",
            "_model_module": "@jupyter-widgets/controls"
          }
        },
        "61645877000f42d382bf2bf7fac8c20a": {
          "model_module": "@jupyter-widgets/base",
          "model_name": "LayoutModel",
          "model_module_version": "1.2.0",
          "state": {
            "_view_name": "LayoutView",
            "grid_template_rows": null,
            "right": null,
            "justify_content": null,
            "_view_module": "@jupyter-widgets/base",
            "overflow": null,
            "_model_module_version": "1.2.0",
            "_view_count": null,
            "flex_flow": null,
            "width": null,
            "min_width": null,
            "border": null,
            "align_items": null,
            "bottom": null,
            "_model_module": "@jupyter-widgets/base",
            "top": null,
            "grid_column": null,
            "overflow_y": null,
            "overflow_x": null,
            "grid_auto_flow": null,
            "grid_area": null,
            "grid_template_columns": null,
            "flex": null,
            "_model_name": "LayoutModel",
            "justify_items": null,
            "grid_row": null,
            "max_height": null,
            "align_content": null,
            "visibility": null,
            "align_self": null,
            "height": null,
            "min_height": null,
            "padding": null,
            "grid_auto_rows": null,
            "grid_gap": null,
            "max_width": null,
            "order": null,
            "_view_module_version": "1.2.0",
            "grid_template_areas": null,
            "object_position": null,
            "object_fit": null,
            "grid_auto_columns": null,
            "margin": null,
            "display": null,
            "left": null
          }
        },
        "67cbac4b18ab4254a6cd98ef8f86158b": {
          "model_module": "@jupyter-widgets/controls",
          "model_name": "ProgressStyleModel",
          "model_module_version": "1.5.0",
          "state": {
            "_view_name": "StyleView",
            "_model_name": "ProgressStyleModel",
            "description_width": "",
            "_view_module": "@jupyter-widgets/base",
            "_model_module_version": "1.5.0",
            "_view_count": null,
            "_view_module_version": "1.2.0",
            "bar_color": null,
            "_model_module": "@jupyter-widgets/controls"
          }
        },
        "984e9ce1e3d94a08be322c2b93d2f29e": {
          "model_module": "@jupyter-widgets/base",
          "model_name": "LayoutModel",
          "model_module_version": "1.2.0",
          "state": {
            "_view_name": "LayoutView",
            "grid_template_rows": null,
            "right": null,
            "justify_content": null,
            "_view_module": "@jupyter-widgets/base",
            "overflow": null,
            "_model_module_version": "1.2.0",
            "_view_count": null,
            "flex_flow": null,
            "width": "20px",
            "min_width": null,
            "border": null,
            "align_items": null,
            "bottom": null,
            "_model_module": "@jupyter-widgets/base",
            "top": null,
            "grid_column": null,
            "overflow_y": null,
            "overflow_x": null,
            "grid_auto_flow": null,
            "grid_area": null,
            "grid_template_columns": null,
            "flex": null,
            "_model_name": "LayoutModel",
            "justify_items": null,
            "grid_row": null,
            "max_height": null,
            "align_content": null,
            "visibility": null,
            "align_self": null,
            "height": null,
            "min_height": null,
            "padding": null,
            "grid_auto_rows": null,
            "grid_gap": null,
            "max_width": null,
            "order": null,
            "_view_module_version": "1.2.0",
            "grid_template_areas": null,
            "object_position": null,
            "object_fit": null,
            "grid_auto_columns": null,
            "margin": null,
            "display": null,
            "left": null
          }
        },
        "c6bae772f72042a8ace37317fccc3c00": {
          "model_module": "@jupyter-widgets/controls",
          "model_name": "DescriptionStyleModel",
          "model_module_version": "1.5.0",
          "state": {
            "_view_name": "StyleView",
            "_model_name": "DescriptionStyleModel",
            "description_width": "",
            "_view_module": "@jupyter-widgets/base",
            "_model_module_version": "1.5.0",
            "_view_count": null,
            "_view_module_version": "1.2.0",
            "_model_module": "@jupyter-widgets/controls"
          }
        },
        "dc15516aa1d4497ca0905d03f7d809b7": {
          "model_module": "@jupyter-widgets/base",
          "model_name": "LayoutModel",
          "model_module_version": "1.2.0",
          "state": {
            "_view_name": "LayoutView",
            "grid_template_rows": null,
            "right": null,
            "justify_content": null,
            "_view_module": "@jupyter-widgets/base",
            "overflow": null,
            "_model_module_version": "1.2.0",
            "_view_count": null,
            "flex_flow": null,
            "width": null,
            "min_width": null,
            "border": null,
            "align_items": null,
            "bottom": null,
            "_model_module": "@jupyter-widgets/base",
            "top": null,
            "grid_column": null,
            "overflow_y": null,
            "overflow_x": null,
            "grid_auto_flow": null,
            "grid_area": null,
            "grid_template_columns": null,
            "flex": null,
            "_model_name": "LayoutModel",
            "justify_items": null,
            "grid_row": null,
            "max_height": null,
            "align_content": null,
            "visibility": null,
            "align_self": null,
            "height": null,
            "min_height": null,
            "padding": null,
            "grid_auto_rows": null,
            "grid_gap": null,
            "max_width": null,
            "order": null,
            "_view_module_version": "1.2.0",
            "grid_template_areas": null,
            "object_position": null,
            "object_fit": null,
            "grid_auto_columns": null,
            "margin": null,
            "display": null,
            "left": null
          }
        },
        "6b0925bd41074d53bd793773631a9c31": {
          "model_module": "@jupyter-widgets/controls",
          "model_name": "HBoxModel",
          "model_module_version": "1.5.0",
          "state": {
            "_view_name": "HBoxView",
            "_dom_classes": [],
            "_model_name": "HBoxModel",
            "_view_module": "@jupyter-widgets/controls",
            "_model_module_version": "1.5.0",
            "_view_count": null,
            "_view_module_version": "1.5.0",
            "box_style": "",
            "layout": "IPY_MODEL_0a2913f24af14207b3cd73d6cd8e1f06",
            "_model_module": "@jupyter-widgets/controls",
            "children": [
              "IPY_MODEL_e3c02e6473924d1db5d90fefa45e9b2c",
              "IPY_MODEL_6dd425c5e3b549659e8d7990489f344d",
              "IPY_MODEL_702618a9976b4da1888ddfe02baccb11"
            ]
          }
        },
        "0a2913f24af14207b3cd73d6cd8e1f06": {
          "model_module": "@jupyter-widgets/base",
          "model_name": "LayoutModel",
          "model_module_version": "1.2.0",
          "state": {
            "_view_name": "LayoutView",
            "grid_template_rows": null,
            "right": null,
            "justify_content": null,
            "_view_module": "@jupyter-widgets/base",
            "overflow": null,
            "_model_module_version": "1.2.0",
            "_view_count": null,
            "flex_flow": null,
            "width": null,
            "min_width": null,
            "border": null,
            "align_items": null,
            "bottom": null,
            "_model_module": "@jupyter-widgets/base",
            "top": null,
            "grid_column": null,
            "overflow_y": null,
            "overflow_x": null,
            "grid_auto_flow": null,
            "grid_area": null,
            "grid_template_columns": null,
            "flex": null,
            "_model_name": "LayoutModel",
            "justify_items": null,
            "grid_row": null,
            "max_height": null,
            "align_content": null,
            "visibility": null,
            "align_self": null,
            "height": null,
            "min_height": null,
            "padding": null,
            "grid_auto_rows": null,
            "grid_gap": null,
            "max_width": null,
            "order": null,
            "_view_module_version": "1.2.0",
            "grid_template_areas": null,
            "object_position": null,
            "object_fit": null,
            "grid_auto_columns": null,
            "margin": null,
            "display": null,
            "left": null
          }
        },
        "e3c02e6473924d1db5d90fefa45e9b2c": {
          "model_module": "@jupyter-widgets/controls",
          "model_name": "HTMLModel",
          "model_module_version": "1.5.0",
          "state": {
            "_view_name": "HTMLView",
            "style": "IPY_MODEL_1eb561ee02fb4cffa50035ab48dea09a",
            "_dom_classes": [],
            "description": "",
            "_model_name": "HTMLModel",
            "placeholder": "​",
            "_view_module": "@jupyter-widgets/controls",
            "_model_module_version": "1.5.0",
            "value": "100%",
            "_view_count": null,
            "_view_module_version": "1.5.0",
            "description_tooltip": null,
            "_model_module": "@jupyter-widgets/controls",
            "layout": "IPY_MODEL_8ccb85753c224941971be753805a04e5"
          }
        },
        "6dd425c5e3b549659e8d7990489f344d": {
          "model_module": "@jupyter-widgets/controls",
          "model_name": "FloatProgressModel",
          "model_module_version": "1.5.0",
          "state": {
            "_view_name": "ProgressView",
            "style": "IPY_MODEL_126b54b7d6ed4186a29d4e2c41d23474",
            "_dom_classes": [],
            "description": "",
            "_model_name": "FloatProgressModel",
            "bar_style": "danger",
            "max": 10000,
            "_view_module": "@jupyter-widgets/controls",
            "_model_module_version": "1.5.0",
            "value": 9999,
            "_view_count": null,
            "_view_module_version": "1.5.0",
            "orientation": "horizontal",
            "min": 0,
            "description_tooltip": null,
            "_model_module": "@jupyter-widgets/controls",
            "layout": "IPY_MODEL_98fab3ce7ca64e9483db2cd75c03400b"
          }
        },
        "702618a9976b4da1888ddfe02baccb11": {
          "model_module": "@jupyter-widgets/controls",
          "model_name": "HTMLModel",
          "model_module_version": "1.5.0",
          "state": {
            "_view_name": "HTMLView",
            "style": "IPY_MODEL_881a4c37ab0f49589005d12ee77572b6",
            "_dom_classes": [],
            "description": "",
            "_model_name": "HTMLModel",
            "placeholder": "​",
            "_view_module": "@jupyter-widgets/controls",
            "_model_module_version": "1.5.0",
            "value": " 9999/10000 [00:00&lt;00:00, 163988.89 examples/s]",
            "_view_count": null,
            "_view_module_version": "1.5.0",
            "description_tooltip": null,
            "_model_module": "@jupyter-widgets/controls",
            "layout": "IPY_MODEL_e5604a27deeb48eeba573632f78cd85c"
          }
        },
        "1eb561ee02fb4cffa50035ab48dea09a": {
          "model_module": "@jupyter-widgets/controls",
          "model_name": "DescriptionStyleModel",
          "model_module_version": "1.5.0",
          "state": {
            "_view_name": "StyleView",
            "_model_name": "DescriptionStyleModel",
            "description_width": "",
            "_view_module": "@jupyter-widgets/base",
            "_model_module_version": "1.5.0",
            "_view_count": null,
            "_view_module_version": "1.2.0",
            "_model_module": "@jupyter-widgets/controls"
          }
        },
        "8ccb85753c224941971be753805a04e5": {
          "model_module": "@jupyter-widgets/base",
          "model_name": "LayoutModel",
          "model_module_version": "1.2.0",
          "state": {
            "_view_name": "LayoutView",
            "grid_template_rows": null,
            "right": null,
            "justify_content": null,
            "_view_module": "@jupyter-widgets/base",
            "overflow": null,
            "_model_module_version": "1.2.0",
            "_view_count": null,
            "flex_flow": null,
            "width": null,
            "min_width": null,
            "border": null,
            "align_items": null,
            "bottom": null,
            "_model_module": "@jupyter-widgets/base",
            "top": null,
            "grid_column": null,
            "overflow_y": null,
            "overflow_x": null,
            "grid_auto_flow": null,
            "grid_area": null,
            "grid_template_columns": null,
            "flex": null,
            "_model_name": "LayoutModel",
            "justify_items": null,
            "grid_row": null,
            "max_height": null,
            "align_content": null,
            "visibility": null,
            "align_self": null,
            "height": null,
            "min_height": null,
            "padding": null,
            "grid_auto_rows": null,
            "grid_gap": null,
            "max_width": null,
            "order": null,
            "_view_module_version": "1.2.0",
            "grid_template_areas": null,
            "object_position": null,
            "object_fit": null,
            "grid_auto_columns": null,
            "margin": null,
            "display": null,
            "left": null
          }
        },
        "126b54b7d6ed4186a29d4e2c41d23474": {
          "model_module": "@jupyter-widgets/controls",
          "model_name": "ProgressStyleModel",
          "model_module_version": "1.5.0",
          "state": {
            "_view_name": "StyleView",
            "_model_name": "ProgressStyleModel",
            "description_width": "",
            "_view_module": "@jupyter-widgets/base",
            "_model_module_version": "1.5.0",
            "_view_count": null,
            "_view_module_version": "1.2.0",
            "bar_color": null,
            "_model_module": "@jupyter-widgets/controls"
          }
        },
        "98fab3ce7ca64e9483db2cd75c03400b": {
          "model_module": "@jupyter-widgets/base",
          "model_name": "LayoutModel",
          "model_module_version": "1.2.0",
          "state": {
            "_view_name": "LayoutView",
            "grid_template_rows": null,
            "right": null,
            "justify_content": null,
            "_view_module": "@jupyter-widgets/base",
            "overflow": null,
            "_model_module_version": "1.2.0",
            "_view_count": null,
            "flex_flow": null,
            "width": null,
            "min_width": null,
            "border": null,
            "align_items": null,
            "bottom": null,
            "_model_module": "@jupyter-widgets/base",
            "top": null,
            "grid_column": null,
            "overflow_y": null,
            "overflow_x": null,
            "grid_auto_flow": null,
            "grid_area": null,
            "grid_template_columns": null,
            "flex": null,
            "_model_name": "LayoutModel",
            "justify_items": null,
            "grid_row": null,
            "max_height": null,
            "align_content": null,
            "visibility": null,
            "align_self": null,
            "height": null,
            "min_height": null,
            "padding": null,
            "grid_auto_rows": null,
            "grid_gap": null,
            "max_width": null,
            "order": null,
            "_view_module_version": "1.2.0",
            "grid_template_areas": null,
            "object_position": null,
            "object_fit": null,
            "grid_auto_columns": null,
            "margin": null,
            "display": null,
            "left": null
          }
        },
        "881a4c37ab0f49589005d12ee77572b6": {
          "model_module": "@jupyter-widgets/controls",
          "model_name": "DescriptionStyleModel",
          "model_module_version": "1.5.0",
          "state": {
            "_view_name": "StyleView",
            "_model_name": "DescriptionStyleModel",
            "description_width": "",
            "_view_module": "@jupyter-widgets/base",
            "_model_module_version": "1.5.0",
            "_view_count": null,
            "_view_module_version": "1.2.0",
            "_model_module": "@jupyter-widgets/controls"
          }
        },
        "e5604a27deeb48eeba573632f78cd85c": {
          "model_module": "@jupyter-widgets/base",
          "model_name": "LayoutModel",
          "model_module_version": "1.2.0",
          "state": {
            "_view_name": "LayoutView",
            "grid_template_rows": null,
            "right": null,
            "justify_content": null,
            "_view_module": "@jupyter-widgets/base",
            "overflow": null,
            "_model_module_version": "1.2.0",
            "_view_count": null,
            "flex_flow": null,
            "width": null,
            "min_width": null,
            "border": null,
            "align_items": null,
            "bottom": null,
            "_model_module": "@jupyter-widgets/base",
            "top": null,
            "grid_column": null,
            "overflow_y": null,
            "overflow_x": null,
            "grid_auto_flow": null,
            "grid_area": null,
            "grid_template_columns": null,
            "flex": null,
            "_model_name": "LayoutModel",
            "justify_items": null,
            "grid_row": null,
            "max_height": null,
            "align_content": null,
            "visibility": null,
            "align_self": null,
            "height": null,
            "min_height": null,
            "padding": null,
            "grid_auto_rows": null,
            "grid_gap": null,
            "max_width": null,
            "order": null,
            "_view_module_version": "1.2.0",
            "grid_template_areas": null,
            "object_position": null,
            "object_fit": null,
            "grid_auto_columns": null,
            "margin": null,
            "display": null,
            "left": null
          }
        }
      }
    }
  },
  "cells": [
    {
      "cell_type": "markdown",
      "metadata": {
        "id": "MEJjn06qaEDP"
      },
      "source": [
        "#### **1) Libraries**"
      ]
    },
    {
      "cell_type": "code",
      "metadata": {
        "id": "cPyJih55aEDQ"
      },
      "source": [
        "# Don't forget to restart\n",
        "# !pip install -U tensorflow_probability -q\n",
        "#!pip install ipdb tensorflow==2.5.0 -q\n",
        "#!pip install ipdb -q\n",
        "# !pip install git+https://github.com/tensorflow/docs -q\n",
        "# !pip install -U -i https://test.pypi.org/simple/ nsc -q"
      ],
      "execution_count": 4,
      "outputs": []
    },
    {
      "cell_type": "code",
      "metadata": {
        "id": "c_sk90OFaEDT"
      },
      "source": [
        "from IPython import display\n",
        "\n",
        "#import ipdb\n",
        "import math\n",
        "import glob\n",
        "import imageio\n",
        "import matplotlib\n",
        "import matplotlib.pyplot as plt\n",
        "import seaborn as sns\n",
        "sns.set()\n",
        "\n",
        "import numpy as np\n",
        "import pandas as pd\n",
        "import PIL\n",
        "import tensorflow as tf\n",
        "import tensorflow_datasets as tfds\n",
        "import tensorflow_probability as tfp\n",
        "import time\n",
        "from datetime import datetime\n",
        "import os\n",
        "import random\n",
        "from tqdm import tqdm\n",
        "from collections import defaultdict\n",
        "from sklearn.manifold import TSNE\n",
        "\n",
        "from tensorflow import keras as tfk\n",
        "from tensorflow.keras import layers as tfkl\n",
        "from tensorflow.keras.layers import Input, InputLayer, Lambda, Reshape, Dropout, \\\n",
        "                                    Flatten, Dense, Conv2D, Conv2DTranspose"
      ],
      "execution_count": 1,
      "outputs": []
    },
    {
      "cell_type": "code",
      "metadata": {
        "id": "lH0o4f7xUfUQ",
        "colab": {
          "base_uri": "https://localhost:8080/"
        },
        "outputId": "dc11886c-5d1d-4425-b852-800247f3cc94"
      },
      "source": [
        "pip list | grep tensorflow"
      ],
      "execution_count": 2,
      "outputs": [
        {
          "output_type": "stream",
          "text": [
            "tensorflow                    2.6.0\n",
            "tensorflow-datasets           4.0.1\n",
            "tensorflow-estimator          2.6.0\n",
            "tensorflow-gcs-config         2.6.0\n",
            "tensorflow-hub                0.12.0\n",
            "tensorflow-metadata           1.2.0\n",
            "tensorflow-probability        0.13.0\n"
          ],
          "name": "stdout"
        }
      ]
    },
    {
      "cell_type": "code",
      "metadata": {
        "id": "P1M4C3hA88oN",
        "colab": {
          "base_uri": "https://localhost:8080/"
        },
        "outputId": "29431516-a91b-4e4a-8c9c-8a18f54bff24"
      },
      "source": [
        "if tf.test.gpu_device_name() != '/device:GPU:0':\n",
        "    print('WARNING: GPU device not found.')\n",
        "else:\n",
        "    print('SUCCESS: Found GPU: {}'.format(tf.test.gpu_device_name()))"
      ],
      "execution_count": 3,
      "outputs": [
        {
          "output_type": "stream",
          "text": [
            "SUCCESS: Found GPU: /device:GPU:0\n"
          ],
          "name": "stdout"
        }
      ]
    },
    {
      "cell_type": "code",
      "metadata": {
        "id": "LTEQ7kMIQ8cg",
        "colab": {
          "base_uri": "https://localhost:8080/"
        },
        "outputId": "b7c1629f-cf3d-4d4f-af1c-337d3b8da6f8"
      },
      "source": [
        "# List all physical devices\n",
        "tf.config.list_physical_devices()"
      ],
      "execution_count": 4,
      "outputs": [
        {
          "output_type": "execute_result",
          "data": {
            "text/plain": [
              "[PhysicalDevice(name='/physical_device:CPU:0', device_type='CPU'),\n",
              " PhysicalDevice(name='/physical_device:GPU:0', device_type='GPU')]"
            ]
          },
          "metadata": {},
          "execution_count": 4
        }
      ]
    },
    {
      "cell_type": "markdown",
      "metadata": {
        "id": "D1m4X6DJGb52"
      },
      "source": [
        "If using Google Colab, save in your Google Drive."
      ]
    },
    {
      "cell_type": "code",
      "metadata": {
        "id": "zcpWSzBBGayV",
        "colab": {
          "base_uri": "https://localhost:8080/"
        },
        "outputId": "8b41456f-4a28-4080-b579-b729c5ba6d41"
      },
      "source": [
        "from google.colab import drive\n",
        "\n",
        "drive.mount('/content/gdrive')"
      ],
      "execution_count": 5,
      "outputs": [
        {
          "output_type": "stream",
          "text": [
            "Mounted at /content/gdrive\n"
          ],
          "name": "stdout"
        }
      ]
    },
    {
      "cell_type": "markdown",
      "metadata": {
        "id": "4RKA0uShaEDW"
      },
      "source": [
        "#### **2) Extract Data**"
      ]
    },
    {
      "cell_type": "code",
      "metadata": {
        "id": "63HS2FEDhIVY",
        "colab": {
          "base_uri": "https://localhost:8080/"
        },
        "outputId": "b39414c0-c614-445c-96b6-43924b2fefa2"
      },
      "source": [
        "BATCH_SIZE_TRAIN = 128  # 128\n",
        "BATCH_SIZE_TEST = 5000  # 10000\n",
        "random_seed = datetime.now().microsecond  # random seed is the microsecond for current time\n",
        "#random_seed = 1234567\n",
        "\n",
        "# corrupted_names = ['identity', 'motion_blur', 'translate', 'rotate', 'brightness', 'fog', 'shot_noise']\n",
        "corrupted_names = ['identity']    #, 'motion_blur', 'translate', 'rotate']\n",
        "datasets_names = ['mnist'] + [f'mnist_corrupted/{corrupted_name}' for corrupted_name in corrupted_names]\n",
        "# datasets_names = ['mnist', 'mnist_corrupted', 'fashion_mnist', 'cifar10', 'cifar10_corrupted/motion_blur']\n",
        "datasets_names"
      ],
      "execution_count": 6,
      "outputs": [
        {
          "output_type": "execute_result",
          "data": {
            "text/plain": [
              "['mnist', 'mnist_corrupted/identity']"
            ]
          },
          "metadata": {},
          "execution_count": 6
        }
      ]
    },
    {
      "cell_type": "code",
      "metadata": {
        "id": "xLK9JGGnJpaG"
      },
      "source": [
        "def _preprocess(sample):\n",
        "    image = tf.cast(sample['image'], tf.float32) / 255.  # Scale to unit interval.\n",
        "    return image\n",
        "\n",
        "def _preprocess_label(sample):\n",
        "    label = tf.cast(sample['label'], tf.int32)\n",
        "    return label"
      ],
      "execution_count": 7,
      "outputs": []
    },
    {
      "cell_type": "code",
      "metadata": {
        "id": "DLJo9s78GhLo"
      },
      "source": [
        "def get_datasets(datasets_names, batch_size_train, batch_size_test):\n",
        "    datasets = defaultdict(dict)\n",
        "    for datasets_name in datasets_names:\n",
        "        print(f\"============================================================================================\")\n",
        "        print(f\"\\nExtracting {datasets_name.upper()} dataset...\\n\")\n",
        "        datasets_raw, datasets_raw_info = tfds.load(name=datasets_name,\n",
        "                                                    with_info=True,\n",
        "                                                    as_supervised=False\n",
        "                                                    )\n",
        "        print(datasets_raw_info)\n",
        "\n",
        "        # View some examples from the dataset\n",
        "        fig, axes = plt.subplots(3, 3, figsize=(8, 8))\n",
        "        fig.subplots_adjust(hspace=0.2, wspace=0.1)\n",
        "        for i, (elem, ax) in enumerate(zip(datasets_raw['train'], axes.flat)):\n",
        "            image = tf.squeeze(elem['image'])\n",
        "            # print(image)\n",
        "            label = elem['label']\n",
        "\n",
        "            ax.imshow(image, cmap='gray')\n",
        "            ax.text(0.7, -0.12, f'Digit = {label}', ha='right',\n",
        "                    transform=ax.transAxes, color='black')\n",
        "            ax.set_xticks([])\n",
        "            ax.set_yticks([])\n",
        "            # plt.show()\n",
        "\n",
        "        # Get\n",
        "        batch_size = batch_size_train if datasets_name == 'mnist' else batch_size_test\n",
        "        train_size = 60000 if 'mnist' in datasets_name else 50000\n",
        "        if 'corrupted' not in datasets_name:\n",
        "            datasets[datasets_name]['train'] = (datasets_raw['train']\n",
        "                                                .map(_preprocess)\n",
        "                                                .batch(batch_size)\n",
        "                                                .prefetch(tf.data.experimental.AUTOTUNE)\n",
        "                                                .shuffle(train_size, seed=random_seed)\n",
        "                                                )\n",
        "        datasets[datasets_name]['test'] = (datasets_raw['test']\n",
        "                                           .map(_preprocess)\n",
        "                                           .batch(batch_size)\n",
        "                                           .prefetch(tf.data.experimental.AUTOTUNE)\n",
        "                                           )\n",
        "        datasets[datasets_name]['test_label'] = (datasets_raw['test']\n",
        "                                                 .map(_preprocess_label)\n",
        "                                                 .batch(batch_size)\n",
        "                                                 .prefetch(tf.data.experimental.AUTOTUNE)\n",
        "                                                 )\n",
        "\n",
        "        if 'corrupted' not in datasets_name:\n",
        "            #\n",
        "            print(\" - Print one train set image:\")\n",
        "            for train_batch in datasets[datasets_name]['train'].take(1):\n",
        "                image = train_batch[0].numpy()\n",
        "            image = np.squeeze(image)\n",
        "            plt.figure()\n",
        "            plt.imshow(image, cmap='gray')\n",
        "            plt.colorbar()\n",
        "            plt.grid(False)\n",
        "            plt.axis('off')\n",
        "            plt.show();\n",
        "\n",
        "        #\n",
        "        print(\" - Print one test set image:\")\n",
        "        for test_batch in datasets[datasets_name]['test'].take(1):\n",
        "            image = test_batch[0].numpy()\n",
        "        image = np.squeeze(image)\n",
        "        plt.figure()\n",
        "        plt.imshow(image, cmap='gray')\n",
        "        plt.colorbar()\n",
        "        plt.grid(False)\n",
        "        plt.axis('off')\n",
        "        plt.show();\n",
        "\n",
        "        #\n",
        "        print(\" - Print one test set label:\")\n",
        "        for test_label in datasets[datasets_name]['test_label'].take(1):\n",
        "            label = test_label[0]\n",
        "        print(label.numpy())\n",
        "        print(f\"\\n\")\n",
        "\n",
        "    return datasets"
      ],
      "execution_count": 8,
      "outputs": []
    },
    {
      "cell_type": "code",
      "metadata": {
        "id": "Aje9Fba3KAFC",
        "colab": {
          "base_uri": "https://localhost:8080/",
          "height": 1000,
          "referenced_widgets": [
            "6a92f9c287de479abb54d9f1d81aed87",
            "a2382094ebc749d3964e74c277919fec",
            "d2c97ba1cf67441090564b983547b587",
            "fb21f031fb3344bca09342ee98d58201",
            "5d49d6a3194f45ca94ffeda9971173d9",
            "29d5264564414eefa7b80dd8782a44f0",
            "85ce0d12e6884bd1a7bca2ab9ffa2842",
            "decdfc2cb9c648f59c8fd7953843d9e3",
            "481e859b782c43689bbdeda1e8bb5f91",
            "334fb68e3c1f4e9ab52da9cd63b49049",
            "7dff636d030a4d8cbb5e55aea419b4c6",
            "21d0d1d2e0e14d07a07201d138e66323",
            "62292c96036e4607807f4892edd17593",
            "cf97d57d63ca41e0b58a7a049e354039",
            "feb70d16b7934f6b85e98b7ad9a2a85e",
            "3d56546b66564d52b5d38a81f7317899",
            "da7c7a65ee254bd9aaff5c1888c0eaaa",
            "610fc9a202034a2780bc2db0e763ee87",
            "79bb7cc7b196436fb74655086619d3ac",
            "6378846e09944fe5b2907b64a7522458",
            "e9d891f46f9348e9b05e16947e103d0d",
            "6d3e2da4b89d4217b372b5bfdd050a1e",
            "57a16b05626b4a1f88231996cefc6ad6",
            "f11f3ec06c524514b74cfb16ec7f5ef9",
            "c12237b977984cec91a8c649325394e7",
            "6f18666d74334e2985124271df3d94b4",
            "86a8bd7d33104fbe8b17fc477e877a89",
            "a6278d8f34e3473ab770eb3526667cc3",
            "eac8662afb584360bdab0b6f0efc6328",
            "3a7c0b7a66994b34a6cf18c5cab5043b",
            "4dfdde4ff710472dafb03031b0552517",
            "459e37b156384ae29933c654d8122c6d",
            "eada607c8fdf4d4ab44d503ffb83e749",
            "b1fbe2075cfe4454b73927080580f598",
            "6c31c475473c4865be7fe5f35568fb73",
            "0eea714a3b974983ad39b3b43398a75d",
            "93ce5f35b4f64fcf8d978eae90d58e6b",
            "d4f52ca1fec1411ba19bf8b64d3776db",
            "05ddde5513e24eeaaa5e680b29888625",
            "d35ce27779c44ea69fe343848f0eff24",
            "3a366d7f26614268bc0f939425b16b25",
            "1d66e667a0234907a8586986a85d90b1",
            "dc80eb413e99491f8dfa17ffb2583984",
            "a9c453188b2a4de19c5bd0cba7f2ee8e",
            "63a502c51db04d419bcf3db92079538b",
            "27d1f5a08f84495f976683c2de74c6b1",
            "2ba25a84ccbb441db555dfeda3891abd",
            "e77882a8109648958276a34d2b225518",
            "edefe7a23a5342c8b228d2cb2f803a8d",
            "dfd93e0689f44c32886dafae9473f72f",
            "f82a74753d9c47f0b650e75cb2ab0ebd",
            "d1c28fcb4fbe43e28ebb9aa76482f389",
            "3d9cb08e676c43e6b5474d381b41b8d9",
            "6a22959bf53a40c2bab6deac0cfd5288",
            "17d970bf79f04d7780987e2a4a535ac4",
            "2c4dbe1a473f46f78e4c5f33f9d45503",
            "f131f9ee6c0041aca529d3bf7c6ad0ec",
            "c0fa11b101dd417b9bcda051b104b577",
            "379fd9a804b24ef785ac149834b022bc",
            "8f56e8d4344245bcbc5f2723cc720d96",
            "b04dc8b9539e46f28d6409fb1572edcc",
            "dcb680c24c0944bab32d6aefb807cd36",
            "665041645b3d4834ac05de2e21850b20",
            "6d59a97570db4b89a2edaca7de176eea",
            "a11c60de9eb8405eb146eaeb5fd6ac7e",
            "f290165184554730bdf19c87a5a8b602",
            "35db31e487f5491f81ea91f7f70d9385",
            "afe6dfc1a80a4d7fa2f88e338d87cab5",
            "59133821b76f427786fde796336293a5",
            "8726615fdd834e1392a478adf4078e39",
            "b0a5f1e6ea734eb4b38ebe00a69595ac",
            "d61a44b7044f44aca9878278d1419f95",
            "61645877000f42d382bf2bf7fac8c20a",
            "67cbac4b18ab4254a6cd98ef8f86158b",
            "984e9ce1e3d94a08be322c2b93d2f29e",
            "c6bae772f72042a8ace37317fccc3c00",
            "dc15516aa1d4497ca0905d03f7d809b7",
            "6b0925bd41074d53bd793773631a9c31",
            "0a2913f24af14207b3cd73d6cd8e1f06",
            "e3c02e6473924d1db5d90fefa45e9b2c",
            "6dd425c5e3b549659e8d7990489f344d",
            "702618a9976b4da1888ddfe02baccb11",
            "1eb561ee02fb4cffa50035ab48dea09a",
            "8ccb85753c224941971be753805a04e5",
            "126b54b7d6ed4186a29d4e2c41d23474",
            "98fab3ce7ca64e9483db2cd75c03400b",
            "881a4c37ab0f49589005d12ee77572b6",
            "e5604a27deeb48eeba573632f78cd85c"
          ]
        },
        "outputId": "eef173aa-2b09-4e79-817e-1ba6bf39e5d7"
      },
      "source": [
        "%%time\n",
        "datasets = get_datasets(datasets_names, BATCH_SIZE_TRAIN, BATCH_SIZE_TEST)"
      ],
      "execution_count": 9,
      "outputs": [
        {
          "output_type": "stream",
          "text": [
            "============================================================================================\n",
            "\n",
            "Extracting MNIST dataset...\n",
            "\n",
            "\u001b[1mDownloading and preparing dataset mnist/3.0.1 (download: 11.06 MiB, generated: 21.00 MiB, total: 32.06 MiB) to /root/tensorflow_datasets/mnist/3.0.1...\u001b[0m\n"
          ],
          "name": "stdout"
        },
        {
          "output_type": "stream",
          "text": [
            "WARNING:absl:Dataset mnist is hosted on GCS. It will automatically be downloaded to your\n",
            "local data directory. If you'd instead prefer to read directly from our public\n",
            "GCS bucket (recommended if you're running on GCP), you can instead pass\n",
            "`try_gcs=True` to `tfds.load` or set `data_dir=gs://tfds-data/datasets`.\n",
            "\n"
          ],
          "name": "stderr"
        },
        {
          "output_type": "display_data",
          "data": {
            "application/vnd.jupyter.widget-view+json": {
              "model_id": "6a92f9c287de479abb54d9f1d81aed87",
              "version_minor": 0,
              "version_major": 2
            },
            "text/plain": [
              "Dl Completed...:   0%|          | 0/4 [00:00<?, ? file/s]"
            ]
          },
          "metadata": {}
        },
        {
          "output_type": "stream",
          "text": [
            "\n",
            "\u001b[1mDataset mnist downloaded and prepared to /root/tensorflow_datasets/mnist/3.0.1. Subsequent calls will reuse this data.\u001b[0m\n",
            "tfds.core.DatasetInfo(\n",
            "    name='mnist',\n",
            "    version=3.0.1,\n",
            "    description='The MNIST database of handwritten digits.',\n",
            "    homepage='http://yann.lecun.com/exdb/mnist/',\n",
            "    features=FeaturesDict({\n",
            "        'image': Image(shape=(28, 28, 1), dtype=tf.uint8),\n",
            "        'label': ClassLabel(shape=(), dtype=tf.int64, num_classes=10),\n",
            "    }),\n",
            "    total_num_examples=70000,\n",
            "    splits={\n",
            "        'test': 10000,\n",
            "        'train': 60000,\n",
            "    },\n",
            "    supervised_keys=('image', 'label'),\n",
            "    citation=\"\"\"@article{lecun2010mnist,\n",
            "      title={MNIST handwritten digit database},\n",
            "      author={LeCun, Yann and Cortes, Corinna and Burges, CJ},\n",
            "      journal={ATT Labs [Online]. Available: http://yann.lecun.com/exdb/mnist},\n",
            "      volume={2},\n",
            "      year={2010}\n",
            "    }\"\"\",\n",
            "    redistribution_info=,\n",
            ")\n",
            "\n",
            " - Print one train set image:\n"
          ],
          "name": "stdout"
        },
        {
          "output_type": "display_data",
          "data": {
            "image/png": "[encoded data removed]",
            "text/plain": [
              "<Figure size 576x576 with 9 Axes>"
            ]
          },
          "metadata": {}
        },
        {
          "output_type": "display_data",
          "data": {
            "image/png": "[encoded data removed]",
            "text/plain": [
              "<Figure size 432x288 with 2 Axes>"
            ]
          },
          "metadata": {
            "needs_background": "light"
          }
        },
        {
          "output_type": "stream",
          "text": [
            " - Print one test set image:\n"
          ],
          "name": "stdout"
        },
        {
          "output_type": "display_data",
          "data": {
            "image/png": "[encoded data removed]",
            "text/plain": [
              "<Figure size 432x288 with 2 Axes>"
            ]
          },
          "metadata": {
            "needs_background": "light"
          }
        },
        {
          "output_type": "stream",
          "text": [
            " - Print one test set label:\n",
            "2\n",
            "\n",
            "\n",
            "============================================================================================\n",
            "\n",
            "Extracting MNIST_CORRUPTED/IDENTITY dataset...\n",
            "\n",
            "\u001b[1mDownloading and preparing dataset mnist_corrupted/identity/1.0.0 (download: 235.23 MiB, generated: Unknown size, total: 235.23 MiB) to /root/tensorflow_datasets/mnist_corrupted/identity/1.0.0...\u001b[0m\n"
          ],
          "name": "stdout"
        },
        {
          "output_type": "display_data",
          "data": {
            "application/vnd.jupyter.widget-view+json": {
              "model_id": "21d0d1d2e0e14d07a07201d138e66323",
              "version_minor": 0,
              "version_major": 2
            },
            "text/plain": [
              "Dl Completed...: 0 url [00:00, ? url/s]"
            ]
          },
          "metadata": {}
        },
        {
          "output_type": "display_data",
          "data": {
            "application/vnd.jupyter.widget-view+json": {
              "model_id": "da7c7a65ee254bd9aaff5c1888c0eaaa",
              "version_minor": 0,
              "version_major": 2
            },
            "text/plain": [
              "Dl Size...: 0 MiB [00:00, ? MiB/s]"
            ]
          },
          "metadata": {}
        },
        {
          "output_type": "display_data",
          "data": {
            "application/vnd.jupyter.widget-view+json": {
              "model_id": "610fc9a202034a2780bc2db0e763ee87",
              "version_minor": 0,
              "version_major": 2
            },
            "text/plain": [
              "Extraction completed...: 0 file [00:00, ? file/s]"
            ]
          },
          "metadata": {}
        },
        {
          "output_type": "stream",
          "text": [
            "\n",
            "\n",
            "\n"
          ],
          "name": "stdout"
        },
        {
          "output_type": "display_data",
          "data": {
            "application/vnd.jupyter.widget-view+json": {
              "model_id": "63a502c51db04d419bcf3db92079538b",
              "version_minor": 0,
              "version_major": 2
            },
            "text/plain": [
              "0 examples [00:00, ? examples/s]"
            ]
          },
          "metadata": {}
        },
        {
          "output_type": "stream",
          "text": [
            "Shuffling and writing examples to /root/tensorflow_datasets/mnist_corrupted/identity/1.0.0.incomplete2OT8JE/mnist_corrupted-train.tfrecord\n"
          ],
          "name": "stdout"
        },
        {
          "output_type": "display_data",
          "data": {
            "application/vnd.jupyter.widget-view+json": {
              "model_id": "2c4dbe1a473f46f78e4c5f33f9d45503",
              "version_minor": 0,
              "version_major": 2
            },
            "text/plain": [
              "  0%|          | 0/60000 [00:00<?, ? examples/s]"
            ]
          },
          "metadata": {}
        },
        {
          "output_type": "display_data",
          "data": {
            "application/vnd.jupyter.widget-view+json": {
              "model_id": "35db31e487f5491f81ea91f7f70d9385",
              "version_minor": 0,
              "version_major": 2
            },
            "text/plain": [
              "0 examples [00:00, ? examples/s]"
            ]
          },
          "metadata": {}
        },
        {
          "output_type": "stream",
          "text": [
            "Shuffling and writing examples to /root/tensorflow_datasets/mnist_corrupted/identity/1.0.0.incomplete2OT8JE/mnist_corrupted-test.tfrecord\n"
          ],
          "name": "stdout"
        },
        {
          "output_type": "display_data",
          "data": {
            "application/vnd.jupyter.widget-view+json": {
              "model_id": "6b0925bd41074d53bd793773631a9c31",
              "version_minor": 0,
              "version_major": 2
            },
            "text/plain": [
              "  0%|          | 0/10000 [00:00<?, ? examples/s]"
            ]
          },
          "metadata": {}
        },
        {
          "output_type": "stream",
          "text": [
            "\u001b[1mDataset mnist_corrupted downloaded and prepared to /root/tensorflow_datasets/mnist_corrupted/identity/1.0.0. Subsequent calls will reuse this data.\u001b[0m\n",
            "tfds.core.DatasetInfo(\n",
            "    name='mnist_corrupted',\n",
            "    version=1.0.0,\n",
            "    description='MNISTCorrupted is a dataset generated by adding 15 corruptions to the test\n",
            "images in the MNIST dataset. This dataset wraps the static, corrupted MNIST\n",
            "test images uploaded by the original authors',\n",
            "    homepage='https://github.com/google-research/mnist-c',\n",
            "    features=FeaturesDict({\n",
            "        'image': Image(shape=(28, 28, 1), dtype=tf.uint8),\n",
            "        'label': ClassLabel(shape=(), dtype=tf.int64, num_classes=10),\n",
            "    }),\n",
            "    total_num_examples=70000,\n",
            "    splits={\n",
            "        'test': 10000,\n",
            "        'train': 60000,\n",
            "    },\n",
            "    supervised_keys=('image', 'label'),\n",
            "    citation=\"\"\"@article{mu2019mnist,\n",
            "      title={MNIST-C: A Robustness Benchmark for Computer Vision},\n",
            "      author={Mu, Norman and Gilmer, Justin},\n",
            "      journal={arXiv preprint arXiv:1906.02337},\n",
            "      year={2019}\n",
            "    }\"\"\",\n",
            "    redistribution_info=,\n",
            ")\n",
            "\n",
            " - Print one test set image:\n"
          ],
          "name": "stdout"
        },
        {
          "output_type": "display_data",
          "data": {
            "image/png": "[encoded data removed]",
            "text/plain": [
              "<Figure size 576x576 with 9 Axes>"
            ]
          },
          "metadata": {}
        },
        {
          "output_type": "display_data",
          "data": {
            "image/png": "[encoded data removed]",
            "text/plain": [
              "<Figure size 432x288 with 2 Axes>"
            ]
          },
          "metadata": {
            "needs_background": "light"
          }
        },
        {
          "output_type": "stream",
          "text": [
            " - Print one test set label:\n",
            "2\n",
            "\n",
            "\n",
            "CPU times: user 1min, sys: 10.7 s, total: 1min 11s\n",
            "Wall time: 1min 10s\n"
          ],
          "name": "stdout"
        }
      ]
    },
    {
      "cell_type": "markdown",
      "metadata": {
        "id": "0l8yXrzwe2SR"
      },
      "source": [
        "tf.Tensor(0.12891072, shape=(), dtype=float32)"
      ]
    },
    {
      "cell_type": "code",
      "metadata": {
        "id": "SVzaNn7KtRmM"
      },
      "source": [
        "'''\n",
        "0\tT-shirt/top\n",
        "1\tTrouser\n",
        "2\tPullover\n",
        "3\tDress\n",
        "4\tCoat\n",
        "5\tSandal\n",
        "6\tShirt\n",
        "7\tSneaker\n",
        "8\tBag\n",
        "9\tAnkle boot\n",
        "'''"
      ],
      "execution_count": null,
      "outputs": []
    },
    {
      "cell_type": "markdown",
      "metadata": {
        "id": "y-B5QF0uG_GM"
      },
      "source": [
        "CIFAR-10 item mapping:"
      ]
    },
    {
      "cell_type": "code",
      "metadata": {
        "id": "OGOMakeqG-sE"
      },
      "source": [
        "'''\n",
        "0\tairplane\n",
        "1\tautomobile\n",
        "2\tbird\n",
        "3\tcat\n",
        "4\tdeer\n",
        "5\tdog\n",
        "6\tfrog\n",
        "7\thorse\n",
        "8\tship\n",
        "9\ttruck boot\n",
        "'''"
      ],
      "execution_count": null,
      "outputs": []
    },
    {
      "cell_type": "markdown",
      "metadata": {
        "id": "zopEYyzVZynY"
      },
      "source": [
        "#### **3) Model Class**\n",
        "\n",
        "Credit: https://www.tensorflow.org/api_docs/python/tf/keras/datasets"
      ]
    },
    {
      "cell_type": "code",
      "metadata": {
        "id": "YBmkn8hgDWt4",
        "colab": {
          "base_uri": "https://localhost:8080/"
        },
        "outputId": "6dad7543-9304-4dc7-d8be-3eb4ef9146a9"
      },
      "source": [
        "!pip install -i https://test.pypi.org/simple/ nsc-tf "
      ],
      "execution_count": 10,
      "outputs": [
        {
          "output_type": "stream",
          "text": [
            "Looking in indexes: https://test.pypi.org/simple/\n",
            "Collecting nsc-tf\n",
            "  Downloading https://test-files.pythonhosted.org/packages/6d/9e/064bcd0dea44aa1802ffc154f493d4ff0b300314272ccf2d23f9a532113c/nsc_tf-0.0.0.8-py3-none-any.whl (82 kB)\n",
            "\u001b[K     |████████████████████████████████| 82 kB 141 kB/s \n",
            "\u001b[?25hRequirement already satisfied: numpy in /usr/local/lib/python3.7/dist-packages (from nsc-tf) (1.19.5)\n",
            "Requirement already satisfied: scipy in /usr/local/lib/python3.7/dist-packages (from nsc-tf) (1.4.1)\n",
            "Installing collected packages: nsc-tf\n",
            "Successfully installed nsc-tf-0.0.0.8\n"
          ],
          "name": "stdout"
        }
      ]
    },
    {
      "cell_type": "code",
      "metadata": {
        "id": "0QJN4AtF5kpP",
        "colab": {
          "base_uri": "https://localhost:8080/"
        },
        "outputId": "40c981ae-dd03-4191-dc75-b75e5293cfec"
      },
      "source": [
        "from tensorflow.keras import layers as tfkl\n",
        "\n",
        "import nsc_tf\n",
        "from math import pi\n",
        "\n",
        "from tensorflow import repeat, squeeze, reduce_mean, matmul, expand_dims, \\\n",
        "                       transpose, reduce_prod, pow, square, sqrt, cast, \\\n",
        "                       where, zeros_like, int32, float32, equal, reduce_all \n",
        "from tensorflow.random import set_seed\n",
        "from tensorflow.math import log, lgamma, exp, is_finite, reduce_sum, \\\n",
        "                            count_nonzero, add, subtract, multiply, divide\n",
        "from tensorflow.linalg import det, diag_part, inv, trace"
      ],
      "execution_count": 11,
      "outputs": [
        {
          "output_type": "stream",
          "text": [
            "Importing NSC lib v0.0.0.8.\n"
          ],
          "name": "stdout"
        }
      ]
    },
    {
      "cell_type": "code",
      "metadata": {
        "id": "Q5i8DixeY8kG"
      },
      "source": [
        "class Sampler_Z(tfkl.Layer):   \n",
        "\n",
        "  def call(self, inputs):\n",
        "    mean, logvar = inputs\n",
        "    # Reparameterize\n",
        "    eps = tf.random.normal(shape=mean.shape, seed=0)\n",
        "    z_sample = eps * tf.exp(logvar * .5) + mean\n",
        "\n",
        "    #tf.print(tf.math.reduce_mean(eps))\n",
        "\n",
        "    return z_sample"
      ],
      "execution_count": 12,
      "outputs": []
    },
    {
      "cell_type": "code",
      "metadata": {
        "id": "9UudCMLdsxNV"
      },
      "source": [
        "# Encoder/Decoder layers 1 (for MNIST images)\n",
        "class EncoderZ_1(tfkl.Layer):\n",
        "\n",
        "    def __init__(self, z_dim, n_filter_base, seed, name=\"encoder\", **kwargs):\n",
        "        super(EncoderZ_1, self).__init__(name=name, **kwargs)\n",
        "        # Block-1\n",
        "        self.conv_layer_1 = tfkl.Conv2D(filters=n_filter_base, kernel_size=3,\n",
        "                                        strides=1, padding='same', name='conv_1'\n",
        "                                        )\n",
        "\n",
        "        self.batch_layer_1 = tfkl.BatchNormalization(name='bn_1')\n",
        "        self.activation_layer_1 = tfkl.Activation(tf.nn.leaky_relu, name='lrelu_1')\n",
        "        # Block-2\n",
        "        self.conv_layer_2 = tfkl.Conv2D(filters=n_filter_base*2, kernel_size=3,\n",
        "                                        strides=2, padding='same', name='conv_2'\n",
        "                                        )\n",
        "        self.batch_layer_2 = tfkl.BatchNormalization(name='bn_2')\n",
        "        self.activation_layer_2 = tfkl.Activation(tf.nn.leaky_relu, name='lrelu_2')\n",
        "        # Block-3\n",
        "        self.conv_layer_3 = tfkl.Conv2D(filters=n_filter_base*2, kernel_size=3,\n",
        "                                        strides=2, padding='same', name='conv_3'\n",
        "                                        )\n",
        "        self.batch_layer_3 = tfkl.BatchNormalization(name='bn_3')\n",
        "        self.activation_layer_3 = tfkl.Activation(tf.nn.leaky_relu, name='lrelu_3')\n",
        "        # Block-4\n",
        "        self.conv_layer_4 = tfkl.Conv2D(filters=n_filter_base*2, kernel_size=3,\n",
        "                                        strides=1, padding='same', name='conv_4'\n",
        "                                        )\n",
        "        self.batch_layer_4 = tfkl.BatchNormalization(name='bn_4')\n",
        "        self.activation_layer_4 = tfkl.Activation(tf.nn.leaky_relu, name='lrelu_4')\n",
        "        # Final Block\n",
        "        self.flatten_layer = Flatten()\n",
        "        self.dense_mean = Dense(z_dim, activation=None, name='z_mean')\n",
        "        self.dense_raw_stddev = Dense(z_dim, activation=None,\n",
        "                                      name='z_raw_stddev'\n",
        "                                      )\n",
        "        self.sampler_z = Sampler_Z()\n",
        "\n",
        "    # Functional\n",
        "    def call(self, x_input):\n",
        "        z = self.conv_layer_1(x_input)\n",
        "        z = self.batch_layer_1(z)\n",
        "        z = self.activation_layer_1(z)\n",
        "        z = self.conv_layer_2(z)\n",
        "        z = self.batch_layer_2(z)\n",
        "        z = self.activation_layer_2(z)\n",
        "        z = self.conv_layer_3(z)\n",
        "        z = self.batch_layer_3(z)\n",
        "        z = self.activation_layer_3(z)\n",
        "        z = self.conv_layer_4(z)\n",
        "        z = self.batch_layer_4(z)\n",
        "        z = self.activation_layer_4(z)\n",
        "        z = self.flatten_layer(z)\n",
        "        mean = self.dense_mean(z)\n",
        "        logvar = self.dense_raw_stddev(z)\n",
        "        z_sample = self.sampler_z((mean, logvar))\n",
        "        return z_sample, mean, logvar\n",
        "\n",
        "\n",
        "class DecoderX_1(tfkl.Layer):\n",
        "\n",
        "    def __init__(self, z_dim, n_filter_base, name=\"decoder\", **kwargs):\n",
        "        super(DecoderX_1, self).__init__(name=name, **kwargs)\n",
        "        # For MNIST images\n",
        "        self.dense_z_input = tfkl.Dense(units=7*7*n_filter_base*2,\n",
        "                                        activation=tf.nn.relu\n",
        "                                        )\n",
        "        self.reshape_layer = tfkl.Reshape(target_shape=(7, 7, n_filter_base*2))\n",
        "        # Block-1\n",
        "        self.conv_transpose_layer_1 = tfkl.Conv2DTranspose(filters=n_filter_base*2,\n",
        "                                                           kernel_size=3,\n",
        "                                                           strides=1, \n",
        "                                                           padding='same',\n",
        "                                                           name='conv_transpose_1'\n",
        "                                                           )\n",
        "        self.batch_layer_1 = tfkl.BatchNormalization(name='bn_1')\n",
        "        self.activation_layer_1 = tfkl.Activation(tf.nn.leaky_relu, name='lrelu_1')\n",
        "        # Block-2\n",
        "        self.conv_transpose_layer_2 = tfkl.Conv2DTranspose(filters=n_filter_base*2,\n",
        "                                                           kernel_size=3,\n",
        "                                                           strides=2, \n",
        "                                                           padding='same',\n",
        "                                                           name='conv_transpose_2'\n",
        "                                                           )\n",
        "        self.batch_layer_2 = tfkl.BatchNormalization(name='bn_2')\n",
        "        self.activation_layer_2 = tfkl.Activation(tf.nn.leaky_relu, name='lrelu_2')\n",
        "        # Block-3\n",
        "        self.conv_transpose_layer_3 = tfkl.Conv2DTranspose(filters=n_filter_base,\n",
        "                                                           kernel_size=3,\n",
        "                                                           strides=2, \n",
        "                                                           padding='same',\n",
        "                                                           name='conv_transpose_3'\n",
        "                                                           )\n",
        "        self.batch_layer_3 = tfkl.BatchNormalization(name='bn_3')\n",
        "        self.activation_layer_3 = tfkl.Activation(tf.nn.leaky_relu, name='lrelu_3')\n",
        "        # Block-4\n",
        "        # Filters=1 for gray-scaled images\n",
        "        self.conv_transpose_layer_4 = tfkl.Conv2DTranspose(filters=1,\n",
        "                                                           kernel_size=3,\n",
        "                                                           strides=1, \n",
        "                                                           padding='same',\n",
        "                                                           name='conv_transpose_4'\n",
        "                                                           )\n",
        "\n",
        "    # Functional\n",
        "    def call(self, z):\n",
        "        x_output = self.dense_z_input(z)\n",
        "        x_output = self.reshape_layer(x_output)\n",
        "        x_output = self.conv_transpose_layer_1(x_output)\n",
        "        x_output = self.batch_layer_1(x_output)\n",
        "        x_output = self.activation_layer_1(x_output)\n",
        "        x_output = self.conv_transpose_layer_2(x_output)\n",
        "        x_output = self.batch_layer_2(x_output)\n",
        "        x_output = self.activation_layer_2(x_output)\n",
        "        x_output = self.conv_transpose_layer_3(x_output)\n",
        "        x_output = self.batch_layer_3(x_output)\n",
        "        x_output = self.activation_layer_3(x_output)\n",
        "        x_output = self.conv_transpose_layer_4(x_output)\n",
        "        return x_output"
      ],
      "execution_count": 13,
      "outputs": []
    },
    {
      "cell_type": "code",
      "metadata": {
        "id": "4q5aKhDpKkhl"
      },
      "source": [
        "class VAEModel(tfk.Model):\n",
        "    \"\"\"Convolutional variational autoencoder base model.\"\"\"\n",
        "\n",
        "    def __init__(self, z_dim, n_filter_base, seed):\n",
        "        super(VAEModel, self).__init__()\n",
        "        self.encoder = EncoderZ_1(z_dim, n_filter_base, seed)\n",
        "        self.decoder = DecoderX_1(z_dim, n_filter_base)\n",
        "\n",
        "    #@tf.function\n",
        "    def sample(self, z_sample):\n",
        "        x_recons_logits = self.decoder(z_sample)\n",
        "        sample_images = tf.sigmoid(x_recons_logits)  # predictions\n",
        "        return sample_images\n",
        "\n",
        "    def call(self, x_input):\n",
        "        z_sample, mean, logvar = self.encoder(x_input)\n",
        "        x_recons_logits = self.decoder(z_sample)\n",
        "        return x_recons_logits, z_sample, mean, logvar\n"
      ],
      "execution_count": 14,
      "outputs": []
    },
    {
      "cell_type": "code",
      "metadata": {
        "id": "xPYki3SJIPOQ"
      },
      "source": [
        "class GeneralizedMean:\n",
        "\n",
        "    def __init__(self, ll_values, kl_values):\n",
        "        self.gmean_metrics = pd.Series()\n",
        "        self.gmean_log_prob_values = {}\n",
        "        self._save_generalized_mean_metrics('elbo', ll_values - kl_values)\n",
        "        self._save_generalized_mean_metrics('recon', ll_values)\n",
        "        self._save_generalized_mean_metrics('kldiv', -kl_values)\n",
        "\n",
        "    def _save_generalized_mean_metrics(self, key, log_prob_values):\n",
        "        # Save the generalized means and metric values\n",
        "        prob_values = tf.exp(log_prob_values)\n",
        "        self.inv_n = 1 / len(prob_values)  # 1/n\n",
        "        decisiveness = self._calculate_decisiveness(prob_values)\n",
        "        accuracy = self._calculate_accuracy(prob_values)\n",
        "        robustness = self._calculate_robustness(prob_values)\n",
        "        curr_metrics = pd.Series([decisiveness, accuracy, robustness],\n",
        "                                 index=[f'{key}_decisiveness', f'{key}_accuracy',\n",
        "                                        f'{key}_robustness'\n",
        "                                        ]\n",
        "                                 )\n",
        "        self.gmean_metrics = self.gmean_metrics.append(curr_metrics)\n",
        "        self.gmean_log_prob_values[key] = log_prob_values\n",
        "\n",
        "    def _calculate_decisiveness(self, values):\n",
        "        # Decisiveness = Arithmetic mean\n",
        "        result = tf.reduce_sum(values) * self.inv_n\n",
        "        return result.numpy()\n",
        "\n",
        "    def _calculate_accuracy(self, values):\n",
        "        # Accuracy = Geometric mean\n",
        "        result = tf.reduce_prod(values ** self.inv_n)\n",
        "        return result.numpy()\n",
        "\n",
        "    def _calculate_robustness(self, values):\n",
        "        # Robustness = -2/3 Mean\n",
        "        result = tf.reduce_sum(values ** (-2/3))\n",
        "        result = (result * self.inv_n) ** (-3/2)\n",
        "        return result.numpy()\n",
        "\n",
        "    def get_metrics(self):\n",
        "        return self.gmean_metrics\n",
        "\n",
        "    def get_log_prob_values(self):\n",
        "        return self.gmean_log_prob_values"
      ],
      "execution_count": 15,
      "outputs": []
    },
    {
      "cell_type": "code",
      "metadata": {
        "id": "PHSLR0nPIKzx"
      },
      "source": [
        "class Visualize:\n",
        "\n",
        "    def __init__(self, sample_func, z_sample, sample_labels, gmean_metrics,\n",
        "                 gmean_log_prob_values, display_path='.'\n",
        "                 ):\n",
        "        self.sample_func = sample_func\n",
        "        self.z_sample = z_sample\n",
        "        self.sample_labels = sample_labels\n",
        "        self.gmean_metrics = gmean_metrics\n",
        "        self.gmean_log_prob_values = gmean_log_prob_values\n",
        "        self.display_path = display_path\n",
        "        if len(z_sample) <= 16:\n",
        "            sample_images = sample_func(z_sample)  # predictions\n",
        "        else:\n",
        "            sample_images = sample_func(z_sample)[:16]  # first 16 predictions\n",
        "        self.sample_images = sample_images\n",
        "        self.digit_size = len(sample_images[0])\n",
        "\n",
        "    def display(self, show=True, **kwargs):\n",
        "        self.display_generated_images(show=show, **kwargs)\n",
        "        self.display_latent_space(show=show, **kwargs)\n",
        "        #self.display_manifold(show=show, **kwargs)\n",
        "        self.display_histogram(key='recon', show=show, **kwargs)\n",
        "        self.display_histogram(key='kldiv', show=show, **kwargs)\n",
        "        self.display_histogram(key='elbo', show=show, **kwargs)\n",
        "\n",
        "    def display_generated_images(self, image_size=4, show=True, **kwargs):\n",
        "        fig = plt.figure(figsize=(image_size, image_size))\n",
        "        for i in range(self.sample_images.shape[0]):\n",
        "            plt.subplot(4, 4, i + 1)\n",
        "            plt.imshow(self.sample_images[i, :, :, 0], cmap='gray')\n",
        "            plt.axis('off')\n",
        "        # tight_layout minimizes the overlap between 2 sub-plots\n",
        "        plt.axis('Off')\n",
        "        plt.savefig(f\"{self.display_path}/generated_images/\" + \\\n",
        "                    f\"{self._picture_name('images', **kwargs)}\"\n",
        "                    )\n",
        "        if show:\n",
        "            plt.show();\n",
        "\n",
        "    def display_latent_space(self, image_size=4, show=True, **kwargs):\n",
        "        # display a 2D plot of the digit classes in the latent space\n",
        "\n",
        "        colors = ['pink', 'red', 'orange', 'yellow', 'green', \n",
        "                        'blue', 'purple', 'brown', 'gray', 'black']\n",
        "        plt.figure(figsize=(image_size, image_size))\n",
        "        if z_dim==2:\n",
        "          plt.scatter(self.z_sample[:, 0], self.z_sample[:, 1], c=self.sample_labels,\n",
        "                    cmap=matplotlib.colors.ListedColormap(colors)\n",
        "                    )\n",
        "          plt.xlabel('z[0]')\n",
        "          plt.ylabel('z[1]')\n",
        "\n",
        "        else:\n",
        "          encoded_imgs_embedded = TSNE(n_components=2).fit_transform(self.z_sample)\n",
        "          plt.scatter(encoded_imgs_embedded[:,0],encoded_imgs_embedded[:,1],\n",
        "                      c=self.sample_labels,\n",
        "                      cmap=matplotlib.colors.ListedColormap(colors)\n",
        "                    )\n",
        "          plt.xlabel(\"t-SNE 1st dimension\")\n",
        "          plt.ylabel(\"t-SNE 2nd dimension\")\n",
        "\n",
        "        plt.colorbar()\n",
        "        plt.savefig(f\"{self.display_path}/latent_spaces/\" + \\\n",
        "                      f\"{self._picture_name('latent', **kwargs)}\"\n",
        "                      )\n",
        "        if show:\n",
        "            plt.show();\n",
        "\n",
        "    def display_manifold(self, n=20, image_size=10, show=True, **kwargs):\n",
        "        \"\"\"Plots n x n digit images decoded from the latent space.\"\"\"\n",
        "        norm = tfp.distributions.Normal(0, 1)\n",
        "        grid_x = norm.quantile(np.linspace(0.05, 0.95, n))\n",
        "        grid_y = norm.quantile(np.linspace(0.05, 0.95, n))\n",
        "        image_width = self.digit_size*n\n",
        "        image_height = image_width\n",
        "        image = np.zeros((image_height, image_width))\n",
        "        for i, yi in enumerate(grid_x):\n",
        "            for j, xi in enumerate(grid_y):\n",
        "                z = np.array([[xi, yi]])\n",
        "                x_decoded = self.sample_func(z)\n",
        "                digit = tf.reshape(x_decoded[0], \n",
        "                                   (self.digit_size, self.digit_size)\n",
        "                                   )\n",
        "                image[i*self.digit_size: (i+1)*self.digit_size,\n",
        "                      j*self.digit_size: (j+1)*self.digit_size] = digit.numpy()\n",
        "        plt.figure(figsize=(image_size, image_size))\n",
        "        plt.imshow(image, cmap='Greys_r')\n",
        "        plt.axis('Off')\n",
        "        plt.savefig(f\"{self.display_path}/manifolds/\" + \\\n",
        "                    f\"{self._picture_name('mani', **kwargs)}\"\n",
        "                    )\n",
        "        if show:\n",
        "            plt.show();\n",
        "\n",
        "    def display_histogram(self, key, image_size=(24, 10), show=True, **kwargs):\n",
        "        # Get histogram title and x-axis\n",
        "        if key == 'recon':\n",
        "            # xlabel = 'Probability of reconstructed image equivalent to original one.'\n",
        "            xlabel = 'Reconstruction Probability'\n",
        "            xticks = [1e-240, 1e-210, 1e-180, 1e-150, 1e-120, 1e-90, 1e-60, 1e-30, 1]\n",
        "        elif key == 'kldiv':\n",
        "            xlabel = 'Divergence Probability'\n",
        "            xticks = [1e-8, 1e-7, 1e-6, 1e-5, 1e-4, 1e-3, 1e-2, 1e-1, 1]\n",
        "        else:\n",
        "            xlabel = 'ELBO Probability'\n",
        "            xticks = [1e-240, 1e-210, 1e-180, 1e-150, 1e-120, 1e-90, 1e-60, 1e-30, 1]\n",
        "        # Retrieve the generalized means and metric values\n",
        "        decisiveness = self.gmean_metrics[f'{key}_decisiveness']\n",
        "        accuracy = self.gmean_metrics[f'{key}_accuracy']\n",
        "        robustness = self.gmean_metrics[f'{key}_robustness']\n",
        "        log_prob_values = self.gmean_log_prob_values[key]\n",
        "        # The histogram of the data\n",
        "        fig, ax = plt.subplots(figsize=(24, 10))\n",
        "        xtick_axis = [math.log(xtick) for xtick in xticks]\n",
        "        xtick_labels = [str(xtick) for xtick in xticks]\n",
        "        ax.set_xticks(xtick_axis)\n",
        "        ax.set_xticklabels(xtick_labels)\n",
        "        plt.title(f\"{xlabel} Histogram for VAE (Epoch={kwargs['epoch']})\", fontdict = {'fontsize' : 40, 'weight': 'bold'})\n",
        "        plt.xlabel(xlabel, fontdict = {'fontsize' : 40, 'weight': 'bold'})\n",
        "        plt.ylabel(\"Frequency in logscale\", fontdict = {'fontsize' : 40, 'weight': 'bold'})\n",
        "        # Plot in logscale, so convert the metric as logs as well\n",
        "        log_dec, log_acc, log_rob = np.log(decisiveness), np.log(accuracy), np.log(robustness)\n",
        "        dec_txt, acc_txt, rob_txt = f'{decisiveness:0.2e}', f'{accuracy:0.2e}', f'{robustness:0.2e}'\n",
        "        plt.axvline(log_dec, color='g', linestyle='dashed', linewidth=2)\n",
        "        plt.text(log_dec, 10*12, dec_txt, color='g', size='large', weight='bold')\n",
        "        plt.axvline(log_acc, color='b', linestyle='dashed', linewidth=2)\n",
        "        plt.text(log_acc, 10*12, acc_txt, color='b', size='large', weight='bold')\n",
        "        plt.axvline(log_rob, color='r', linestyle='dashed', linewidth=2)\n",
        "        plt.text(log_rob, 10*12, rob_txt, color='r', size='large', weight='bold')\n",
        "        plt.hist(log_prob_values, log=True, bins=100, facecolor='white', edgecolor='black')\n",
        "        plt.savefig(f\"{self.display_path}/histograms/{key}/\" + \\\n",
        "                    f\"{self._picture_name(f'hist_{key}', **kwargs)}\"\n",
        "                    )\n",
        "        if show:\n",
        "            plt.show();\n",
        "\n",
        "    def _picture_name(self, display_type, **kwargs):\n",
        "        name = display_type\n",
        "        for key, value in kwargs.items():\n",
        "            name += f'_{key}{str(value)}'\n",
        "        return f'{name}.png'"
      ],
      "execution_count": 16,
      "outputs": []
    },
    {
      "cell_type": "code",
      "metadata": {
        "id": "Q_DtMMuTv91K"
      },
      "source": [
        "class VAE:\n",
        "    \"\"\"Variational Autoencoder wrapper.\"\"\"\n",
        "    def __init__(self, z_dim, n_filter_base=32, learning_rate=0.0005,\n",
        "                 beta=1., p_std=1., seed=0, loss_coupling = 0.0,\n",
        "                 analytic_kl=False, display_path='.'\n",
        "                 ):\n",
        "        self.optimizer = tfk.optimizers.Adam(learning_rate)\n",
        "        self.model = VAEModel(z_dim, n_filter_base, seed)\n",
        "        metrics_col = ['epoch', 'neg_elbo', 'recon_loss', 'kl_div'] + \\\n",
        "                      [f'{x}_{y}' for x in ['elbo', 'recon', 'kl'] \n",
        "                                  for y in ['decisiveness', 'accuracy', 'robustness']\n",
        "                       ]\n",
        "        self.metrics_df = pd.DataFrame(columns=metrics_col)\n",
        "        self.beta = beta\n",
        "        self.p_std = p_std\n",
        "        self.analytic_kl = analytic_kl\n",
        "        self.display_path = display_path\n",
        "        self._set_random_seeds(seed)\n",
        "        self.loss_coupling = loss_coupling\n",
        "\n",
        "    def train(self, train_dataset, test_dataset, test_label, n_epoch=10,\n",
        "              n_epoch_display=10\n",
        "              ):\n",
        "        # Pick a sample of the test set for generating output images\n",
        "        for test_batch, test_batch_label in zip(test_dataset.take(1),\n",
        "                                                test_label.take(1)\n",
        "                                                ):\n",
        "            test_sample = test_batch\n",
        "            test_sample_label = test_batch_label\n",
        "        \n",
        "        \n",
        "\n",
        "        for epoch in range(1, n_epoch + 1):\n",
        "            start_time = time.time()\n",
        "            for train_x in tqdm(train_dataset):\n",
        "                self.train_step(train_x)\n",
        "            end_time = time.time()\n",
        "            # Get Loss Metrics\n",
        "            for test_x in test_dataset:\n",
        "                loss, neg_ll, kl_div, ll_values, kl_values = self.compute_loss(test_x)\n",
        "            display.clear_output(wait=False)\n",
        "            print(f\"Epoch: {epoch}, Test set Loss: {loss}, \" + \\\n",
        "                  f\"Test set Recon: {neg_ll}, Test set KL: {kl_div}, \" + \\\n",
        "                  f\"time elapse for current epoch: {end_time - start_time}\"\n",
        "                  )\n",
        "            \n",
        "            # Generalized Mean\n",
        "            gmean = GeneralizedMean(ll_values, kl_values)\n",
        "            # Visualize / Display\n",
        "            display_list = [1, 2, 3, 5, 15]\n",
        "            if epoch in display_list or epoch % n_epoch_display == 0:\n",
        "                z_sample, _, _ = self.model.encoder(test_sample)\n",
        "                viz = Visualize(self.model.sample,\n",
        "                                z_sample,\n",
        "                                test_sample_label,\n",
        "                                gmean.get_metrics(),\n",
        "                                gmean.get_log_prob_values(),\n",
        "                                self.display_path\n",
        "                                )\n",
        "                viz.display(cd='X',\n",
        "                            cl='X',\n",
        "                            epoch=epoch\n",
        "                            )\n",
        "            metrics_row = [int(epoch), loss.numpy(), neg_ll.numpy(), kl_div.numpy()]\n",
        "            metrics_row = pd.Series(metrics_row, index=self.metrics_df.columns[:4])\n",
        "            metrics_row = metrics_row.append(gmean.get_metrics())\n",
        "            self.metrics_df = self.metrics_df.append(metrics_row, ignore_index=True)\n",
        "\n",
        "    # @tf.function\n",
        "    def train_step(self, x_true):\n",
        "        \"\"\"Executes one training step and returns the loss.\n",
        "\n",
        "        This function computes the loss and gradients, and uses the latter to\n",
        "        update the model's parameters.\n",
        "        \"\"\"\n",
        "        with tf.GradientTape() as tape:\n",
        "            loss = self.compute_loss(x_true, train=True, loss_coupling=self.loss_coupling)\n",
        "        gradients = tape.gradient(loss, self.model.trainable_variables)\n",
        "        self.optimizer.apply_gradients(zip(gradients, self.model.trainable_variables))\n",
        "\n",
        "    def log_normal_pdf(self, sample, mean, logvar, raxis=1):\n",
        "        log2pi = tf.math.log(2. * np.pi)\n",
        "        return tf.reduce_sum(\n",
        "            -.5 * ((sample - mean) ** 2. * tf.exp(-logvar) + logvar + log2pi),\n",
        "            axis=raxis)\n",
        "    \n",
        "    def coupled_kl_divergence_vs_standard_mvn_analytical(self, loc, scale, kappa):\n",
        "        \"\"\"\n",
        "        This function calculates the coupled divergence between the input \n",
        "        distribution and the multivariate Gaussian centered at the origin whose\n",
        "        covariance matrix is the identity matrix.\n",
        "        Parameters\n",
        "        ----------\n",
        "        loc : tf.Tensor\n",
        "        scale : tf.Tensor\n",
        "        kappa : float\n",
        "            The coupling of the divergence function.\n",
        "        Returns\n",
        "        -------\n",
        "        coupted_divergence : tf.Tensor\n",
        "            The coupled divergence between an input distribution and the standard\n",
        "            multivariate Gaussian.\n",
        "        \"\"\"\n",
        "\n",
        "        loc_q = loc\n",
        "        scale_q = diag_part(scale)\n",
        "        dim = loc.shape[-1]\n",
        "\n",
        "        d1 = 1 + dim*kappa + 2*kappa  \n",
        "\n",
        "        coupled_div_t1 = add(\n",
        "            multiply(kappa, nsc_tf.math.function.coupled_logarithm(2*pi, kappa=kappa, dim=dim)), 1\n",
        "            )\n",
        "        coupled_div_t1 = multiply(\n",
        "            coupled_div_t1, \n",
        "            sqrt(divide(d1, (subtract(d1, multiply(2*kappa, square(scale_q))))))\n",
        "            )\n",
        "\n",
        "        coupled_div_t1 *= exp(\n",
        "            divide(multiply(multiply(square(loc_q), d1), kappa), \n",
        "                  multiply((1 + dim*kappa), \n",
        "                            (subtract(d1, 2*kappa*square(scale_q)))))\n",
        "            )\n",
        "        coupled_div_t1 = reduce_prod(coupled_div_t1, axis=1)\n",
        "\n",
        "        coupled_div_t2 = multiply(kappa, \n",
        "                                  nsc_tf.math.function.coupled_logarithm(\n",
        "                                      multiply(2*pi, square(scale_q)), \n",
        "                                      kappa=kappa, \n",
        "                                      dim=dim)\n",
        "                                  )\n",
        "        coupled_div_t2 = add(coupled_div_t2, 1)\n",
        "        coupled_div_t2 *= sqrt(d1 / (1 + dim*kappa))\n",
        "        coupled_div_t2 = reduce_prod(coupled_div_t2, axis=1)\n",
        "\n",
        "        coupled_divergence = subtract(coupled_div_t1, coupled_div_t2) \n",
        "        coupled_divergence = divide(coupled_divergence, 2*kappa)\n",
        "\n",
        "        return coupled_divergence\n",
        "\n",
        "    def compute_loss(self, x_true, train=False, loss_coupling=0.0):\n",
        "        x_recons_logits, z_sample, mean, logvar = self.model(x_true)\n",
        "\n",
        "\n",
        "        if loss_coupling == 0.0:          \n",
        "          # Sigmoid Cross Entropy Loss\n",
        "          cross_ent = tf.nn.sigmoid_cross_entropy_with_logits(logits=x_recons_logits,\n",
        "                                                              labels=x_true\n",
        "                                                              )\n",
        "          # Negative Log-Likelihood\n",
        "          logpx_z = -tf.reduce_sum(cross_ent, axis=[1, 2, 3])  # log-likelihood\n",
        "          neg_ll = -logpx_z  # negative log-likelihood\n",
        "          # KL-Divergence\n",
        "          if self.analytic_kl == True:\n",
        "              sd = tf.math.log(1 + tf.math.exp(logvar))\n",
        "              kl_div = -0.5 * tf.math.reduce_sum(1 + tf.math.log(tf.math.square(sd)) - \\\n",
        "                                                tf.math.square(mean) - \\\n",
        "                                                tf.math.square(sd),\n",
        "                                                axis=1\n",
        "                                                )\n",
        "          else:\n",
        "              logpz = self.log_normal_pdf(z_sample, 0., self.p_std)\n",
        "              logqz_x = self.log_normal_pdf(z_sample, mean, logvar)\n",
        "              kl_div = logqz_x - logpz\n",
        "          # ELBO\n",
        "          neg_ll_mean = tf.math.reduce_mean(neg_ll)\n",
        "          kl_div_mean = tf.math.reduce_mean(kl_div)\n",
        "          # elbo = -self.beta*kl_div_mean + neg_ll_mean\n",
        "          loss = neg_ll_mean + self.beta*kl_div_mean\n",
        "\n",
        "        else:\n",
        "          ##NSC ELBO\n",
        "\n",
        "          #Conversion from logits to probs\n",
        "          p = x_true\n",
        "          q = tf.math.sigmoid(x_recons_logits)\n",
        "\n",
        "          #Calculation of binary log_loss\n",
        "          cross_ent_2 = p*nsc_tf.math.function.coupled_logarithm(q, kappa=self.loss_coupling) + (1-p)*nsc_tf.math.function.coupled_logarithm(1-q, kappa=self.loss_coupling)\n",
        "\n",
        "          logpx_z= tf.reduce_sum(cross_ent_2, axis=[1, 2, 3])\n",
        "          neg_ll = -logpx_z\n",
        "\n",
        "          kl_div = self.coupled_kl_divergence_vs_standard_mvn_analytical(loc=mean, scale=tf.linalg.diag(tf.exp(logvar/2)), kappa=self.loss_coupling)\n",
        "\n",
        "          neg_ll_mean = tf.math.reduce_mean(neg_ll)\n",
        "          kl_div_mean = tf.math.reduce_mean(kl_div)\n",
        "\n",
        "          loss = neg_ll_mean + self.beta*kl_div_mean\n",
        "\n",
        "\n",
        "        if train:\n",
        "            return loss\n",
        "        return loss, neg_ll_mean, kl_div_mean, \\\n",
        "               tf.cast(logpx_z, tf.float64), tf.cast(kl_div, tf.float64)\n",
        "\n",
        "    def _set_random_seeds(self, seed):\n",
        "        tf.random.set_seed(seed)\n",
        "        np.random.seed(seed)\n",
        "        random.seed(seed)"
      ],
      "execution_count": 17,
      "outputs": []
    },
    {
      "cell_type": "markdown",
      "metadata": {
        "id": "FPBEVeMUyq6s"
      },
      "source": [
        "#### **4) Models Train**"
      ]
    },
    {
      "cell_type": "code",
      "metadata": {
        "id": "2Y2l3hhBBoSt",
        "colab": {
          "base_uri": "https://localhost:8080/"
        },
        "outputId": "243533c6-5cc6-4e28-9724-860b4c0d1abf"
      },
      "source": [
        "datasets['mnist']['train'], datasets['mnist']['test']"
      ],
      "execution_count": 18,
      "outputs": [
        {
          "output_type": "execute_result",
          "data": {
            "text/plain": [
              "(<ShuffleDataset shapes: (None, 28, 28, 1), types: tf.float32>,\n",
              " <PrefetchDataset shapes: (None, 28, 28, 1), types: tf.float32>)"
            ]
          },
          "metadata": {},
          "execution_count": 18
        }
      ]
    },
    {
      "cell_type": "code",
      "metadata": {
        "id": "1JGeXi6pKqEQ"
      },
      "source": [
        "#datasets['mnist_corrupted/motion_blur']['test']"
      ],
      "execution_count": null,
      "outputs": []
    },
    {
      "cell_type": "code",
      "metadata": {
        "id": "hb25Xw1OB62B"
      },
      "source": [
        "# datasets['cifar10']['train'], datasets['cifar10']['test']"
      ],
      "execution_count": null,
      "outputs": []
    },
    {
      "cell_type": "code",
      "metadata": {
        "id": "yMKOS-wB2GKh",
        "colab": {
          "base_uri": "https://localhost:8080/"
        },
        "outputId": "7fb115b9-7fa0-4def-fa76-13b79535735e"
      },
      "source": [
        "# SET HYPERPARAMETERS HERE ####################################################\n",
        "\n",
        "# vae init params\n",
        "z_dim = 4  # latent dim, set the dimensionality of the latent space to a plane for visualization later\n",
        "n_filter_base = 32  # number of base filters in the CNN (a lot of filters?)\n",
        "learning_rate = 0.0005  # uses for the internal Adam opt\n",
        "# vae train params\n",
        "n_epoch = 20  # 100 number of epochs\n",
        "n_epoch_display = 1  # 10 number of epochs before displaying plots\n",
        "show_display = True\n",
        "display_sample = False\n",
        "\n",
        "analytic_kl = True\n",
        "beta = 1.\n",
        "p_std = 1.\n",
        "\n",
        "version = 'v4.3'\n",
        "save_path = f'gdrive/My Drive/Colab Notebooks/coupled_vae/vae/output/{version}/'\n",
        "\n",
        "print(f\"Your current randomly generated seed is {random_seed}. DON'T LOSE TRACK OF YOUR SEEDS!\")"
      ],
      "execution_count": 19,
      "outputs": [
        {
          "output_type": "stream",
          "text": [
            "Your current randomly generated seed is 303182. DON'T LOSE TRACK OF YOUR SEEDS!\n"
          ],
          "name": "stdout"
        }
      ]
    },
    {
      "cell_type": "code",
      "metadata": {
        "id": "9GrjIvKcm7_l"
      },
      "source": [
        "def create_gdrive_output_folders(save_path, seed):\n",
        "    if not os.path.isdir(save_path):\n",
        "        os.mkdir(save_path)\n",
        "\n",
        "    seed_path = f'{save_path}seed{seed}/'\n",
        "    if os.path.isdir(seed_path):\n",
        "        return\n",
        "    os.mkdir(seed_path)\n",
        "\n",
        "    img_folders = ['identity', 'motion_blur', 'rotate', 'translate']\n",
        "    viz_folders = ['generated_images', 'latent_spaces', 'manifolds', \n",
        "                   'histograms', 'metrics'\n",
        "                   ]\n",
        "\n",
        "    for img_folder in img_folders:\n",
        "        img_path = f'{seed_path}{img_folder}/'\n",
        "        os.mkdir(img_path)\n",
        "\n",
        "        for viz_folder in viz_folders:\n",
        "            viz_path = f'{img_path}{viz_folder}/'\n",
        "            os.mkdir(viz_path)\n",
        "\n",
        "            if viz_folder == 'histograms':\n",
        "                os.mkdir(f'{viz_path}elbo/')\n",
        "                os.mkdir(f'{viz_path}recon/')\n",
        "                os.mkdir(f'{viz_path}kldiv/')\n",
        "\n",
        "create_gdrive_output_folders(save_path, random_seed)  # Will not override existing version and seed folders"
      ],
      "execution_count": 20,
      "outputs": []
    },
    {
      "cell_type": "code",
      "metadata": {
        "id": "CesgDe_Ip3kJ",
        "colab": {
          "base_uri": "https://localhost:8080/"
        },
        "outputId": "5d33781a-89da-471c-bfe4-186f8c357ffe"
      },
      "source": [
        "vae_list = {}\n",
        "\n",
        "save_path += f'seed{random_seed}/'\n",
        "print(save_path)"
      ],
      "execution_count": 21,
      "outputs": [
        {
          "output_type": "stream",
          "text": [
            "gdrive/My Drive/Colab Notebooks/coupled_vae/vae/output/v4.3/seed303182/\n"
          ],
          "name": "stdout"
        }
      ]
    },
    {
      "cell_type": "code",
      "metadata": {
        "id": "ESLirGkZ_1oW",
        "colab": {
          "base_uri": "https://localhost:8080/",
          "height": 1000
        },
        "outputId": "5851bd49-3db0-4182-e47a-2270bd7ec86b"
      },
      "source": [
        "%%time\n",
        "from tensorflow.python.framework import ops\n",
        "\n",
        "for test_name in datasets_names[1:]:  # excluding 'mnist', only 'mnist_corrupted/*'\n",
        "    # display_name = 'original' if test_name == 'mnist' else test_name.split('/')[-1]\n",
        "    display_name = test_name.split('/')[-1]\n",
        "    display_path = save_path + display_name\n",
        "    vae_list[display_name] = VAE(z_dim=z_dim,\n",
        "                                 beta=beta,\n",
        "                                 p_std=p_std,\n",
        "                                 seed=random_seed,\n",
        "                                 loss_coupling=0.001,\n",
        "                                 analytic_kl=analytic_kl,\n",
        "                                 display_path=display_path\n",
        "                                 )\n",
        "    vae_list[display_name].train(train_dataset=datasets['mnist']['train'],\n",
        "                                 test_dataset=datasets[test_name]['test'],\n",
        "                                 test_label=datasets[test_name]['test_label'],\n",
        "                                 n_epoch=n_epoch,\n",
        "                                 n_epoch_display=n_epoch_display,\n",
        "                                 )\n",
        "    # Save to metrics tables.csv\n",
        "#   vae_list[display_name].metrics_df.to_csv(f\"{display_path}/metrics/table.csv\",\n",
        "#                                        index=False )"
      ],
      "execution_count": 22,
      "outputs": [
        {
          "output_type": "stream",
          "text": [
            "Epoch: 20, Test set Loss: 134.12637329101562, Test set Recon: 113.26647186279297, Test set KL: 20.859895706176758, time elapse for current epoch: 20.480319261550903\n"
          ],
          "name": "stdout"
        },
        {
          "output_type": "stream",
          "text": [
            "/usr/local/lib/python3.7/dist-packages/ipykernel_launcher.py:4: DeprecationWarning: The default dtype for empty Series will be 'object' instead of 'float64' in a future version. Specify a dtype explicitly to silence this warning.\n",
            "  after removing the cwd from sys.path.\n"
          ],
          "name": "stderr"
        },
        {
          "output_type": "display_data",
          "data": {
            "image/png": "[encoded data removed]",
            "text/plain": [
              "<Figure size 288x288 with 16 Axes>"
            ]
          },
          "metadata": {
            "needs_background": "light"
          }
        },
        {
          "output_type": "display_data",
          "data": {
            "image/png": "[encoded data removed]",
            "text/plain": [
              "<Figure size 288x288 with 2 Axes>"
            ]
          },
          "metadata": {
            "needs_background": "light"
          }
        },
        {
          "output_type": "display_data",
          "data": {
            "image/png": "[encoded data removed]",
            "text/plain": [
              "<Figure size 1728x720 with 1 Axes>"
            ]
          },
          "metadata": {
            "needs_background": "light"
          }
        },
        {
          "output_type": "display_data",
          "data": {
            "image/png": "[encoded data removed]",
            "text/plain": [
              "<Figure size 1728x720 with 1 Axes>"
            ]
          },
          "metadata": {
            "needs_background": "light"
          }
        },
        {
          "output_type": "display_data",
          "data": {
            "image/png": "[encoded data removed]",
            "text/plain": [
              "<Figure size 1728x720 with 1 Axes>"
            ]
          },
          "metadata": {
            "needs_background": "light"
          }
        },
        {
          "output_type": "stream",
          "text": [
            "CPU times: user 33min 8s, sys: 45.4 s, total: 33min 53s\n",
            "Wall time: 14min 17s\n"
          ],
          "name": "stdout"
        }
      ]
    },
    {
      "cell_type": "code",
      "metadata": {
        "id": "rNgwexM8UQsw",
        "colab": {
          "base_uri": "https://localhost:8080/"
        },
        "outputId": "b21ef4ae-88d9-4561-f103-4fb09e06755f"
      },
      "source": [
        "vae_list.keys()"
      ],
      "execution_count": 23,
      "outputs": [
        {
          "output_type": "execute_result",
          "data": {
            "text/plain": [
              "dict_keys(['identity'])"
            ]
          },
          "metadata": {},
          "execution_count": 23
        }
      ]
    },
    {
      "cell_type": "markdown",
      "metadata": {
        "id": "3Iy6-7zLHt-r"
      },
      "source": [
        "#### **5) Models Display**"
      ]
    },
    {
      "cell_type": "markdown",
      "metadata": {
        "id": "_ps4RQMqEX5E"
      },
      "source": [
        "Use vanilla VAE model with prior std = 1 as example"
      ]
    },
    {
      "cell_type": "code",
      "metadata": {
        "id": "xbMNo5D8EXV1"
      },
      "source": [
        "vae = vae_list['identity']"
      ],
      "execution_count": 24,
      "outputs": []
    },
    {
      "cell_type": "code",
      "metadata": {
        "id": "2M0id04neWCA"
      },
      "source": [
        "# def display_image(epoch_no):\n",
        "#     return PIL.Image.open(f\"{display_path}/generated_images/{_picture_name('images', epoch=epoch_no)}\")\n",
        "#     # return PIL.Image.open('image_at_epoch_{:04d}.png'.format(epoch_no))"
      ],
      "execution_count": null,
      "outputs": []
    },
    {
      "cell_type": "code",
      "metadata": {
        "id": "MmrpeyKmHtk-"
      },
      "source": [
        "# plt.imshow(display_image(n_epoch))\n",
        "# plt.axis('off')  # Display images"
      ],
      "execution_count": null,
      "outputs": []
    },
    {
      "cell_type": "code",
      "metadata": {
        "id": "cKoCFE7EH7AM"
      },
      "source": [
        "# anim_file = 'cvae.gif'\n",
        "\n",
        "# with imageio.get_writer(anim_file, mode='I') as writer:\n",
        "#     filenames = glob.glob('image*.png')\n",
        "#     filenames = sorted(filenames)\n",
        "#     for filename in filenames:\n",
        "#         image = imageio.imread(filename)\n",
        "#         writer.append_data(image)\n",
        "#     image = imageio.imread(filename)\n",
        "#     writer.append_data(image)"
      ],
      "execution_count": null,
      "outputs": []
    },
    {
      "cell_type": "code",
      "metadata": {
        "id": "n-iaj_akH7DY"
      },
      "source": [
        "# import tensorflow_docs.vis.embed as embed\n",
        "# embed.embed_file(anim_file)"
      ],
      "execution_count": null,
      "outputs": []
    },
    {
      "cell_type": "code",
      "metadata": {
        "id": "0WAUzHTjIC12"
      },
      "source": [
        "def plot_latent_images(model, n, digit_size=28):\n",
        "    \"\"\"Plots n x n digit images decoded from the latent space.\"\"\"\n",
        "    norm = tfp.distributions.Normal(0, 1)\n",
        "    grid_x = norm.quantile(np.linspace(0.05, 0.95, n))\n",
        "    grid_y = norm.quantile(np.linspace(0.05, 0.95, n))\n",
        "    image_width = digit_size*n\n",
        "    image_height = image_width\n",
        "    image = np.zeros((image_height, image_width))\n",
        "\n",
        "    for i, yi in enumerate(grid_x):\n",
        "        for j, xi in enumerate(grid_y):\n",
        "            z = np.array([[xi, yi]])\n",
        "            x_decoded = model.sample(z)\n",
        "            digit = tf.reshape(x_decoded[0], (digit_size, digit_size))\n",
        "            image[i * digit_size: (i + 1) * digit_size,\n",
        "                j * digit_size: (j + 1) * digit_size] = digit.numpy()\n",
        "\n",
        "    plt.figure(figsize=(10, 10))\n",
        "    plt.imshow(image, cmap='Greys_r')\n",
        "    plt.axis('Off')\n",
        "    plt.show();"
      ],
      "execution_count": 25,
      "outputs": []
    },
    {
      "cell_type": "code",
      "metadata": {
        "id": "bJ-7JvLqIC9W",
        "colab": {
          "base_uri": "https://localhost:8080/",
          "height": 347
        },
        "outputId": "403ecf88-68af-4611-b68a-6bcace69bc1a"
      },
      "source": [
        "plot_latent_images(vae.model, 20)"
      ],
      "execution_count": 26,
      "outputs": [
        {
          "output_type": "error",
          "ename": "ValueError",
          "evalue": "ignored",
          "traceback": [
            "\u001b[0;31m---------------------------------------------------------------------------\u001b[0m",
            "\u001b[0;31mValueError\u001b[0m                                Traceback (most recent call last)",
            "\u001b[0;32m<ipython-input-26-1dc55ea4fc3d>\u001b[0m in \u001b[0;36m<module>\u001b[0;34m()\u001b[0m\n\u001b[0;32m----> 1\u001b[0;31m \u001b[0mplot_latent_images\u001b[0m\u001b[0;34m(\u001b[0m\u001b[0mvae\u001b[0m\u001b[0;34m.\u001b[0m\u001b[0mmodel\u001b[0m\u001b[0;34m,\u001b[0m \u001b[0;36m20\u001b[0m\u001b[0;34m)\u001b[0m\u001b[0;34m\u001b[0m\u001b[0;34m\u001b[0m\u001b[0m\n\u001b[0m",
            "\u001b[0;32m<ipython-input-25-0cfbb695da89>\u001b[0m in \u001b[0;36mplot_latent_images\u001b[0;34m(model, n, digit_size)\u001b[0m\n\u001b[1;32m     11\u001b[0m         \u001b[0;32mfor\u001b[0m \u001b[0mj\u001b[0m\u001b[0;34m,\u001b[0m \u001b[0mxi\u001b[0m \u001b[0;32min\u001b[0m \u001b[0menumerate\u001b[0m\u001b[0;34m(\u001b[0m\u001b[0mgrid_y\u001b[0m\u001b[0;34m)\u001b[0m\u001b[0;34m:\u001b[0m\u001b[0;34m\u001b[0m\u001b[0;34m\u001b[0m\u001b[0m\n\u001b[1;32m     12\u001b[0m             \u001b[0mz\u001b[0m \u001b[0;34m=\u001b[0m \u001b[0mnp\u001b[0m\u001b[0;34m.\u001b[0m\u001b[0marray\u001b[0m\u001b[0;34m(\u001b[0m\u001b[0;34m[\u001b[0m\u001b[0;34m[\u001b[0m\u001b[0mxi\u001b[0m\u001b[0;34m,\u001b[0m \u001b[0myi\u001b[0m\u001b[0;34m]\u001b[0m\u001b[0;34m]\u001b[0m\u001b[0;34m)\u001b[0m\u001b[0;34m\u001b[0m\u001b[0;34m\u001b[0m\u001b[0m\n\u001b[0;32m---> 13\u001b[0;31m             \u001b[0mx_decoded\u001b[0m \u001b[0;34m=\u001b[0m \u001b[0mmodel\u001b[0m\u001b[0;34m.\u001b[0m\u001b[0msample\u001b[0m\u001b[0;34m(\u001b[0m\u001b[0mz\u001b[0m\u001b[0;34m)\u001b[0m\u001b[0;34m\u001b[0m\u001b[0;34m\u001b[0m\u001b[0m\n\u001b[0m\u001b[1;32m     14\u001b[0m             \u001b[0mdigit\u001b[0m \u001b[0;34m=\u001b[0m \u001b[0mtf\u001b[0m\u001b[0;34m.\u001b[0m\u001b[0mreshape\u001b[0m\u001b[0;34m(\u001b[0m\u001b[0mx_decoded\u001b[0m\u001b[0;34m[\u001b[0m\u001b[0;36m0\u001b[0m\u001b[0;34m]\u001b[0m\u001b[0;34m,\u001b[0m \u001b[0;34m(\u001b[0m\u001b[0mdigit_size\u001b[0m\u001b[0;34m,\u001b[0m \u001b[0mdigit_size\u001b[0m\u001b[0;34m)\u001b[0m\u001b[0;34m)\u001b[0m\u001b[0;34m\u001b[0m\u001b[0;34m\u001b[0m\u001b[0m\n\u001b[1;32m     15\u001b[0m             image[i * digit_size: (i + 1) * digit_size,\n",
            "\u001b[0;32m<ipython-input-14-f62e10cbf174>\u001b[0m in \u001b[0;36msample\u001b[0;34m(self, z_sample)\u001b[0m\n\u001b[1;32m      9\u001b[0m     \u001b[0;31m#@tf.function\u001b[0m\u001b[0;34m\u001b[0m\u001b[0;34m\u001b[0m\u001b[0;34m\u001b[0m\u001b[0m\n\u001b[1;32m     10\u001b[0m     \u001b[0;32mdef\u001b[0m \u001b[0msample\u001b[0m\u001b[0;34m(\u001b[0m\u001b[0mself\u001b[0m\u001b[0;34m,\u001b[0m \u001b[0mz_sample\u001b[0m\u001b[0;34m)\u001b[0m\u001b[0;34m:\u001b[0m\u001b[0;34m\u001b[0m\u001b[0;34m\u001b[0m\u001b[0m\n\u001b[0;32m---> 11\u001b[0;31m         \u001b[0mx_recons_logits\u001b[0m \u001b[0;34m=\u001b[0m \u001b[0mself\u001b[0m\u001b[0;34m.\u001b[0m\u001b[0mdecoder\u001b[0m\u001b[0;34m(\u001b[0m\u001b[0mz_sample\u001b[0m\u001b[0;34m)\u001b[0m\u001b[0;34m\u001b[0m\u001b[0;34m\u001b[0m\u001b[0m\n\u001b[0m\u001b[1;32m     12\u001b[0m         \u001b[0msample_images\u001b[0m \u001b[0;34m=\u001b[0m \u001b[0mtf\u001b[0m\u001b[0;34m.\u001b[0m\u001b[0msigmoid\u001b[0m\u001b[0;34m(\u001b[0m\u001b[0mx_recons_logits\u001b[0m\u001b[0;34m)\u001b[0m  \u001b[0;31m# predictions\u001b[0m\u001b[0;34m\u001b[0m\u001b[0;34m\u001b[0m\u001b[0m\n\u001b[1;32m     13\u001b[0m         \u001b[0;32mreturn\u001b[0m \u001b[0msample_images\u001b[0m\u001b[0;34m\u001b[0m\u001b[0;34m\u001b[0m\u001b[0m\n",
            "\u001b[0;32m/usr/local/lib/python3.7/dist-packages/keras/engine/base_layer.py\u001b[0m in \u001b[0;36m__call__\u001b[0;34m(self, *args, **kwargs)\u001b[0m\n\u001b[1;32m   1035\u001b[0m         with autocast_variable.enable_auto_cast_variables(\n\u001b[1;32m   1036\u001b[0m             self._compute_dtype_object):\n\u001b[0;32m-> 1037\u001b[0;31m           \u001b[0moutputs\u001b[0m \u001b[0;34m=\u001b[0m \u001b[0mcall_fn\u001b[0m\u001b[0;34m(\u001b[0m\u001b[0minputs\u001b[0m\u001b[0;34m,\u001b[0m \u001b[0;34m*\u001b[0m\u001b[0margs\u001b[0m\u001b[0;34m,\u001b[0m \u001b[0;34m**\u001b[0m\u001b[0mkwargs\u001b[0m\u001b[0;34m)\u001b[0m\u001b[0;34m\u001b[0m\u001b[0;34m\u001b[0m\u001b[0m\n\u001b[0m\u001b[1;32m   1038\u001b[0m \u001b[0;34m\u001b[0m\u001b[0m\n\u001b[1;32m   1039\u001b[0m         \u001b[0;32mif\u001b[0m \u001b[0mself\u001b[0m\u001b[0;34m.\u001b[0m\u001b[0m_activity_regularizer\u001b[0m\u001b[0;34m:\u001b[0m\u001b[0;34m\u001b[0m\u001b[0;34m\u001b[0m\u001b[0m\n",
            "\u001b[0;32m<ipython-input-13-8e4a9e3adf8d>\u001b[0m in \u001b[0;36mcall\u001b[0;34m(self, z)\u001b[0m\n\u001b[1;32m    105\u001b[0m     \u001b[0;31m# Functional\u001b[0m\u001b[0;34m\u001b[0m\u001b[0;34m\u001b[0m\u001b[0;34m\u001b[0m\u001b[0m\n\u001b[1;32m    106\u001b[0m     \u001b[0;32mdef\u001b[0m \u001b[0mcall\u001b[0m\u001b[0;34m(\u001b[0m\u001b[0mself\u001b[0m\u001b[0;34m,\u001b[0m \u001b[0mz\u001b[0m\u001b[0;34m)\u001b[0m\u001b[0;34m:\u001b[0m\u001b[0;34m\u001b[0m\u001b[0;34m\u001b[0m\u001b[0m\n\u001b[0;32m--> 107\u001b[0;31m         \u001b[0mx_output\u001b[0m \u001b[0;34m=\u001b[0m \u001b[0mself\u001b[0m\u001b[0;34m.\u001b[0m\u001b[0mdense_z_input\u001b[0m\u001b[0;34m(\u001b[0m\u001b[0mz\u001b[0m\u001b[0;34m)\u001b[0m\u001b[0;34m\u001b[0m\u001b[0;34m\u001b[0m\u001b[0m\n\u001b[0m\u001b[1;32m    108\u001b[0m         \u001b[0mx_output\u001b[0m \u001b[0;34m=\u001b[0m \u001b[0mself\u001b[0m\u001b[0;34m.\u001b[0m\u001b[0mreshape_layer\u001b[0m\u001b[0;34m(\u001b[0m\u001b[0mx_output\u001b[0m\u001b[0;34m)\u001b[0m\u001b[0;34m\u001b[0m\u001b[0;34m\u001b[0m\u001b[0m\n\u001b[1;32m    109\u001b[0m         \u001b[0mx_output\u001b[0m \u001b[0;34m=\u001b[0m \u001b[0mself\u001b[0m\u001b[0;34m.\u001b[0m\u001b[0mconv_transpose_layer_1\u001b[0m\u001b[0;34m(\u001b[0m\u001b[0mx_output\u001b[0m\u001b[0;34m)\u001b[0m\u001b[0;34m\u001b[0m\u001b[0;34m\u001b[0m\u001b[0m\n",
            "\u001b[0;32m/usr/local/lib/python3.7/dist-packages/keras/engine/base_layer.py\u001b[0m in \u001b[0;36m__call__\u001b[0;34m(self, *args, **kwargs)\u001b[0m\n\u001b[1;32m   1018\u001b[0m         training=training_mode):\n\u001b[1;32m   1019\u001b[0m \u001b[0;34m\u001b[0m\u001b[0m\n\u001b[0;32m-> 1020\u001b[0;31m       \u001b[0minput_spec\u001b[0m\u001b[0;34m.\u001b[0m\u001b[0massert_input_compatibility\u001b[0m\u001b[0;34m(\u001b[0m\u001b[0mself\u001b[0m\u001b[0;34m.\u001b[0m\u001b[0minput_spec\u001b[0m\u001b[0;34m,\u001b[0m \u001b[0minputs\u001b[0m\u001b[0;34m,\u001b[0m \u001b[0mself\u001b[0m\u001b[0;34m.\u001b[0m\u001b[0mname\u001b[0m\u001b[0;34m)\u001b[0m\u001b[0;34m\u001b[0m\u001b[0;34m\u001b[0m\u001b[0m\n\u001b[0m\u001b[1;32m   1021\u001b[0m       \u001b[0;32mif\u001b[0m \u001b[0meager\u001b[0m\u001b[0;34m:\u001b[0m\u001b[0;34m\u001b[0m\u001b[0;34m\u001b[0m\u001b[0m\n\u001b[1;32m   1022\u001b[0m         \u001b[0mcall_fn\u001b[0m \u001b[0;34m=\u001b[0m \u001b[0mself\u001b[0m\u001b[0;34m.\u001b[0m\u001b[0mcall\u001b[0m\u001b[0;34m\u001b[0m\u001b[0;34m\u001b[0m\u001b[0m\n",
            "\u001b[0;32m/usr/local/lib/python3.7/dist-packages/keras/engine/input_spec.py\u001b[0m in \u001b[0;36massert_input_compatibility\u001b[0;34m(input_spec, inputs, layer_name)\u001b[0m\n\u001b[1;32m    252\u001b[0m               \u001b[0;34m' incompatible with the layer: expected axis '\u001b[0m \u001b[0;34m+\u001b[0m \u001b[0mstr\u001b[0m\u001b[0;34m(\u001b[0m\u001b[0maxis\u001b[0m\u001b[0;34m)\u001b[0m \u001b[0;34m+\u001b[0m\u001b[0;34m\u001b[0m\u001b[0;34m\u001b[0m\u001b[0m\n\u001b[1;32m    253\u001b[0m               \u001b[0;34m' of input shape to have value '\u001b[0m \u001b[0;34m+\u001b[0m \u001b[0mstr\u001b[0m\u001b[0;34m(\u001b[0m\u001b[0mvalue\u001b[0m\u001b[0;34m)\u001b[0m \u001b[0;34m+\u001b[0m\u001b[0;34m\u001b[0m\u001b[0;34m\u001b[0m\u001b[0m\n\u001b[0;32m--> 254\u001b[0;31m               ' but received input with shape ' + display_shape(x.shape))\n\u001b[0m\u001b[1;32m    255\u001b[0m     \u001b[0;31m# Check shape.\u001b[0m\u001b[0;34m\u001b[0m\u001b[0;34m\u001b[0m\u001b[0;34m\u001b[0m\u001b[0m\n\u001b[1;32m    256\u001b[0m     \u001b[0;32mif\u001b[0m \u001b[0mspec\u001b[0m\u001b[0;34m.\u001b[0m\u001b[0mshape\u001b[0m \u001b[0;32mis\u001b[0m \u001b[0;32mnot\u001b[0m \u001b[0;32mNone\u001b[0m \u001b[0;32mand\u001b[0m \u001b[0mshape\u001b[0m\u001b[0;34m.\u001b[0m\u001b[0mrank\u001b[0m \u001b[0;32mis\u001b[0m \u001b[0;32mnot\u001b[0m \u001b[0;32mNone\u001b[0m\u001b[0;34m:\u001b[0m\u001b[0;34m\u001b[0m\u001b[0;34m\u001b[0m\u001b[0m\n",
            "\u001b[0;31mValueError\u001b[0m: Input 0 of layer dense is incompatible with the layer: expected axis -1 of input shape to have value 4 but received input with shape (1, 2)"
          ]
        }
      ]
    },
    {
      "cell_type": "markdown",
      "metadata": {
        "id": "4xgJdmmZjydU"
      },
      "source": [
        "Summarize history for loss"
      ]
    },
    {
      "cell_type": "code",
      "metadata": {
        "id": "9JbO6zmbH07D"
      },
      "source": [
        "def lighten_color(color, amount=0.5):\n",
        "    \"\"\"\n",
        "    Lightens the given color by multiplying (1-luminosity) by the given amount.\n",
        "    Input can be matplotlib color string, hex string, or RGB tuple.\n",
        "\n",
        "    Examples:\n",
        "    >> lighten_color('g', 0.3)\n",
        "    >> lighten_color('#F034A3', 0.6)\n",
        "    >> lighten_color((.3,.55,.1), 0.5)\n",
        "    \"\"\"\n",
        "    import matplotlib.colors as mc\n",
        "    import colorsys\n",
        "    try:\n",
        "        c = mc.cnames[color]\n",
        "    except:\n",
        "        c = color\n",
        "    c = colorsys.rgb_to_hls(*mc.to_rgb(c))\n",
        "    return colorsys.hls_to_rgb(c[0], 1 - amount * (1 - c[1]), c[2])"
      ],
      "execution_count": null,
      "outputs": []
    },
    {
      "cell_type": "code",
      "metadata": {
        "id": "HSHeI2hpEsQf"
      },
      "source": [
        "x = range(1, n_epoch + 1)"
      ],
      "execution_count": null,
      "outputs": []
    },
    {
      "cell_type": "code",
      "metadata": {
        "id": "eWAtSqOUubQF"
      },
      "source": [
        "for key, vae in vae_list.items():\n",
        "    y = vae.metrics_df['neg_elbo']\n",
        "    plt.plot(x, y, label=key)\n",
        "plt.title('VAE Total Loss vs Epoch')\n",
        "plt.ylabel('Total Loss (negELBO)')\n",
        "plt.xlabel('Epoch')\n",
        "# plt.ylim(ymin=0)\n",
        "plt.legend(title='MNIST type')\n",
        "plt.rcParams[\"figure.figsize\"] = (16, 10)\n",
        "plt.show();"
      ],
      "execution_count": null,
      "outputs": []
    },
    {
      "cell_type": "code",
      "metadata": {
        "id": "0CTC0_Guu3mV"
      },
      "source": [
        "for key, vae in vae_list.items():\n",
        "    y = vae.metrics_df['recon_loss']\n",
        "    plt.plot(x, y, label=key)\n",
        "plt.title('VAE Reconstruction Loss vs Epoch')\n",
        "plt.ylabel('Reconstruction Loss (NLL)')\n",
        "plt.xlabel('Epoch')\n",
        "# plt.ylim(ymin=0)\n",
        "plt.legend(title='beta')\n",
        "plt.rcParams[\"figure.figsize\"] = (16, 10)\n",
        "plt.show();"
      ],
      "execution_count": null,
      "outputs": []
    },
    {
      "cell_type": "code",
      "metadata": {
        "id": "R03g1dnNu5M0"
      },
      "source": [
        "for key, vae in vae_list.items():\n",
        "    y = vae.metrics_df['kl_div']\n",
        "    plt.plot(x, y, label=key)\n",
        "plt.title('VAE KL-Divergence vs Epoch')\n",
        "plt.ylabel('KL-Divergence')\n",
        "plt.xlabel('Epoch')\n",
        "# plt.ylim(ymin=0)\n",
        "plt.legend(title='beta')\n",
        "plt.rcParams[\"figure.figsize\"] = (16, 10)\n",
        "plt.show();"
      ],
      "execution_count": null,
      "outputs": []
    },
    {
      "cell_type": "code",
      "metadata": {
        "id": "fqGxrCeZvkDz"
      },
      "source": [
        ""
      ],
      "execution_count": null,
      "outputs": []
    }
  ]
}