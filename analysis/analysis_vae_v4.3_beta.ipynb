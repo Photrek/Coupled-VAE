{
  "nbformat": 4,
  "nbformat_minor": 0,
  "metadata": {
    "accelerator": "GPU",
    "colab": {
      "name": "analysis_vae_v4.3_beta.ipynb",
      "provenance": [],
      "collapsed_sections": []
    },
    "kernelspec": {
      "display_name": "Python 3",
      "language": "python",
      "name": "python3"
    },
    "language_info": {
      "codemirror_mode": {
        "name": "ipython",
        "version": 3
      },
      "file_extension": ".py",
      "mimetype": "text/x-python",
      "name": "python",
      "nbconvert_exporter": "python",
      "pygments_lexer": "ipython3",
      "version": "3.7.1"
    }
  },
  "cells": [
    {
      "cell_type": "markdown",
      "metadata": {
        "id": "MEJjn06qaEDP"
      },
      "source": [
        "#### **1) Libraries**"
      ]
    },
    {
      "cell_type": "code",
      "metadata": {
        "id": "cPyJih55aEDQ"
      },
      "source": [
        "# Don't forget to restart\n",
        "# !pip install -U tensorflow_probability -q\n",
        "!pip install ipdb -q\n",
        "# !pip install ipdb tensorflow==2.5.0 -q\n",
        "# !pip install git+https://github.com/tensorflow/docs -q\n",
        "# !pip install -U -i https://test.pypi.org/simple/ nsc -q"
      ],
      "execution_count": 10,
      "outputs": []
    },
    {
      "cell_type": "code",
      "metadata": {
        "id": "c_sk90OFaEDT"
      },
      "source": [
        "from IPython import display\n",
        "\n",
        "import ipdb\n",
        "import math\n",
        "import glob\n",
        "import imageio\n",
        "import matplotlib\n",
        "import matplotlib.image as mpimg\n",
        "import matplotlib.pyplot as plt\n",
        "# import seaborn as sns\n",
        "# sns.set()\n",
        "\n",
        "import numpy as np\n",
        "import pandas as pd\n",
        "import PIL\n",
        "import tensorflow as tf\n",
        "import tensorflow_datasets as tfds\n",
        "import tensorflow_probability as tfp\n",
        "import time\n",
        "from datetime import datetime\n",
        "import os\n",
        "import random\n",
        "from tqdm import tqdm\n",
        "from collections import defaultdict\n",
        "\n",
        "from tensorflow import keras as tfk\n",
        "from tensorflow.keras import layers as tfkl\n",
        "from tensorflow.keras.layers import Input, InputLayer, Lambda, Reshape, Dropout, \\\n",
        "                                    Flatten, Dense, Conv2D, Conv2DTranspose"
      ],
      "execution_count": 11,
      "outputs": []
    },
    {
      "cell_type": "code",
      "metadata": {
        "colab": {
          "base_uri": "https://localhost:8080/"
        },
        "id": "lH0o4f7xUfUQ",
        "outputId": "6d8e34a4-c3a5-49c0-f32b-9fda8f4e3c71"
      },
      "source": [
        "pip list | grep tensorflow"
      ],
      "execution_count": 12,
      "outputs": [
        {
          "output_type": "stream",
          "text": [
            "tensorflow                    2.6.0\n",
            "tensorflow-datasets           4.0.1\n",
            "tensorflow-estimator          2.6.0\n",
            "tensorflow-gcs-config         2.6.0\n",
            "tensorflow-hub                0.12.0\n",
            "tensorflow-metadata           1.2.0\n",
            "tensorflow-probability        0.13.0\n"
          ],
          "name": "stdout"
        }
      ]
    },
    {
      "cell_type": "code",
      "metadata": {
        "colab": {
          "base_uri": "https://localhost:8080/"
        },
        "id": "P1M4C3hA88oN",
        "outputId": "a9419538-ebf0-4c2e-cd8e-20cc96619390"
      },
      "source": [
        "if tf.test.gpu_device_name() != '/device:GPU:0':\n",
        "    print('WARNING: GPU device not found.')\n",
        "else:\n",
        "    print('SUCCESS: Found GPU: {}'.format(tf.test.gpu_device_name()))"
      ],
      "execution_count": 13,
      "outputs": [
        {
          "output_type": "stream",
          "text": [
            "SUCCESS: Found GPU: /device:GPU:0\n"
          ],
          "name": "stdout"
        }
      ]
    },
    {
      "cell_type": "code",
      "metadata": {
        "colab": {
          "base_uri": "https://localhost:8080/"
        },
        "id": "LTEQ7kMIQ8cg",
        "outputId": "10ac9c3c-d4da-44c2-a10a-a8fd50382615"
      },
      "source": [
        "# List all physical devices\n",
        "tf.config.list_physical_devices()"
      ],
      "execution_count": 14,
      "outputs": [
        {
          "output_type": "execute_result",
          "data": {
            "text/plain": [
              "[PhysicalDevice(name='/physical_device:CPU:0', device_type='CPU'),\n",
              " PhysicalDevice(name='/physical_device:GPU:0', device_type='GPU')]"
            ]
          },
          "metadata": {},
          "execution_count": 14
        }
      ]
    },
    {
      "cell_type": "markdown",
      "metadata": {
        "id": "D1m4X6DJGb52"
      },
      "source": [
        "If using Google Colab, save in your Google Drive."
      ]
    },
    {
      "cell_type": "code",
      "metadata": {
        "colab": {
          "base_uri": "https://localhost:8080/"
        },
        "id": "zcpWSzBBGayV",
        "outputId": "62704d8d-e1c6-447f-df89-827e56444cc4"
      },
      "source": [
        "from google.colab import drive\n",
        "\n",
        "drive.mount('/content/gdrive')"
      ],
      "execution_count": 49,
      "outputs": [
        {
          "output_type": "stream",
          "text": [
            "Drive already mounted at /content/gdrive; to attempt to forcibly remount, call drive.mount(\"/content/gdrive\", force_remount=True).\n"
          ],
          "name": "stdout"
        }
      ]
    },
    {
      "cell_type": "markdown",
      "metadata": {
        "id": "4RKA0uShaEDW"
      },
      "source": [
        "#### **2) Extract Metrics**"
      ]
    },
    {
      "cell_type": "code",
      "metadata": {
        "colab": {
          "base_uri": "https://localhost:8080/",
          "height": 35
        },
        "id": "DQCD6Zw4Wcza",
        "outputId": "cd88e500-5598-4eb9-e6ce-02cca1d3cb62"
      },
      "source": [
        "version = 'v4.3_beta'\n",
        "seed = 377295\n",
        "base_path = f'gdrive/My Drive/Colab Notebooks/coupled_vae/vae/output/{version}/seed{seed}/'\n",
        "base_path"
      ],
      "execution_count": 62,
      "outputs": [
        {
          "output_type": "execute_result",
          "data": {
            "application/vnd.google.colaboratory.intrinsic+json": {
              "type": "string"
            },
            "text/plain": [
              "'gdrive/My Drive/Colab Notebooks/coupled_vae/vae/output/v4.3_beta/seed377295/'"
            ]
          },
          "metadata": {},
          "execution_count": 62
        }
      ]
    },
    {
      "cell_type": "code",
      "metadata": {
        "id": "UiONFM1CGLAn"
      },
      "source": [
        "metrics_col = ['image', 'beta', 'p_std', 'epoch',\n",
        "               'neg_elbo', 'recon_loss', 'kl_div',\n",
        "               'elbo_decisiveness', 'elbo_accuracy', 'elbo_robustness',\n",
        "               'recon_decisiveness', 'recon_accuracy', 'recon_robustness',\n",
        "               'kldiv_accuracy', 'kldiv_decisiveness', 'kldiv_robustness'\n",
        "               ]"
      ],
      "execution_count": 68,
      "outputs": []
    },
    {
      "cell_type": "code",
      "metadata": {
        "colab": {
          "base_uri": "https://localhost:8080/",
          "height": 67
        },
        "id": "WXji74zQjIWX",
        "outputId": "7e985411-23b1-4dc3-d1f6-0c1c102242cc"
      },
      "source": [
        "metrics_df = pd.DataFrame(columns=metrics_col)\n",
        "metrics_df"
      ],
      "execution_count": 69,
      "outputs": [
        {
          "output_type": "execute_result",
          "data": {
            "text/html": [
              "<div>\n",
              "<style scoped>\n",
              "    .dataframe tbody tr th:only-of-type {\n",
              "        vertical-align: middle;\n",
              "    }\n",
              "\n",
              "    .dataframe tbody tr th {\n",
              "        vertical-align: top;\n",
              "    }\n",
              "\n",
              "    .dataframe thead th {\n",
              "        text-align: right;\n",
              "    }\n",
              "</style>\n",
              "<table border=\"1\" class=\"dataframe\">\n",
              "  <thead>\n",
              "    <tr style=\"text-align: right;\">\n",
              "      <th></th>\n",
              "      <th>image</th>\n",
              "      <th>beta</th>\n",
              "      <th>p_std</th>\n",
              "      <th>epoch</th>\n",
              "      <th>neg_elbo</th>\n",
              "      <th>recon_loss</th>\n",
              "      <th>kl_div</th>\n",
              "      <th>elbo_decisiveness</th>\n",
              "      <th>elbo_accuracy</th>\n",
              "      <th>elbo_robustness</th>\n",
              "      <th>recon_decisiveness</th>\n",
              "      <th>recon_accuracy</th>\n",
              "      <th>recon_robustness</th>\n",
              "      <th>kldiv_accuracy</th>\n",
              "      <th>kldiv_decisiveness</th>\n",
              "      <th>kldiv_robustness</th>\n",
              "    </tr>\n",
              "  </thead>\n",
              "  <tbody>\n",
              "  </tbody>\n",
              "</table>\n",
              "</div>"
            ],
            "text/plain": [
              "Empty DataFrame\n",
              "Columns: [image, beta, p_std, epoch, neg_elbo, recon_loss, kl_div, elbo_decisiveness, elbo_accuracy, elbo_robustness, recon_decisiveness, recon_accuracy, recon_robustness, kldiv_accuracy, kldiv_decisiveness, kldiv_robustness]\n",
              "Index: []"
            ]
          },
          "metadata": {},
          "execution_count": 69
        }
      ]
    },
    {
      "cell_type": "code",
      "metadata": {
        "id": "CRyFOLOBlQ8p"
      },
      "source": [
        "beta_list = [0.25, 0.5, 0.75, 1, 1.25, 1.5, 1.75, 2, 3, 4]\n",
        "p_std_list = beta_list\n",
        "images = ['identity']\n",
        "# images = ['identity', 'motion_blur', 'translate', 'rotate']"
      ],
      "execution_count": 70,
      "outputs": []
    },
    {
      "cell_type": "code",
      "metadata": {
        "colab": {
          "base_uri": "https://localhost:8080/"
        },
        "id": "CloXaNe8lRGw",
        "outputId": "16ee5c01-70c0-434b-dc59-060fe7892ccf"
      },
      "source": [
        "%%time\n",
        "for beta in beta_list:\n",
        "    for image in images:\n",
        "        dir_path = f'{base_path}beta{beta}/{image}/metrics/'\n",
        "        input_df = pd.read_csv(f'{dir_path}table.csv')\n",
        "        input_df['image'] = image\n",
        "        input_df['beta'] = beta\n",
        "        input_df['p_std'] = 1\n",
        "        input_df.dropna(axis=1, inplace=True)\n",
        "        metrics_df = metrics_df.append(input_df)\n",
        "\n",
        "for p_std in p_std_list:\n",
        "    for image in images:\n",
        "        dir_path = f'{base_path}p_std{p_std}/{image}/metrics/'\n",
        "        input_df = pd.read_csv(f'{dir_path}table.csv')\n",
        "        input_df['image'] = image\n",
        "        input_df['beta'] = 1\n",
        "        input_df['p_std'] = p_std\n",
        "        input_df.dropna(axis=1, inplace=True)\n",
        "        metrics_df = metrics_df.append(input_df)\n",
        "\n",
        "metrics_df.drop_duplicates(subset=['image', 'beta', 'p_std', 'epoch'], inplace=True)"
      ],
      "execution_count": 71,
      "outputs": [
        {
          "output_type": "stream",
          "text": [
            "CPU times: user 156 ms, sys: 9.09 ms, total: 165 ms\n",
            "Wall time: 199 ms\n"
          ],
          "name": "stdout"
        }
      ]
    },
    {
      "cell_type": "code",
      "metadata": {
        "colab": {
          "base_uri": "https://localhost:8080/"
        },
        "id": "1n3uEyeLlsK0",
        "outputId": "ca1141f5-e9cc-4938-a44b-70a01ca786c5"
      },
      "source": [
        "metrics_df.shape"
      ],
      "execution_count": 72,
      "outputs": [
        {
          "output_type": "execute_result",
          "data": {
            "text/plain": [
              "(950, 16)"
            ]
          },
          "metadata": {},
          "execution_count": 72
        }
      ]
    },
    {
      "cell_type": "code",
      "metadata": {
        "colab": {
          "base_uri": "https://localhost:8080/",
          "height": 215
        },
        "id": "vbZ09XJ5nWZG",
        "outputId": "04375811-6492-4813-ffcf-c7b676555291"
      },
      "source": [
        "metrics_df.head()"
      ],
      "execution_count": 73,
      "outputs": [
        {
          "output_type": "execute_result",
          "data": {
            "text/html": [
              "<div>\n",
              "<style scoped>\n",
              "    .dataframe tbody tr th:only-of-type {\n",
              "        vertical-align: middle;\n",
              "    }\n",
              "\n",
              "    .dataframe tbody tr th {\n",
              "        vertical-align: top;\n",
              "    }\n",
              "\n",
              "    .dataframe thead th {\n",
              "        text-align: right;\n",
              "    }\n",
              "</style>\n",
              "<table border=\"1\" class=\"dataframe\">\n",
              "  <thead>\n",
              "    <tr style=\"text-align: right;\">\n",
              "      <th></th>\n",
              "      <th>image</th>\n",
              "      <th>beta</th>\n",
              "      <th>p_std</th>\n",
              "      <th>epoch</th>\n",
              "      <th>neg_elbo</th>\n",
              "      <th>recon_loss</th>\n",
              "      <th>kl_div</th>\n",
              "      <th>elbo_decisiveness</th>\n",
              "      <th>elbo_accuracy</th>\n",
              "      <th>elbo_robustness</th>\n",
              "      <th>recon_decisiveness</th>\n",
              "      <th>recon_accuracy</th>\n",
              "      <th>recon_robustness</th>\n",
              "      <th>kldiv_accuracy</th>\n",
              "      <th>kldiv_decisiveness</th>\n",
              "      <th>kldiv_robustness</th>\n",
              "    </tr>\n",
              "  </thead>\n",
              "  <tbody>\n",
              "    <tr>\n",
              "      <th>0</th>\n",
              "      <td>identity</td>\n",
              "      <td>0.25</td>\n",
              "      <td>1</td>\n",
              "      <td>1.0</td>\n",
              "      <td>185.062195</td>\n",
              "      <td>182.766663</td>\n",
              "      <td>9.182101</td>\n",
              "      <td>2.133231e-40</td>\n",
              "      <td>4.342211e-84</td>\n",
              "      <td>2.344321e-138</td>\n",
              "      <td>8.876182e-35</td>\n",
              "      <td>4.221308e-80</td>\n",
              "      <td>4.447067e-134</td>\n",
              "      <td>0.000103</td>\n",
              "      <td>0.000167</td>\n",
              "      <td>4.957852e-05</td>\n",
              "    </tr>\n",
              "    <tr>\n",
              "      <th>1</th>\n",
              "      <td>identity</td>\n",
              "      <td>0.25</td>\n",
              "      <td>1</td>\n",
              "      <td>2.0</td>\n",
              "      <td>168.187622</td>\n",
              "      <td>165.424500</td>\n",
              "      <td>11.052506</td>\n",
              "      <td>1.183048e-28</td>\n",
              "      <td>2.275128e-77</td>\n",
              "      <td>3.953406e-142</td>\n",
              "      <td>1.003851e-20</td>\n",
              "      <td>1.435650e-72</td>\n",
              "      <td>3.205243e-137</td>\n",
              "      <td>0.000016</td>\n",
              "      <td>0.000031</td>\n",
              "      <td>1.787402e-06</td>\n",
              "    </tr>\n",
              "    <tr>\n",
              "      <th>2</th>\n",
              "      <td>identity</td>\n",
              "      <td>0.25</td>\n",
              "      <td>1</td>\n",
              "      <td>3.0</td>\n",
              "      <td>162.461868</td>\n",
              "      <td>159.685760</td>\n",
              "      <td>11.104439</td>\n",
              "      <td>8.992637e-27</td>\n",
              "      <td>6.710613e-75</td>\n",
              "      <td>4.110693e-163</td>\n",
              "      <td>3.931475e-19</td>\n",
              "      <td>4.460240e-70</td>\n",
              "      <td>1.806171e-158</td>\n",
              "      <td>0.000015</td>\n",
              "      <td>0.000037</td>\n",
              "      <td>1.484592e-06</td>\n",
              "    </tr>\n",
              "    <tr>\n",
              "      <th>3</th>\n",
              "      <td>identity</td>\n",
              "      <td>0.25</td>\n",
              "      <td>1</td>\n",
              "      <td>4.0</td>\n",
              "      <td>157.055756</td>\n",
              "      <td>154.111542</td>\n",
              "      <td>11.776856</td>\n",
              "      <td>4.186639e-26</td>\n",
              "      <td>9.027996e-73</td>\n",
              "      <td>7.916948e-160</td>\n",
              "      <td>1.222939e-18</td>\n",
              "      <td>1.175479e-67</td>\n",
              "      <td>7.112126e-155</td>\n",
              "      <td>0.000008</td>\n",
              "      <td>0.000021</td>\n",
              "      <td>1.032302e-06</td>\n",
              "    </tr>\n",
              "    <tr>\n",
              "      <th>4</th>\n",
              "      <td>identity</td>\n",
              "      <td>0.25</td>\n",
              "      <td>1</td>\n",
              "      <td>5.0</td>\n",
              "      <td>154.655136</td>\n",
              "      <td>151.596573</td>\n",
              "      <td>12.234230</td>\n",
              "      <td>1.077889e-25</td>\n",
              "      <td>7.066235e-72</td>\n",
              "      <td>7.168764e-151</td>\n",
              "      <td>7.077504e-18</td>\n",
              "      <td>1.453607e-66</td>\n",
              "      <td>1.373816e-145</td>\n",
              "      <td>0.000005</td>\n",
              "      <td>0.000014</td>\n",
              "      <td>7.159843e-07</td>\n",
              "    </tr>\n",
              "  </tbody>\n",
              "</table>\n",
              "</div>"
            ],
            "text/plain": [
              "      image  beta p_std  ...  kldiv_accuracy  kldiv_decisiveness  kldiv_robustness\n",
              "0  identity  0.25     1  ...        0.000103            0.000167      4.957852e-05\n",
              "1  identity  0.25     1  ...        0.000016            0.000031      1.787402e-06\n",
              "2  identity  0.25     1  ...        0.000015            0.000037      1.484592e-06\n",
              "3  identity  0.25     1  ...        0.000008            0.000021      1.032302e-06\n",
              "4  identity  0.25     1  ...        0.000005            0.000014      7.159843e-07\n",
              "\n",
              "[5 rows x 16 columns]"
            ]
          },
          "metadata": {},
          "execution_count": 73
        }
      ]
    },
    {
      "cell_type": "code",
      "metadata": {
        "colab": {
          "base_uri": "https://localhost:8080/"
        },
        "id": "Ie-5yfn4oXy1",
        "outputId": "29da8d2e-21eb-4511-ca61-bdf25a8636ae"
      },
      "source": [
        "metrics_df['image'].unique()"
      ],
      "execution_count": 74,
      "outputs": [
        {
          "output_type": "execute_result",
          "data": {
            "text/plain": [
              "array(['identity'], dtype=object)"
            ]
          },
          "metadata": {},
          "execution_count": 74
        }
      ]
    },
    {
      "cell_type": "code",
      "metadata": {
        "colab": {
          "base_uri": "https://localhost:8080/"
        },
        "id": "i_uWdM7RF6yL",
        "outputId": "7af2ab92-4464-45c1-fe30-75d4f1f2f92e"
      },
      "source": [
        "metrics_df.columns"
      ],
      "execution_count": 19,
      "outputs": [
        {
          "output_type": "execute_result",
          "data": {
            "text/plain": [
              "Index(['epoch', 'neg_elbo', 'recon_loss', 'kl_div', 'elbo_decisiveness',\n",
              "       'elbo_accuracy', 'elbo_robustness', 'recon_decisiveness',\n",
              "       'recon_accuracy', 'recon_robustness', 'kl_decisiveness', 'kl_accuracy',\n",
              "       'kl_robustness', 'kldiv_accuracy', 'kldiv_decisiveness',\n",
              "       'kldiv_robustness'],\n",
              "      dtype='object')"
            ]
          },
          "metadata": {},
          "execution_count": 19
        }
      ]
    },
    {
      "cell_type": "code",
      "metadata": {
        "id": "edLKIPNaF6-I"
      },
      "source": [
        ""
      ],
      "execution_count": 19,
      "outputs": []
    },
    {
      "cell_type": "markdown",
      "metadata": {
        "id": "H_BubzlmmK-a"
      },
      "source": [
        "#### **3) Extract Images**"
      ]
    },
    {
      "cell_type": "code",
      "metadata": {
        "colab": {
          "base_uri": "https://localhost:8080/",
          "height": 266
        },
        "id": "POwcUMvEWpX4",
        "outputId": "41020a3b-9f09-4c86-fd40-de789fa2866a"
      },
      "source": [
        "# Read Images\n",
        "img = mpimg.imread(save_path + 'latent_spaces/latent_cdX_clX_epoch50.png')\n",
        "image_size = 4\n",
        "\n",
        "# Output Images\n",
        "fig, ax = plt.subplots()\n",
        "ax.imshow(img)\n",
        "ax.axis('off')  # clear x-axis and y-axis\n",
        "\n",
        "\n",
        "# plt.imshow(img)\n",
        "# # plt.figure(figsize=(image_size, image_size))\n",
        "# plt.axis('off')\n",
        "# plt.show();"
      ],
      "execution_count": 20,
      "outputs": [
        {
          "output_type": "execute_result",
          "data": {
            "text/plain": [
              "(-0.5, 287.5, 287.5, -0.5)"
            ]
          },
          "metadata": {},
          "execution_count": 20
        },
        {
          "output_type": "display_data",
          "data": {
            "image/png": "[encoded data removed]",
            "text/plain": [
              "<Figure size 432x288 with 1 Axes>"
            ]
          },
          "metadata": {
            "needs_background": "light"
          }
        }
      ]
    },
    {
      "cell_type": "markdown",
      "metadata": {
        "id": "vkEy_dsVEPDU"
      },
      "source": [
        "#### **3) Show Results**"
      ]
    },
    {
      "cell_type": "code",
      "metadata": {
        "id": "2pFSH8yXEL_W"
      },
      "source": [
        ""
      ],
      "execution_count": 20,
      "outputs": []
    },
    {
      "cell_type": "code",
      "metadata": {
        "id": "u1hMuIvHEUl_"
      },
      "source": [
        ""
      ],
      "execution_count": 20,
      "outputs": []
    },
    {
      "cell_type": "markdown",
      "metadata": {
        "id": "iL8X96aSEV_-"
      },
      "source": [
        "#### **4) GIFS**"
      ]
    },
    {
      "cell_type": "code",
      "metadata": {
        "id": "IviuVz2WEUs3"
      },
      "source": [
        ""
      ],
      "execution_count": 20,
      "outputs": []
    },
    {
      "cell_type": "code",
      "metadata": {
        "id": "KBrA9g-CEUvS"
      },
      "source": [
        ""
      ],
      "execution_count": 20,
      "outputs": []
    }
  ]
}